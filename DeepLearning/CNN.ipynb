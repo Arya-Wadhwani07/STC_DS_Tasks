{
  "nbformat": 4,
  "nbformat_minor": 0,
  "metadata": {
    "colab": {
      "name": "CNN.ipynb",
      "provenance": []
    },
    "kernelspec": {
      "name": "python3",
      "display_name": "Python 3"
    },
    "language_info": {
      "name": "python"
    },
    "accelerator": "GPU"
  },
  "cells": [
    {
      "cell_type": "markdown",
      "metadata": {
        "id": "D7VTxM1u1dgM"
      },
      "source": [
        "#Kernel and Data Processing"
      ]
    },
    {
      "cell_type": "code",
      "metadata": {
        "id": "YEummKSI1ljB"
      },
      "source": [
        "import numpy as np"
      ],
      "execution_count": null,
      "outputs": []
    },
    {
      "cell_type": "code",
      "metadata": {
        "id": "Z0TPn-iZ1puo"
      },
      "source": [
        "input=np.random.randint(20,size=(4,4))\n",
        "kernel=np.random.randint(5,size=(2,2))\n",
        "input_length=input.shape[0]\n",
        "input_width=input.shape[1]\n",
        "kernel_length=kernel.shape[0]\n",
        "kernel_width=kernel.shape[1]"
      ],
      "execution_count": null,
      "outputs": []
    },
    {
      "cell_type": "code",
      "metadata": {
        "id": "moX12L3E1vHE"
      },
      "source": [
        "output_length=input_length-kernel_length+1\n",
        "output_width=input_width-kernel_width+1\n",
        "output=np.zeros((output_length,output_width))"
      ],
      "execution_count": null,
      "outputs": []
    },
    {
      "cell_type": "code",
      "metadata": {
        "id": "ujEhho3k21KJ"
      },
      "source": [
        "for i in range(0,output_length):\n",
        "  for j in range(0,output_width):\n",
        "    for ii in range(0,kernel_length):\n",
        "      for jj in range(0,kernel_width):\n",
        "        output[i,j]+=input[i+ii,j+jj]*kernel[ii,jj]"
      ],
      "execution_count": null,
      "outputs": []
    },
    {
      "cell_type": "code",
      "metadata": {
        "colab": {
          "base_uri": "https://localhost:8080/"
        },
        "id": "eDubNqEr3PHt",
        "outputId": "5687e680-e23a-4e6c-ce5c-78f04125ef29"
      },
      "source": [
        "print(input,\"\\n\",kernel,\"\\n\",output)"
      ],
      "execution_count": null,
      "outputs": [
        {
          "output_type": "stream",
          "text": [
            "[[16 11 19  6]\n",
            " [15  0  3  5]\n",
            " [10  4  6  3]\n",
            " [ 4 16  5  2]] \n",
            " [[1 0]\n",
            " [2 3]] \n",
            " [[46. 20. 40.]\n",
            " [47. 26. 24.]\n",
            " [66. 51. 22.]]\n"
          ],
          "name": "stdout"
        }
      ]
    },
    {
      "cell_type": "code",
      "metadata": {
        "id": "QFILeksR3QK8"
      },
      "source": [
        ""
      ],
      "execution_count": null,
      "outputs": []
    },
    {
      "cell_type": "markdown",
      "metadata": {
        "id": "bbCFwJ-1YB4k"
      },
      "source": [
        "# Fashion MNIST CNN Classification"
      ]
    },
    {
      "cell_type": "code",
      "metadata": {
        "id": "r5i1mX8_YGhY"
      },
      "source": [
        "# Importing the necessary libraries\n",
        "import numpy as np\n",
        "import matplotlib.pyplot as plt\n",
        "# Since we will be using a functional API we import in this manner\n",
        "from tensorflow.keras.layers import Dense,Input,Conv2D,Flatten,Dropout\n",
        "from tensorflow.keras.models import Model  \n",
        "import tensorflow as tf"
      ],
      "execution_count": null,
      "outputs": []
    },
    {
      "cell_type": "code",
      "metadata": {
        "id": "Ut6Sl6ULYq_H"
      },
      "source": [
        "# Now we will import the already existing Fashion MNIST Dataset from tensorflow\n",
        "data=tf.keras.datasets.fashion_mnist\n",
        "# By calling the load_data() we will get two set of tuples for training and validation\n",
        "(X_train,y_train),(X_test,y_test)=data.load_data()"
      ],
      "execution_count": null,
      "outputs": []
    },
    {
      "cell_type": "code",
      "metadata": {
        "colab": {
          "base_uri": "https://localhost:8080/"
        },
        "id": "o5DqNdbaZAP4",
        "outputId": "3898ff63-f964-4792-af86-f6f81027f57b"
      },
      "source": [
        "# Now our next step will be to normalise\n",
        "X_train=X_train/255.0\n",
        "X_test=X_test/255.0\n",
        "# Since it is a CNN Model, it will require a vector of the from N X K X K X C\n",
        "# Here N is the number of features\n",
        "# K is the dimensions of the picture in terms of pixels\n",
        "# C is the colour. Here it being a grayscale, we will have C=1\n",
        "X_train=np.expand_dims(X_train,-1)\n",
        "X_test=np.expand_dims(X_test,-1)\n",
        "print(X_train.shape)\n",
        "print(X_test.shape)"
      ],
      "execution_count": null,
      "outputs": [
        {
          "output_type": "stream",
          "text": [
            "(60000, 28, 28, 1)\n",
            "(10000, 28, 28, 1)\n"
          ],
          "name": "stdout"
        }
      ]
    },
    {
      "cell_type": "code",
      "metadata": {
        "colab": {
          "base_uri": "https://localhost:8080/"
        },
        "id": "VOv_qXTvcJqx",
        "outputId": "c3eb5ce1-ef63-45b4-9a7b-7e76b3f7586e"
      },
      "source": [
        "# Here we will see the length of the output class i.e. number of unique items\n",
        "print(len(set(y_train)))\n",
        "K=len(set(y_train))"
      ],
      "execution_count": null,
      "outputs": [
        {
          "output_type": "stream",
          "text": [
            "10\n"
          ],
          "name": "stdout"
        }
      ]
    },
    {
      "cell_type": "code",
      "metadata": {
        "id": "bKu1JdroZNwB"
      },
      "source": [
        "# plt.imshow(X_train[0].reshape(28,28),cmap='gray')\n",
        "# print(y_train[0])\n",
        "# Now let us build the model\n",
        "i=Input(shape=X_train[0].shape)\n",
        "x=Conv2D(32,(3,3),strides=2,activation='relu')(i) # Here 32 represents the number of featurs. Strides represent the division. \n",
        "x=Conv2D(64,(3,3),strides=2,activation='relu')(x) # Tuple represets the shape of the filter\n",
        "x=Conv2D(128,(3,3),strides=2,activation='relu')(x) \n",
        "x=Flatten()(x) #Flatten is the stacking up of all layers\n",
        "x=Dropout(0.2)(x)\n",
        "x=Dense(512,activation='relu')(x)\n",
        "x=Dropout(0.2)(x)\n",
        "x=Dense(K,activation='softmax')(x)\n",
        "model=Model(i,x)"
      ],
      "execution_count": null,
      "outputs": []
    },
    {
      "cell_type": "code",
      "metadata": {
        "colab": {
          "base_uri": "https://localhost:8080/"
        },
        "id": "urY7pMTYaaU3",
        "outputId": "46de63e9-e65d-459c-ddcc-0b30202a2d9c"
      },
      "source": [
        "# Compiling the model\n",
        "model.compile(optimizer='adam', loss='sparse_categorical_crossentropy',metrics=['accuracy'])\n",
        "#Fitting the model on the dataset\n",
        "r=model.fit(X_train,y_train,validation_data=(X_test,y_test),epochs=15)"
      ],
      "execution_count": null,
      "outputs": [
        {
          "output_type": "stream",
          "text": [
            "Epoch 1/15\n",
            "1875/1875 [==============================] - 29s 15ms/step - loss: 0.6910 - accuracy: 0.7476 - val_loss: 0.3981 - val_accuracy: 0.8505\n",
            "Epoch 2/15\n",
            "1875/1875 [==============================] - 28s 15ms/step - loss: 0.3712 - accuracy: 0.8611 - val_loss: 0.3408 - val_accuracy: 0.8749\n",
            "Epoch 3/15\n",
            "1875/1875 [==============================] - 28s 15ms/step - loss: 0.3183 - accuracy: 0.8796 - val_loss: 0.3129 - val_accuracy: 0.8840\n",
            "Epoch 4/15\n",
            "1875/1875 [==============================] - 28s 15ms/step - loss: 0.2793 - accuracy: 0.8959 - val_loss: 0.3064 - val_accuracy: 0.8869\n",
            "Epoch 5/15\n",
            "1875/1875 [==============================] - 28s 15ms/step - loss: 0.2549 - accuracy: 0.9032 - val_loss: 0.3047 - val_accuracy: 0.8873\n",
            "Epoch 6/15\n",
            "1875/1875 [==============================] - 28s 15ms/step - loss: 0.2263 - accuracy: 0.9144 - val_loss: 0.2939 - val_accuracy: 0.8944\n",
            "Epoch 7/15\n",
            "1875/1875 [==============================] - 29s 15ms/step - loss: 0.2079 - accuracy: 0.9209 - val_loss: 0.2994 - val_accuracy: 0.8943\n",
            "Epoch 8/15\n",
            "1875/1875 [==============================] - 28s 15ms/step - loss: 0.1970 - accuracy: 0.9254 - val_loss: 0.3197 - val_accuracy: 0.8936\n",
            "Epoch 9/15\n",
            "1875/1875 [==============================] - 28s 15ms/step - loss: 0.1800 - accuracy: 0.9323 - val_loss: 0.2978 - val_accuracy: 0.9016\n",
            "Epoch 10/15\n",
            "1875/1875 [==============================] - 28s 15ms/step - loss: 0.1702 - accuracy: 0.9342 - val_loss: 0.3117 - val_accuracy: 0.8984\n",
            "Epoch 11/15\n",
            "1875/1875 [==============================] - 28s 15ms/step - loss: 0.1566 - accuracy: 0.9391 - val_loss: 0.3099 - val_accuracy: 0.9024\n",
            "Epoch 12/15\n",
            "1875/1875 [==============================] - 28s 15ms/step - loss: 0.1381 - accuracy: 0.9471 - val_loss: 0.3202 - val_accuracy: 0.9031\n",
            "Epoch 13/15\n",
            "1875/1875 [==============================] - 28s 15ms/step - loss: 0.1321 - accuracy: 0.9496 - val_loss: 0.3437 - val_accuracy: 0.8971\n",
            "Epoch 14/15\n",
            "1875/1875 [==============================] - 28s 15ms/step - loss: 0.1290 - accuracy: 0.9504 - val_loss: 0.3335 - val_accuracy: 0.9030\n",
            "Epoch 15/15\n",
            "1875/1875 [==============================] - 29s 15ms/step - loss: 0.1207 - accuracy: 0.9546 - val_loss: 0.3459 - val_accuracy: 0.9016\n"
          ],
          "name": "stdout"
        }
      ]
    },
    {
      "cell_type": "code",
      "metadata": {
        "colab": {
          "base_uri": "https://localhost:8080/",
          "height": 282
        },
        "id": "Vq5zAKsUevTB",
        "outputId": "6a545330-3308-4964-cace-0394ecbd5d04"
      },
      "source": [
        "# Here we will plot to see how it went\n",
        "plt.plot(r.history['loss'],label='loss')\n",
        "plt.plot(r.history['val_loss'],label='val_loss')\n",
        "plt.legend()"
      ],
      "execution_count": null,
      "outputs": [
        {
          "output_type": "execute_result",
          "data": {
            "text/plain": [
              "<matplotlib.legend.Legend at 0x7f11938d9b10>"
            ]
          },
          "metadata": {
            "tags": []
          },
          "execution_count": 55
        },
        {
          "output_type": "display_data",
          "data": {
            "image/png": "[encoded data removed]",
            "text/plain": [
              "<Figure size 432x288 with 1 Axes>"
            ]
          },
          "metadata": {
            "tags": [],
            "needs_background": "light"
          }
        }
      ]
    },
    {
      "cell_type": "code",
      "metadata": {
        "colab": {
          "base_uri": "https://localhost:8080/",
          "height": 282
        },
        "id": "88UGma4chMRY",
        "outputId": "24a4603e-44c8-40da-c013-30c304233cc4"
      },
      "source": [
        "plt.plot(r.history['accuracy'],label='accuracy')\n",
        "plt.plot(r.history['val_accuracy'],label='val_accuracy')\n",
        "plt.legend()\n"
      ],
      "execution_count": null,
      "outputs": [
        {
          "output_type": "execute_result",
          "data": {
            "text/plain": [
              "<matplotlib.legend.Legend at 0x7f1192fca810>"
            ]
          },
          "metadata": {
            "tags": []
          },
          "execution_count": 56
        },
        {
          "output_type": "display_data",
          "data": {
            "image/png": "[encoded data removed]",
            "text/plain": [
              "<Figure size 432x288 with 1 Axes>"
            ]
          },
          "metadata": {
            "tags": [],
            "needs_background": "light"
          }
        }
      ]
    },
    {
      "cell_type": "code",
      "metadata": {
        "id": "DzWkErIjhXR1"
      },
      "source": [
        "pred=model.predict(X_test).argmax(axis=1)"
      ],
      "execution_count": null,
      "outputs": []
    },
    {
      "cell_type": "code",
      "metadata": {
        "colab": {
          "base_uri": "https://localhost:8080/"
        },
        "id": "nmCklVWbhcSv",
        "outputId": "c865df3f-d610-4a87-b5fd-36d1defb0548"
      },
      "source": [
        "from sklearn.metrics import confusion_matrix,classification_report\n",
        "print(confusion_matrix(y_test,pred))\n",
        "print(classification_report(y_test,pred))"
      ],
      "execution_count": null,
      "outputs": [
        {
          "output_type": "stream",
          "text": [
            "[[839   1  22  16   4   2 111   0   5   0]\n",
            " [  4 980   2   8   3   0   2   0   1   0]\n",
            " [ 12   0 858  10  43   0  75   0   2   0]\n",
            " [ 22   6  16 902  29   0  25   0   0   0]\n",
            " [  0   0  76  18 831   0  73   0   2   0]\n",
            " [  1   0   0   2   0 971   0  19   1   6]\n",
            " [ 91   1  60  22  80   1 736   0   9   0]\n",
            " [  0   0   0   0   0   9   0 975   0  16]\n",
            " [  4   0   7   3   4   3   7   4 968   0]\n",
            " [  0   0   0   0   0   5   1  37   1 956]]\n",
            "              precision    recall  f1-score   support\n",
            "\n",
            "           0       0.86      0.84      0.85      1000\n",
            "           1       0.99      0.98      0.99      1000\n",
            "           2       0.82      0.86      0.84      1000\n",
            "           3       0.92      0.90      0.91      1000\n",
            "           4       0.84      0.83      0.83      1000\n",
            "           5       0.98      0.97      0.98      1000\n",
            "           6       0.71      0.74      0.73      1000\n",
            "           7       0.94      0.97      0.96      1000\n",
            "           8       0.98      0.97      0.97      1000\n",
            "           9       0.98      0.96      0.97      1000\n",
            "\n",
            "    accuracy                           0.90     10000\n",
            "   macro avg       0.90      0.90      0.90     10000\n",
            "weighted avg       0.90      0.90      0.90     10000\n",
            "\n"
          ],
          "name": "stdout"
        }
      ]
    },
    {
      "cell_type": "code",
      "metadata": {
        "id": "bSJY9BpniBQA"
      },
      "source": [
        "labels = '''T-shirt/top\n",
        "Trouser\n",
        "Pullover\n",
        "Dress\n",
        "Coat\n",
        "Sandal\n",
        "Shirt\n",
        "Sneaker\n",
        "Bag\n",
        "Ankle boot'''.split(\"\\n\")"
      ],
      "execution_count": null,
      "outputs": []
    },
    {
      "cell_type": "code",
      "metadata": {
        "colab": {
          "base_uri": "https://localhost:8080/",
          "height": 281
        },
        "id": "7nGj9UsohsoJ",
        "outputId": "f6538fb3-f742-4c67-dc5c-eb4c96ff53e7"
      },
      "source": [
        "# Show some misclassified examples\n",
        "misclassified_idx = np.where(pred!= y_test)[0]\n",
        "i = np.random.choice(misclassified_idx)\n",
        "plt.imshow(X_test[i].reshape(28,28), cmap='gray')\n",
        "plt.title(\"True Value : %s Predicted: %s\" % ( labels[y_test[i]],labels[pred[i]]));"
      ],
      "execution_count": null,
      "outputs": [
        {
          "output_type": "display_data",
          "data": {
            "image/png": "[encoded data removed]",
            "text/plain": [
              "<Figure size 432x288 with 1 Axes>"
            ]
          },
          "metadata": {
            "tags": [],
            "needs_background": "light"
          }
        }
      ]
    },
    {
      "cell_type": "markdown",
      "metadata": {
        "id": "MzAfTPeJjLum"
      },
      "source": [
        "# CNN Cifar Model"
      ]
    },
    {
      "cell_type": "code",
      "metadata": {
        "id": "ieyki-ZYjOF2"
      },
      "source": [
        "# Again we are importing the necessary libraries\n",
        "import numpy as np\n",
        "import matplotlib.pyplot as plt\n",
        "from tensorflow.keras.layers import Dense,Input,Conv2D,GlobalMaxPooling2D,Flatten,Dropout\n",
        "from tensorflow.keras.models import Model\n",
        "import tensorflow as tf"
      ],
      "execution_count": null,
      "outputs": []
    },
    {
      "cell_type": "code",
      "metadata": {
        "id": "ovaJyVB2krZe"
      },
      "source": [
        "data=tf.keras.datasets.cifar10\n",
        "(X_train,y_train),(X_test,y_test)=data.load_data()"
      ],
      "execution_count": null,
      "outputs": []
    },
    {
      "cell_type": "code",
      "metadata": {
        "id": "CXYpgERrlCFT"
      },
      "source": [
        "# Now we perform the little data preprocessing\n",
        "X_test,X_train=X_test/255.0,X_train/255.0\n",
        "y_test,y_train=y_test.flatten(),y_train.flatten()"
      ],
      "execution_count": null,
      "outputs": []
    },
    {
      "cell_type": "code",
      "metadata": {
        "colab": {
          "base_uri": "https://localhost:8080/"
        },
        "id": "emzGo1oclKn0",
        "outputId": "fdc39a61-9338-43d4-b08c-c121b9b98623"
      },
      "source": [
        "# Here we will check for the correct dimensions\n",
        "print(X_test.shape)\n",
        "print(y_test.shape)\n",
        "k=len(set(y_test))\n",
        "print(k)"
      ],
      "execution_count": null,
      "outputs": [
        {
          "output_type": "stream",
          "text": [
            "(10000, 32, 32, 3)\n",
            "(10000,)\n",
            "10\n"
          ],
          "name": "stdout"
        }
      ]
    },
    {
      "cell_type": "code",
      "metadata": {
        "id": "ZiQl1VFwlYNa"
      },
      "source": [
        "# Now we will create the model\n",
        "i=Input(shape=X_train[0].shape)\n",
        "x=Conv2D(32,(3,3),strides=2,activation='relu')(i)\n",
        "x=Conv2D(64,(3,3),strides=2,activation='relu')(x)\n",
        "x=Conv2D(128,(3,3),strides=2,activation='relu')(x)\n",
        "x=Flatten()(x)\n",
        "x=Dropout(0.5)(x)\n",
        "x=Dense(1024,activation='relu')(x)\n",
        "x=Dropout(0.2)(x)\n",
        "x=Dense(k,activation='softmax')(x)\n",
        "model=Model(i,x)"
      ],
      "execution_count": null,
      "outputs": []
    },
    {
      "cell_type": "code",
      "metadata": {
        "colab": {
          "base_uri": "https://localhost:8080/"
        },
        "id": "tyggie5ImH9I",
        "outputId": "e9ed656d-ee8f-4f59-b9a9-5c8c3c95326a"
      },
      "source": [
        "# Now we will compile and fit the model\n",
        "model.compile(optimizer='adam',loss='sparse_categorical_crossentropy',metrics=['accuracy'])\n",
        "r=model.fit(X_train,y_train,validation_data=(X_test,y_test),epochs=20)"
      ],
      "execution_count": null,
      "outputs": [
        {
          "output_type": "stream",
          "text": [
            "Epoch 1/20\n",
            "1563/1563 [==============================] - 6s 4ms/step - loss: 1.7312 - accuracy: 0.3612 - val_loss: 1.3088 - val_accuracy: 0.5322\n",
            "Epoch 2/20\n",
            "1563/1563 [==============================] - 5s 3ms/step - loss: 1.3008 - accuracy: 0.5285 - val_loss: 1.1173 - val_accuracy: 0.5993\n",
            "Epoch 3/20\n",
            "1563/1563 [==============================] - 5s 3ms/step - loss: 1.1545 - accuracy: 0.5832 - val_loss: 1.0319 - val_accuracy: 0.6321\n",
            "Epoch 4/20\n",
            "1563/1563 [==============================] - 5s 3ms/step - loss: 1.0608 - accuracy: 0.6227 - val_loss: 0.9910 - val_accuracy: 0.6463\n",
            "Epoch 5/20\n",
            "1563/1563 [==============================] - 5s 4ms/step - loss: 0.9815 - accuracy: 0.6483 - val_loss: 0.9438 - val_accuracy: 0.6776\n",
            "Epoch 6/20\n",
            "1563/1563 [==============================] - 5s 3ms/step - loss: 0.9110 - accuracy: 0.6750 - val_loss: 0.8994 - val_accuracy: 0.6897\n",
            "Epoch 7/20\n",
            "1563/1563 [==============================] - 5s 3ms/step - loss: 0.8626 - accuracy: 0.6914 - val_loss: 0.8644 - val_accuracy: 0.6957\n",
            "Epoch 8/20\n",
            "1563/1563 [==============================] - 5s 3ms/step - loss: 0.8225 - accuracy: 0.7100 - val_loss: 0.8720 - val_accuracy: 0.6966\n",
            "Epoch 9/20\n",
            "1563/1563 [==============================] - 5s 3ms/step - loss: 0.7748 - accuracy: 0.7255 - val_loss: 0.8775 - val_accuracy: 0.6928\n",
            "Epoch 10/20\n",
            "1563/1563 [==============================] - 5s 3ms/step - loss: 0.7482 - accuracy: 0.7352 - val_loss: 0.8315 - val_accuracy: 0.7060\n",
            "Epoch 11/20\n",
            "1563/1563 [==============================] - 5s 3ms/step - loss: 0.7149 - accuracy: 0.7449 - val_loss: 0.8237 - val_accuracy: 0.7117\n",
            "Epoch 12/20\n",
            "1563/1563 [==============================] - 5s 3ms/step - loss: 0.6845 - accuracy: 0.7537 - val_loss: 0.8529 - val_accuracy: 0.7026\n",
            "Epoch 13/20\n",
            "1563/1563 [==============================] - 6s 4ms/step - loss: 0.6570 - accuracy: 0.7691 - val_loss: 0.8157 - val_accuracy: 0.7104\n",
            "Epoch 14/20\n",
            "1563/1563 [==============================] - 6s 4ms/step - loss: 0.6359 - accuracy: 0.7761 - val_loss: 0.8195 - val_accuracy: 0.7200\n",
            "Epoch 15/20\n",
            "1563/1563 [==============================] - 5s 3ms/step - loss: 0.6232 - accuracy: 0.7789 - val_loss: 0.8242 - val_accuracy: 0.7159\n",
            "Epoch 16/20\n",
            "1563/1563 [==============================] - 5s 3ms/step - loss: 0.6079 - accuracy: 0.7840 - val_loss: 0.8137 - val_accuracy: 0.7189\n",
            "Epoch 17/20\n",
            "1563/1563 [==============================] - 5s 4ms/step - loss: 0.5930 - accuracy: 0.7896 - val_loss: 0.8114 - val_accuracy: 0.7222\n",
            "Epoch 18/20\n",
            "1563/1563 [==============================] - 6s 4ms/step - loss: 0.5732 - accuracy: 0.7949 - val_loss: 0.8182 - val_accuracy: 0.7210\n",
            "Epoch 19/20\n",
            "1563/1563 [==============================] - 6s 4ms/step - loss: 0.5485 - accuracy: 0.8047 - val_loss: 0.8064 - val_accuracy: 0.7238\n",
            "Epoch 20/20\n",
            "1563/1563 [==============================] - 5s 3ms/step - loss: 0.5501 - accuracy: 0.8039 - val_loss: 0.7993 - val_accuracy: 0.7215\n"
          ],
          "name": "stdout"
        }
      ]
    },
    {
      "cell_type": "code",
      "metadata": {
        "colab": {
          "base_uri": "https://localhost:8080/",
          "height": 282
        },
        "id": "C4uPNirNm74Z",
        "outputId": "46dca081-df7e-4d81-df0e-3f1f8514cbf1"
      },
      "source": [
        "# We will plot the graphs now\n",
        "plt.plot(r.history['loss'],label='loss')\n",
        "plt.plot(r.history['val_loss'],label='val_loss')\n",
        "plt.legend()"
      ],
      "execution_count": null,
      "outputs": [
        {
          "output_type": "execute_result",
          "data": {
            "text/plain": [
              "<matplotlib.legend.Legend at 0x7fcdba5970d0>"
            ]
          },
          "metadata": {
            "tags": []
          },
          "execution_count": 23
        },
        {
          "output_type": "display_data",
          "data": {
            "image/png": "[encoded data removed]",
            "text/plain": [
              "<Figure size 432x288 with 1 Axes>"
            ]
          },
          "metadata": {
            "tags": [],
            "needs_background": "light"
          }
        }
      ]
    },
    {
      "cell_type": "code",
      "metadata": {
        "colab": {
          "base_uri": "https://localhost:8080/",
          "height": 282
        },
        "id": "AmXa_jYooXyH",
        "outputId": "5490a25f-62b7-40da-e71a-cf65bbb473ca"
      },
      "source": [
        "plt.plot(r.history['accuracy'],label='accuracy')\n",
        "plt.plot(r.history['val_accuracy'],label='val_accuracy')\n",
        "plt.legend()"
      ],
      "execution_count": null,
      "outputs": [
        {
          "output_type": "execute_result",
          "data": {
            "text/plain": [
              "<matplotlib.legend.Legend at 0x7fcdba52e850>"
            ]
          },
          "metadata": {
            "tags": []
          },
          "execution_count": 24
        },
        {
          "output_type": "display_data",
          "data": {
            "image/png": "[encoded data removed]",
            "text/plain": [
              "<Figure size 432x288 with 1 Axes>"
            ]
          },
          "metadata": {
            "tags": [],
            "needs_background": "light"
          }
        }
      ]
    },
    {
      "cell_type": "code",
      "metadata": {
        "colab": {
          "base_uri": "https://localhost:8080/"
        },
        "id": "jSf5g44xob4x",
        "outputId": "77863c5b-f7db-48bb-95b2-2d51fad22aae"
      },
      "source": [
        "pred=model.predict(X_test).argmax(axis=1)\n",
        "from sklearn.metrics import confusion_matrix\n",
        "print(confusion_matrix(y_test,pred))"
      ],
      "execution_count": null,
      "outputs": [
        {
          "output_type": "stream",
          "text": [
            "[[735  18  36  14  26   6  15   5 103  42]\n",
            " [ 14 842   3   4   4   4  14   0  37  78]\n",
            " [ 73   7 549  77 110  48  79  22  19  16]\n",
            " [ 20  10  54 555  79 144  71  33  19  15]\n",
            " [ 18   4  54  55 714  31  51  55  11   7]\n",
            " [ 15   3  47 221  50 560  35  52   7  10]\n",
            " [  9   8  22  59  40  19 822   7  12   2]\n",
            " [ 11   4  28  39  82  52  10 750   7  17]\n",
            " [ 43  19   7  11   5   5   7   3 877  23]\n",
            " [ 34  79   7  11   4   4   4  15  31 811]]\n"
          ],
          "name": "stdout"
        }
      ]
    },
    {
      "cell_type": "code",
      "metadata": {
        "id": "4VvTYTdxtc68"
      },
      "source": [
        "labels = '''airplane\n",
        "automobile\n",
        "bird\n",
        "cat\n",
        "deer\n",
        "dog\n",
        "frog\n",
        "horse\n",
        "ship\n",
        "truck'''.split()"
      ],
      "execution_count": null,
      "outputs": []
    },
    {
      "cell_type": "code",
      "metadata": {
        "colab": {
          "base_uri": "https://localhost:8080/",
          "height": 281
        },
        "id": "jPFF3qdhom51",
        "outputId": "c8822d3d-9e81-4cb8-e358-b2dc156dbeae"
      },
      "source": [
        "misclassified_idx = np.where(pred!= y_test)[0]\n",
        "i = np.random.choice(misclassified_idx)\n",
        "plt.imshow(X_test[i])\n",
        "plt.title(\"True Value : %s Predicted: %s\" % ( labels[y_test[i]],labels[pred[i]]));"
      ],
      "execution_count": null,
      "outputs": [
        {
          "output_type": "display_data",
          "data": {
            "image/png": "[encoded data removed]",
            "text/plain": [
              "<Figure size 432x288 with 1 Axes>"
            ]
          },
          "metadata": {
            "tags": [],
            "needs_background": "light"
          }
        }
      ]
    },
    {
      "cell_type": "markdown",
      "metadata": {
        "id": "tvb0AE_hNykW"
      },
      "source": [
        "# CNN Cifar with Data Augmentation"
      ]
    },
    {
      "cell_type": "code",
      "metadata": {
        "id": "DqfMUepCtX4S"
      },
      "source": [
        "import numpy as np\n",
        "import tensorflow as tf\n",
        "import matplotlib.pyplot as plt\n",
        "from tensorflow.keras.layers import Dense,Input,Flatten,Conv2D,GlobalMaxPooling2D,Dropout,BatchNormalization,MaxPooling2D\n",
        "from tensorflow.keras.models import Model\n",
        "from tensorflow.keras.preprocessing.image import ImageDataGenerator"
      ],
      "execution_count": 40,
      "outputs": []
    },
    {
      "cell_type": "code",
      "metadata": {
        "id": "i-qTlEUvOPMz"
      },
      "source": [
        "data=tf.keras.datasets.cifar10"
      ],
      "execution_count": 41,
      "outputs": []
    },
    {
      "cell_type": "code",
      "metadata": {
        "id": "yr1V4qWXOTMg"
      },
      "source": [
        "(X_train,y_train),(X_test,y_test)=data.load_data()"
      ],
      "execution_count": 42,
      "outputs": []
    },
    {
      "cell_type": "code",
      "metadata": {
        "id": "DFenhkpTOzRr"
      },
      "source": [
        "labels = '''airplane\n",
        "automobile\n",
        "bird\n",
        "cat\n",
        "deer\n",
        "dog\n",
        "frog\n",
        "horse\n",
        "ship\n",
        "truck'''.split()"
      ],
      "execution_count": 43,
      "outputs": []
    },
    {
      "cell_type": "code",
      "metadata": {
        "id": "dZZwqVkYOWbq"
      },
      "source": [
        "X_train,X_test=X_train/255.0,X_test/255.0\n",
        "y_train,y_test=y_train.flatten(),y_test.flatten()"
      ],
      "execution_count": 44,
      "outputs": []
    },
    {
      "cell_type": "code",
      "metadata": {
        "colab": {
          "base_uri": "https://localhost:8080/"
        },
        "id": "bU9AI9DrOsvb",
        "outputId": "1cbac6fd-8ea6-45e4-b3ea-9a90ac8e160b"
      },
      "source": [
        "print(X_train[0].shape)\n",
        "k=len(set(y_test))\n",
        "print(k)"
      ],
      "execution_count": 45,
      "outputs": [
        {
          "output_type": "stream",
          "text": [
            "(32, 32, 3)\n",
            "10\n"
          ],
          "name": "stdout"
        }
      ]
    },
    {
      "cell_type": "code",
      "metadata": {
        "id": "Wa7fLfeOPMQL"
      },
      "source": [
        "i=Input(shape=X_train[0].shape)\n",
        "# x=Conv2D(32,(3,3),strides=2,activation='relu')(i)\n",
        "# x=Conv2D(64,(3,3),strides=2,activation='relu')(x)\n",
        "# x=Conv2D(128,(3,3),strides=2,activation='relu')(x)\n",
        "\n",
        "x = Conv2D(32, (3, 3), activation='relu', padding='same')(i)\n",
        "x = BatchNormalization()(x)\n",
        "x = Conv2D(32, (3, 3), activation='relu', padding='same')(x)\n",
        "x = BatchNormalization()(x)\n",
        "x = MaxPooling2D((2, 2))(x)\n",
        "# x = Dropout(0.2)(x)\n",
        "x = Conv2D(64, (3, 3), activation='relu', padding='same')(x)\n",
        "x = BatchNormalization()(x)\n",
        "x = Conv2D(64, (3, 3), activation='relu', padding='same')(x)\n",
        "x = BatchNormalization()(x)\n",
        "x = MaxPooling2D((2, 2))(x)\n",
        "# x = Dropout(0.2)(x)\n",
        "x = Conv2D(128, (3, 3), activation='relu', padding='same')(x)\n",
        "x = BatchNormalization()(x)\n",
        "x = Conv2D(128, (3, 3), activation='relu', padding='same')(x)\n",
        "x = BatchNormalization()(x)\n",
        "x = MaxPooling2D((2, 2))(x)\n",
        "# x = Dropout(0.2)(x)\n",
        "x=Flatten()(x)\n",
        "x=Dropout(0.2)(x)\n",
        "x=Dense(1024,activation='relu')(x)\n",
        "x=Dropout(0.2)(x)\n",
        "x=Dense(k,activation='softmax')(x)\n",
        "model=Model(i,x)"
      ],
      "execution_count": 46,
      "outputs": []
    },
    {
      "cell_type": "code",
      "metadata": {
        "id": "SA4b6faiRfrI"
      },
      "source": [
        "model.compile(optimizer='adam',\n",
        "              loss='sparse_categorical_crossentropy',\n",
        "              metrics=['accuracy'])"
      ],
      "execution_count": 47,
      "outputs": []
    },
    {
      "cell_type": "code",
      "metadata": {
        "colab": {
          "base_uri": "https://localhost:8080/"
        },
        "id": "be9GG6IWdi3D",
        "outputId": "633eddbe-7fb6-48a5-c364-4951626672fd"
      },
      "source": [
        "r=model.fit(X_train,y_train,validation_data=(X_test,y_test),epochs=50)"
      ],
      "execution_count": 48,
      "outputs": [
        {
          "output_type": "stream",
          "text": [
            "Epoch 1/50\n",
            "1563/1563 [==============================] - 30s 18ms/step - loss: 1.7111 - accuracy: 0.4496 - val_loss: 1.0431 - val_accuracy: 0.6270\n",
            "Epoch 2/50\n",
            "1563/1563 [==============================] - 28s 18ms/step - loss: 0.8798 - accuracy: 0.6901 - val_loss: 0.7553 - val_accuracy: 0.7417\n",
            "Epoch 3/50\n",
            "1563/1563 [==============================] - 28s 18ms/step - loss: 0.6960 - accuracy: 0.7582 - val_loss: 0.7357 - val_accuracy: 0.7434\n",
            "Epoch 4/50\n",
            "1563/1563 [==============================] - 28s 18ms/step - loss: 0.5839 - accuracy: 0.7958 - val_loss: 0.6873 - val_accuracy: 0.7700\n",
            "Epoch 5/50\n",
            "1563/1563 [==============================] - 27s 18ms/step - loss: 0.4826 - accuracy: 0.8365 - val_loss: 0.6104 - val_accuracy: 0.7932\n",
            "Epoch 6/50\n",
            "1563/1563 [==============================] - 28s 18ms/step - loss: 0.4021 - accuracy: 0.8621 - val_loss: 0.6873 - val_accuracy: 0.7844\n",
            "Epoch 7/50\n",
            "1563/1563 [==============================] - 28s 18ms/step - loss: 0.3364 - accuracy: 0.8828 - val_loss: 0.6454 - val_accuracy: 0.7877\n",
            "Epoch 8/50\n",
            "1563/1563 [==============================] - 27s 18ms/step - loss: 0.2857 - accuracy: 0.9027 - val_loss: 0.6574 - val_accuracy: 0.8034\n",
            "Epoch 9/50\n",
            "1563/1563 [==============================] - 28s 18ms/step - loss: 0.2387 - accuracy: 0.9166 - val_loss: 0.6109 - val_accuracy: 0.8181\n",
            "Epoch 10/50\n",
            "1563/1563 [==============================] - 28s 18ms/step - loss: 0.2058 - accuracy: 0.9282 - val_loss: 0.6797 - val_accuracy: 0.8188\n",
            "Epoch 11/50\n",
            "1563/1563 [==============================] - 28s 18ms/step - loss: 0.1842 - accuracy: 0.9374 - val_loss: 0.7437 - val_accuracy: 0.8155\n",
            "Epoch 12/50\n",
            "1563/1563 [==============================] - 28s 18ms/step - loss: 0.1630 - accuracy: 0.9449 - val_loss: 0.6683 - val_accuracy: 0.8188\n",
            "Epoch 13/50\n",
            "1563/1563 [==============================] - 28s 18ms/step - loss: 0.1408 - accuracy: 0.9510 - val_loss: 0.7365 - val_accuracy: 0.8239\n",
            "Epoch 14/50\n",
            "1563/1563 [==============================] - 28s 18ms/step - loss: 0.1378 - accuracy: 0.9537 - val_loss: 0.6730 - val_accuracy: 0.8278\n",
            "Epoch 15/50\n",
            "1563/1563 [==============================] - 28s 18ms/step - loss: 0.1189 - accuracy: 0.9583 - val_loss: 0.7005 - val_accuracy: 0.8317\n",
            "Epoch 16/50\n",
            "1563/1563 [==============================] - 28s 18ms/step - loss: 0.1084 - accuracy: 0.9638 - val_loss: 0.7450 - val_accuracy: 0.8285\n",
            "Epoch 17/50\n",
            "1563/1563 [==============================] - 28s 18ms/step - loss: 0.1021 - accuracy: 0.9649 - val_loss: 0.7624 - val_accuracy: 0.8180\n",
            "Epoch 18/50\n",
            "1563/1563 [==============================] - 27s 17ms/step - loss: 0.1015 - accuracy: 0.9665 - val_loss: 0.7006 - val_accuracy: 0.8353\n",
            "Epoch 19/50\n",
            "1563/1563 [==============================] - 28s 18ms/step - loss: 0.0960 - accuracy: 0.9675 - val_loss: 0.8094 - val_accuracy: 0.8294\n",
            "Epoch 20/50\n",
            "1563/1563 [==============================] - 28s 18ms/step - loss: 0.0862 - accuracy: 0.9717 - val_loss: 0.7315 - val_accuracy: 0.8359\n",
            "Epoch 21/50\n",
            "1563/1563 [==============================] - 28s 18ms/step - loss: 0.0839 - accuracy: 0.9720 - val_loss: 0.7128 - val_accuracy: 0.8366\n",
            "Epoch 22/50\n",
            "1563/1563 [==============================] - 27s 18ms/step - loss: 0.0777 - accuracy: 0.9745 - val_loss: 0.7497 - val_accuracy: 0.8341\n",
            "Epoch 23/50\n",
            "1563/1563 [==============================] - 28s 18ms/step - loss: 0.0770 - accuracy: 0.9747 - val_loss: 0.8005 - val_accuracy: 0.8305\n",
            "Epoch 24/50\n",
            "1563/1563 [==============================] - 28s 18ms/step - loss: 0.0755 - accuracy: 0.9752 - val_loss: 0.8080 - val_accuracy: 0.8287\n",
            "Epoch 25/50\n",
            "1563/1563 [==============================] - 28s 18ms/step - loss: 0.0786 - accuracy: 0.9754 - val_loss: 0.8114 - val_accuracy: 0.8357\n",
            "Epoch 26/50\n",
            "1563/1563 [==============================] - 28s 18ms/step - loss: 0.0676 - accuracy: 0.9769 - val_loss: 0.8617 - val_accuracy: 0.8350\n",
            "Epoch 27/50\n",
            "1563/1563 [==============================] - 28s 18ms/step - loss: 0.0685 - accuracy: 0.9774 - val_loss: 0.8465 - val_accuracy: 0.8343\n",
            "Epoch 28/50\n",
            "1563/1563 [==============================] - 28s 18ms/step - loss: 0.0586 - accuracy: 0.9816 - val_loss: 0.8361 - val_accuracy: 0.8342\n",
            "Epoch 29/50\n",
            "1563/1563 [==============================] - 28s 18ms/step - loss: 0.0604 - accuracy: 0.9796 - val_loss: 0.8734 - val_accuracy: 0.8324\n",
            "Epoch 30/50\n",
            "1563/1563 [==============================] - 28s 18ms/step - loss: 0.0622 - accuracy: 0.9800 - val_loss: 0.8380 - val_accuracy: 0.8435\n",
            "Epoch 31/50\n",
            "1563/1563 [==============================] - 28s 18ms/step - loss: 0.0573 - accuracy: 0.9811 - val_loss: 0.8021 - val_accuracy: 0.8313\n",
            "Epoch 32/50\n",
            "1563/1563 [==============================] - 28s 18ms/step - loss: 0.0610 - accuracy: 0.9800 - val_loss: 0.7887 - val_accuracy: 0.8349\n",
            "Epoch 33/50\n",
            "1563/1563 [==============================] - 28s 18ms/step - loss: 0.0534 - accuracy: 0.9819 - val_loss: 0.8500 - val_accuracy: 0.8286\n",
            "Epoch 34/50\n",
            "1563/1563 [==============================] - 28s 18ms/step - loss: 0.0557 - accuracy: 0.9825 - val_loss: 0.7883 - val_accuracy: 0.8448\n",
            "Epoch 35/50\n",
            "1563/1563 [==============================] - 28s 18ms/step - loss: 0.0511 - accuracy: 0.9836 - val_loss: 0.9056 - val_accuracy: 0.8269\n",
            "Epoch 36/50\n",
            "1563/1563 [==============================] - 28s 18ms/step - loss: 0.0504 - accuracy: 0.9841 - val_loss: 0.8204 - val_accuracy: 0.8291\n",
            "Epoch 37/50\n",
            "1563/1563 [==============================] - 28s 18ms/step - loss: 0.0502 - accuracy: 0.9837 - val_loss: 0.9271 - val_accuracy: 0.8331\n",
            "Epoch 38/50\n",
            "1563/1563 [==============================] - 28s 18ms/step - loss: 0.0452 - accuracy: 0.9860 - val_loss: 0.8178 - val_accuracy: 0.8363\n",
            "Epoch 39/50\n",
            "1563/1563 [==============================] - 28s 18ms/step - loss: 0.0478 - accuracy: 0.9843 - val_loss: 0.8475 - val_accuracy: 0.8328\n",
            "Epoch 40/50\n",
            "1563/1563 [==============================] - 28s 18ms/step - loss: 0.0536 - accuracy: 0.9831 - val_loss: 0.8886 - val_accuracy: 0.8343\n",
            "Epoch 41/50\n",
            "1563/1563 [==============================] - 28s 18ms/step - loss: 0.0458 - accuracy: 0.9849 - val_loss: 1.0341 - val_accuracy: 0.8328\n",
            "Epoch 42/50\n",
            "1563/1563 [==============================] - 28s 18ms/step - loss: 0.0451 - accuracy: 0.9858 - val_loss: 0.9086 - val_accuracy: 0.8329\n",
            "Epoch 43/50\n",
            "1563/1563 [==============================] - 28s 18ms/step - loss: 0.0401 - accuracy: 0.9874 - val_loss: 0.8386 - val_accuracy: 0.8325\n",
            "Epoch 44/50\n",
            "1563/1563 [==============================] - 28s 18ms/step - loss: 0.0429 - accuracy: 0.9853 - val_loss: 0.8075 - val_accuracy: 0.8375\n",
            "Epoch 45/50\n",
            "1563/1563 [==============================] - 28s 18ms/step - loss: 0.0411 - accuracy: 0.9866 - val_loss: 0.8449 - val_accuracy: 0.8338\n",
            "Epoch 46/50\n",
            "1563/1563 [==============================] - 28s 18ms/step - loss: 0.0455 - accuracy: 0.9850 - val_loss: 0.9424 - val_accuracy: 0.8319\n",
            "Epoch 47/50\n",
            "1563/1563 [==============================] - 28s 18ms/step - loss: 0.0381 - accuracy: 0.9874 - val_loss: 0.8269 - val_accuracy: 0.8377\n",
            "Epoch 48/50\n",
            "1563/1563 [==============================] - 28s 18ms/step - loss: 0.0430 - accuracy: 0.9872 - val_loss: 0.8672 - val_accuracy: 0.8402\n",
            "Epoch 49/50\n",
            "1563/1563 [==============================] - 28s 18ms/step - loss: 0.0369 - accuracy: 0.9880 - val_loss: 1.0108 - val_accuracy: 0.8326\n",
            "Epoch 50/50\n",
            "1563/1563 [==============================] - 28s 18ms/step - loss: 0.0412 - accuracy: 0.9876 - val_loss: 1.0211 - val_accuracy: 0.8283\n"
          ],
          "name": "stdout"
        }
      ]
    },
    {
      "cell_type": "code",
      "metadata": {
        "id": "C04m0L-BROpn"
      },
      "source": [
        "# batch_size = 32\n",
        "# data_generator = tf.keras.preprocessing.image.ImageDataGenerator(width_shift_range=0.1, height_shift_range=0.1, horizontal_flip=True)\n",
        "# train_generator = data_generator.flow(X_train, y_train, batch_size)\n",
        "# steps_per_epoch = X_train.shape[0] // batch_size\n",
        "# r = model.fit(train_generator, validation_data=(X_test, y_test), steps_per_epoch=steps_per_epoch, epochs=50)"
      ],
      "execution_count": 49,
      "outputs": []
    },
    {
      "cell_type": "code",
      "metadata": {
        "colab": {
          "base_uri": "https://localhost:8080/",
          "height": 282
        },
        "id": "JLSjz2cGRxDU",
        "outputId": "0e562355-8e3c-448d-b386-e3764a4da2df"
      },
      "source": [
        "plt.plot(r.history['loss'],label='loss')\n",
        "plt.plot(r.history['val_loss'],label='val_loss')\n",
        "plt.legend()"
      ],
      "execution_count": 50,
      "outputs": [
        {
          "output_type": "execute_result",
          "data": {
            "text/plain": [
              "<matplotlib.legend.Legend at 0x7f31789c4e50>"
            ]
          },
          "metadata": {
            "tags": []
          },
          "execution_count": 50
        },
        {
          "output_type": "display_data",
          "data": {
            "image/png": "[encoded data removed]",
            "text/plain": [
              "<Figure size 432x288 with 1 Axes>"
            ]
          },
          "metadata": {
            "tags": [],
            "needs_background": "light"
          }
        }
      ]
    },
    {
      "cell_type": "code",
      "metadata": {
        "colab": {
          "base_uri": "https://localhost:8080/",
          "height": 282
        },
        "id": "KytzvYTAd_LJ",
        "outputId": "f4716122-326e-49f7-f42d-185608c12ffa"
      },
      "source": [
        "plt.plot(r.history['accuracy'],label='accuracy')\n",
        "plt.plot(r.history['val_accuracy'],label='val_accuracy')\n",
        "plt.legend()"
      ],
      "execution_count": 51,
      "outputs": [
        {
          "output_type": "execute_result",
          "data": {
            "text/plain": [
              "<matplotlib.legend.Legend at 0x7f3177969610>"
            ]
          },
          "metadata": {
            "tags": []
          },
          "execution_count": 51
        },
        {
          "output_type": "display_data",
          "data": {
            "image/png": "[encoded data removed]",
            "text/plain": [
              "<Figure size 432x288 with 1 Axes>"
            ]
          },
          "metadata": {
            "tags": [],
            "needs_background": "light"
          }
        }
      ]
    },
    {
      "cell_type": "code",
      "metadata": {
        "colab": {
          "base_uri": "https://localhost:8080/"
        },
        "id": "8plN4Bs2eIyG",
        "outputId": "d2d6db4d-a9be-4838-a8cf-94ca480d9b58"
      },
      "source": [
        "model.summary()"
      ],
      "execution_count": 52,
      "outputs": [
        {
          "output_type": "stream",
          "text": [
            "Model: \"model_1\"\n",
            "_________________________________________________________________\n",
            "Layer (type)                 Output Shape              Param #   \n",
            "=================================================================\n",
            "input_3 (InputLayer)         [(None, 32, 32, 3)]       0         \n",
            "_________________________________________________________________\n",
            "conv2d_7 (Conv2D)            (None, 32, 32, 32)        896       \n",
            "_________________________________________________________________\n",
            "batch_normalization_4 (Batch (None, 32, 32, 32)        128       \n",
            "_________________________________________________________________\n",
            "conv2d_8 (Conv2D)            (None, 32, 32, 32)        9248      \n",
            "_________________________________________________________________\n",
            "batch_normalization_5 (Batch (None, 32, 32, 32)        128       \n",
            "_________________________________________________________________\n",
            "max_pooling2d_2 (MaxPooling2 (None, 16, 16, 32)        0         \n",
            "_________________________________________________________________\n",
            "conv2d_9 (Conv2D)            (None, 16, 16, 64)        18496     \n",
            "_________________________________________________________________\n",
            "batch_normalization_6 (Batch (None, 16, 16, 64)        256       \n",
            "_________________________________________________________________\n",
            "conv2d_10 (Conv2D)           (None, 16, 16, 64)        36928     \n",
            "_________________________________________________________________\n",
            "batch_normalization_7 (Batch (None, 16, 16, 64)        256       \n",
            "_________________________________________________________________\n",
            "max_pooling2d_3 (MaxPooling2 (None, 8, 8, 64)          0         \n",
            "_________________________________________________________________\n",
            "conv2d_11 (Conv2D)           (None, 8, 8, 128)         73856     \n",
            "_________________________________________________________________\n",
            "batch_normalization_8 (Batch (None, 8, 8, 128)         512       \n",
            "_________________________________________________________________\n",
            "conv2d_12 (Conv2D)           (None, 8, 8, 128)         147584    \n",
            "_________________________________________________________________\n",
            "batch_normalization_9 (Batch (None, 8, 8, 128)         512       \n",
            "_________________________________________________________________\n",
            "max_pooling2d_4 (MaxPooling2 (None, 4, 4, 128)         0         \n",
            "_________________________________________________________________\n",
            "flatten_1 (Flatten)          (None, 2048)              0         \n",
            "_________________________________________________________________\n",
            "dropout_2 (Dropout)          (None, 2048)              0         \n",
            "_________________________________________________________________\n",
            "dense_2 (Dense)              (None, 1024)              2098176   \n",
            "_________________________________________________________________\n",
            "dropout_3 (Dropout)          (None, 1024)              0         \n",
            "_________________________________________________________________\n",
            "dense_3 (Dense)              (None, 10)                10250     \n",
            "=================================================================\n",
            "Total params: 2,397,226\n",
            "Trainable params: 2,396,330\n",
            "Non-trainable params: 896\n",
            "_________________________________________________________________\n"
          ],
          "name": "stdout"
        }
      ]
    },
    {
      "cell_type": "code",
      "metadata": {
        "colab": {
          "base_uri": "https://localhost:8080/",
          "height": 504
        },
        "id": "jTxFtCxzeNV1",
        "outputId": "219c6f81-07ea-4d74-c0ed-e3124071545c"
      },
      "source": [
        "# Plot confusion matrix\n",
        "from sklearn.metrics import confusion_matrix\n",
        "import itertools\n",
        "\n",
        "def plot_confusion_matrix(cm, classes,\n",
        "                          normalize=False,\n",
        "                          title='Confusion matrix',\n",
        "                          cmap=plt.cm.Blues):\n",
        "  \"\"\"\n",
        "  This function prints and plots the confusion matrix.\n",
        "  Normalization can be applied by setting `normalize=True`.\n",
        "  \"\"\"\n",
        "  if normalize:\n",
        "      cm = cm.astype('float') / cm.sum(axis=1)[:, np.newaxis]\n",
        "      print(\"Normalized confusion matrix\")\n",
        "  else:\n",
        "      print('Confusion matrix, without normalization')\n",
        "\n",
        "  print(cm)\n",
        "\n",
        "  plt.imshow(cm, interpolation='nearest', cmap=cmap)\n",
        "  plt.title(title)\n",
        "  plt.colorbar()\n",
        "  tick_marks = np.arange(len(classes))\n",
        "  plt.xticks(tick_marks, classes, rotation=45)\n",
        "  plt.yticks(tick_marks, classes)\n",
        "\n",
        "  fmt = '.2f' if normalize else 'd'\n",
        "  thresh = cm.max() / 2.\n",
        "  for i, j in itertools.product(range(cm.shape[0]), range(cm.shape[1])):\n",
        "      plt.text(j, i, format(cm[i, j], fmt),\n",
        "               horizontalalignment=\"center\",\n",
        "               color=\"white\" if cm[i, j] > thresh else \"black\")\n",
        "\n",
        "  plt.tight_layout()\n",
        "  plt.ylabel('True label')\n",
        "  plt.xlabel('Predicted label')\n",
        "  plt.show()\n",
        "\n",
        "\n",
        "p_test = model.predict(X_test).argmax(axis=1)\n",
        "cm = confusion_matrix(y_test, p_test)\n",
        "plot_confusion_matrix(cm, list(range(10)))\n",
        "\n"
      ],
      "execution_count": 53,
      "outputs": [
        {
          "output_type": "stream",
          "text": [
            "Confusion matrix, without normalization\n",
            "[[861   9  28  21   6   2   8  12  34  19]\n",
            " [  6 943   1   5   1   3   3   0  11  27]\n",
            " [ 42   5 735  52  36  57  38  24   6   5]\n",
            " [ 16   4  43 700  18 147  35  16  11  10]\n",
            " [ 13   1  64  80 707  34  35  63   2   1]\n",
            " [  5   6  26 119  16 797   7  20   1   3]\n",
            " [  8   2  30  57   5  21 868   1   6   2]\n",
            " [ 10   1  15  20  15  46   2 886   2   3]\n",
            " [ 42  16   8  12   1   5   1   5 895  15]\n",
            " [ 11  63   2   9   1   8   1   4  10 891]]\n"
          ],
          "name": "stdout"
        },
        {
          "output_type": "display_data",
          "data": {
            "image/png": "[encoded data removed]",
            "text/plain": [
              "<Figure size 432x288 with 2 Axes>"
            ]
          },
          "metadata": {
            "tags": [],
            "needs_background": "light"
          }
        }
      ]
    },
    {
      "cell_type": "code",
      "metadata": {
        "colab": {
          "base_uri": "https://localhost:8080/",
          "height": 281
        },
        "id": "NsqzG9VYka8j",
        "outputId": "fbb3a144-e7f9-4bd4-e095-941bdfdfa149"
      },
      "source": [
        "misclassified_idx = np.where(p_test != y_test)[0]\n",
        "i = np.random.choice(misclassified_idx)\n",
        "plt.imshow(X_test[i], cmap='gray')\n",
        "plt.title(\"True label: %s Predicted: %s\" % (labels[y_test[i]], labels[p_test[i]]));"
      ],
      "execution_count": 55,
      "outputs": [
        {
          "output_type": "display_data",
          "data": {
            "image/png": "[encoded data removed]",
            "text/plain": [
              "<Figure size 432x288 with 1 Axes>"
            ]
          },
          "metadata": {
            "tags": [],
            "needs_background": "light"
          }
        }
      ]
    },
    {
      "cell_type": "code",
      "metadata": {
        "id": "7MfXGvJLkfYI"
      },
      "source": [
        ""
      ],
      "execution_count": null,
      "outputs": []
    }
  ]
}