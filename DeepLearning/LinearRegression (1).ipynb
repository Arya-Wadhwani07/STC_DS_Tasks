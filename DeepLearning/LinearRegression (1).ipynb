{
  "nbformat": 4,
  "nbformat_minor": 0,
  "metadata": {
    "colab": {
      "name": "LinearRegression.ipynb",
      "provenance": [],
      "collapsed_sections": []
    },
    "kernelspec": {
      "name": "python3",
      "display_name": "Python 3"
    },
    "language_info": {
      "name": "python"
    }
  },
  "cells": [
    {
      "cell_type": "markdown",
      "metadata": {
        "id": "g37pWi2yuxHS"
      },
      "source": [
        "# Course Work"
      ]
    },
    {
      "cell_type": "code",
      "metadata": {
        "id": "g0KM_lEKqNZu"
      },
      "source": [
        "import numpy as np\n",
        "import pandas as pd\n",
        "import matplotlib.pyplot as plt\n",
        "import tensorflow as tf\n",
        "import seaborn as sns\n"
      ],
      "execution_count": null,
      "outputs": []
    },
    {
      "cell_type": "code",
      "metadata": {
        "colab": {
          "base_uri": "https://localhost:8080/"
        },
        "id": "In-qsbL_qXy2",
        "outputId": "48091e95-cb51-445d-d815-ba0a8fe26960"
      },
      "source": [
        "!wget https://raw.githubusercontent.com/lazyprogrammer/machine_learning_examples/master/tf2.0/moore.csv"
      ],
      "execution_count": null,
      "outputs": [
        {
          "output_type": "stream",
          "text": [
            "--2021-05-02 13:59:39--  https://raw.githubusercontent.com/lazyprogrammer/machine_learning_examples/master/tf2.0/moore.csv\n",
            "Resolving raw.githubusercontent.com (raw.githubusercontent.com)... 185.199.109.133, 185.199.111.133, 185.199.110.133, ...\n",
            "Connecting to raw.githubusercontent.com (raw.githubusercontent.com)|185.199.109.133|:443... connected.\n",
            "HTTP request sent, awaiting response... 200 OK\n",
            "Length: 2302 (2.2K) [text/plain]\n",
            "Saving to: ‘moore.csv’\n",
            "\n",
            "moore.csv           100%[===================>]   2.25K  --.-KB/s    in 0s      \n",
            "\n",
            "2021-05-02 13:59:39 (33.0 MB/s) - ‘moore.csv’ saved [2302/2302]\n",
            "\n"
          ],
          "name": "stdout"
        }
      ]
    },
    {
      "cell_type": "code",
      "metadata": {
        "id": "B8-VJHI-qbPB"
      },
      "source": [
        "data=pd.read_csv(\"moore.csv\",header=None).values"
      ],
      "execution_count": null,
      "outputs": []
    },
    {
      "cell_type": "code",
      "metadata": {
        "id": "YQWS3ZmVqiCz"
      },
      "source": [
        "X=data[:,0].reshape(-1,1)\n",
        "Y=data[:,1]"
      ],
      "execution_count": null,
      "outputs": []
    },
    {
      "cell_type": "code",
      "metadata": {
        "colab": {
          "base_uri": "https://localhost:8080/",
          "height": 294
        },
        "id": "8DCAkLz1rHTE",
        "outputId": "a3d4f0c4-94e4-4ebf-cdb9-4f910c1da327"
      },
      "source": [
        "plt.scatter(X,Y)"
      ],
      "execution_count": null,
      "outputs": [
        {
          "output_type": "execute_result",
          "data": {
            "text/plain": [
              "<matplotlib.collections.PathCollection at 0x7fb9bc5fbd50>"
            ]
          },
          "metadata": {
            "tags": []
          },
          "execution_count": 5
        },
        {
          "output_type": "display_data",
          "data": {
            "image/png": "[encoded data removed]",
            "text/plain": [
              "<Figure size 432x288 with 1 Axes>"
            ]
          },
          "metadata": {
            "tags": [],
            "needs_background": "light"
          }
        }
      ]
    },
    {
      "cell_type": "code",
      "metadata": {
        "colab": {
          "base_uri": "https://localhost:8080/",
          "height": 282
        },
        "id": "aMaNbgCHrRxd",
        "outputId": "80409483-5d0e-41a2-a5bd-a30fac0a8ae8"
      },
      "source": [
        "y=np.log(Y)\n",
        "plt.scatter(X,y)"
      ],
      "execution_count": null,
      "outputs": [
        {
          "output_type": "execute_result",
          "data": {
            "text/plain": [
              "<matplotlib.collections.PathCollection at 0x7fb9bc0eed50>"
            ]
          },
          "metadata": {
            "tags": []
          },
          "execution_count": 6
        },
        {
          "output_type": "display_data",
          "data": {
            "image/png": "[encoded data removed]",
            "text/plain": [
              "<Figure size 432x288 with 1 Axes>"
            ]
          },
          "metadata": {
            "tags": [],
            "needs_background": "light"
          }
        }
      ]
    },
    {
      "cell_type": "code",
      "metadata": {
        "id": "HJUvPmRUrWCB"
      },
      "source": [
        "X=X-X.mean()"
      ],
      "execution_count": null,
      "outputs": []
    },
    {
      "cell_type": "code",
      "metadata": {
        "id": "Rhp9Ky7mrZu0"
      },
      "source": [
        "model=tf.keras.models.Sequential([\n",
        "    tf.keras.layers.Input(shape=(1,)),\n",
        "    tf.keras.layers.Dense(1)\n",
        "])"
      ],
      "execution_count": null,
      "outputs": []
    },
    {
      "cell_type": "code",
      "metadata": {
        "id": "ZOSBJbZIrd6r"
      },
      "source": [
        "model.compile(optimizer=tf.keras.optimizers.SGD(learning_rate=0.001,momentum=0.9),loss='mse')"
      ],
      "execution_count": null,
      "outputs": []
    },
    {
      "cell_type": "code",
      "metadata": {
        "id": "3r6i4K8FsM4H"
      },
      "source": [
        "def schedule(ep,lr):\n",
        "  if(ep>=50):\n",
        "    return 0.0001\n",
        "  return 0.001"
      ],
      "execution_count": null,
      "outputs": []
    },
    {
      "cell_type": "code",
      "metadata": {
        "id": "dcFoQDwysXkW"
      },
      "source": [
        "scheduler=tf.keras.callbacks.LearningRateScheduler(schedule)"
      ],
      "execution_count": null,
      "outputs": []
    },
    {
      "cell_type": "code",
      "metadata": {
        "colab": {
          "base_uri": "https://localhost:8080/"
        },
        "id": "RvrjkBP0sh4d",
        "outputId": "f93dee38-7e02-4003-cede-69ac086dda76"
      },
      "source": [
        "r=model.fit(X,y,epochs=200,callbacks=[scheduler])"
      ],
      "execution_count": null,
      "outputs": [
        {
          "output_type": "stream",
          "text": [
            "Epoch 1/200\n",
            "6/6 [==============================] - 0s 2ms/step - loss: 374.2602\n",
            "Epoch 2/200\n",
            "6/6 [==============================] - 0s 2ms/step - loss: 324.2991\n",
            "Epoch 3/200\n",
            "6/6 [==============================] - 0s 2ms/step - loss: 423.9189\n",
            "Epoch 4/200\n",
            "6/6 [==============================] - 0s 2ms/step - loss: 244.4057\n",
            "Epoch 5/200\n",
            "6/6 [==============================] - 0s 2ms/step - loss: 154.2633\n",
            "Epoch 6/200\n",
            "6/6 [==============================] - 0s 2ms/step - loss: 138.6076\n",
            "Epoch 7/200\n",
            "6/6 [==============================] - 0s 2ms/step - loss: 87.0271\n",
            "Epoch 8/200\n",
            "6/6 [==============================] - 0s 2ms/step - loss: 62.1248\n",
            "Epoch 9/200\n",
            "6/6 [==============================] - 0s 2ms/step - loss: 47.9515\n",
            "Epoch 10/200\n",
            "6/6 [==============================] - 0s 2ms/step - loss: 38.2054\n",
            "Epoch 11/200\n",
            "6/6 [==============================] - 0s 3ms/step - loss: 37.7066\n",
            "Epoch 12/200\n",
            "6/6 [==============================] - 0s 2ms/step - loss: 20.3864\n",
            "Epoch 13/200\n",
            "6/6 [==============================] - 0s 2ms/step - loss: 17.9197\n",
            "Epoch 14/200\n",
            "6/6 [==============================] - 0s 2ms/step - loss: 18.4712\n",
            "Epoch 15/200\n",
            "6/6 [==============================] - 0s 3ms/step - loss: 20.2133\n",
            "Epoch 16/200\n",
            "6/6 [==============================] - 0s 3ms/step - loss: 12.0889\n",
            "Epoch 17/200\n",
            "6/6 [==============================] - 0s 2ms/step - loss: 8.1582\n",
            "Epoch 18/200\n",
            "6/6 [==============================] - 0s 2ms/step - loss: 8.3032\n",
            "Epoch 19/200\n",
            "6/6 [==============================] - 0s 2ms/step - loss: 5.1265\n",
            "Epoch 20/200\n",
            "6/6 [==============================] - 0s 3ms/step - loss: 3.2132\n",
            "Epoch 21/200\n",
            "6/6 [==============================] - 0s 2ms/step - loss: 3.9539\n",
            "Epoch 22/200\n",
            "6/6 [==============================] - 0s 2ms/step - loss: 3.2282\n",
            "Epoch 23/200\n",
            "6/6 [==============================] - 0s 2ms/step - loss: 2.4865\n",
            "Epoch 24/200\n",
            "6/6 [==============================] - 0s 2ms/step - loss: 2.0955\n",
            "Epoch 25/200\n",
            "6/6 [==============================] - 0s 2ms/step - loss: 1.2443\n",
            "Epoch 26/200\n",
            "6/6 [==============================] - 0s 2ms/step - loss: 1.1059\n",
            "Epoch 27/200\n",
            "6/6 [==============================] - 0s 2ms/step - loss: 1.0840\n",
            "Epoch 28/200\n",
            "6/6 [==============================] - 0s 2ms/step - loss: 1.0883\n",
            "Epoch 29/200\n",
            "6/6 [==============================] - 0s 3ms/step - loss: 0.9900\n",
            "Epoch 30/200\n",
            "6/6 [==============================] - 0s 3ms/step - loss: 1.0721\n",
            "Epoch 31/200\n",
            "6/6 [==============================] - 0s 2ms/step - loss: 0.9366\n",
            "Epoch 32/200\n",
            "6/6 [==============================] - 0s 4ms/step - loss: 0.8643\n",
            "Epoch 33/200\n",
            "6/6 [==============================] - 0s 2ms/step - loss: 0.9949\n",
            "Epoch 34/200\n",
            "6/6 [==============================] - 0s 2ms/step - loss: 0.9746\n",
            "Epoch 35/200\n",
            "6/6 [==============================] - 0s 2ms/step - loss: 0.8887\n",
            "Epoch 36/200\n",
            "6/6 [==============================] - 0s 2ms/step - loss: 1.2480\n",
            "Epoch 37/200\n",
            "6/6 [==============================] - 0s 2ms/step - loss: 0.9279\n",
            "Epoch 38/200\n",
            "6/6 [==============================] - 0s 2ms/step - loss: 1.0460\n",
            "Epoch 39/200\n",
            "6/6 [==============================] - 0s 2ms/step - loss: 1.1838\n",
            "Epoch 40/200\n",
            "6/6 [==============================] - 0s 2ms/step - loss: 0.9464\n",
            "Epoch 41/200\n",
            "6/6 [==============================] - 0s 2ms/step - loss: 0.9286\n",
            "Epoch 42/200\n",
            "6/6 [==============================] - 0s 2ms/step - loss: 1.0173\n",
            "Epoch 43/200\n",
            "6/6 [==============================] - 0s 3ms/step - loss: 0.9669\n",
            "Epoch 44/200\n",
            "6/6 [==============================] - 0s 2ms/step - loss: 1.2910\n",
            "Epoch 45/200\n",
            "6/6 [==============================] - 0s 3ms/step - loss: 0.8073\n",
            "Epoch 46/200\n",
            "6/6 [==============================] - 0s 2ms/step - loss: 0.6479\n",
            "Epoch 47/200\n",
            "6/6 [==============================] - 0s 2ms/step - loss: 0.9326\n",
            "Epoch 48/200\n",
            "6/6 [==============================] - 0s 2ms/step - loss: 0.7790\n",
            "Epoch 49/200\n",
            "6/6 [==============================] - 0s 2ms/step - loss: 0.7591\n",
            "Epoch 50/200\n",
            "6/6 [==============================] - 0s 3ms/step - loss: 1.0263\n",
            "Epoch 51/200\n",
            "6/6 [==============================] - 0s 2ms/step - loss: 1.5254\n",
            "Epoch 52/200\n",
            "6/6 [==============================] - 0s 2ms/step - loss: 2.2131\n",
            "Epoch 53/200\n",
            "6/6 [==============================] - 0s 2ms/step - loss: 1.1896\n",
            "Epoch 54/200\n",
            "6/6 [==============================] - 0s 2ms/step - loss: 0.9568\n",
            "Epoch 55/200\n",
            "6/6 [==============================] - 0s 2ms/step - loss: 1.3079\n",
            "Epoch 56/200\n",
            "6/6 [==============================] - 0s 3ms/step - loss: 1.0093\n",
            "Epoch 57/200\n",
            "6/6 [==============================] - 0s 3ms/step - loss: 0.8836\n",
            "Epoch 58/200\n",
            "6/6 [==============================] - 0s 2ms/step - loss: 0.8841\n",
            "Epoch 59/200\n",
            "6/6 [==============================] - 0s 2ms/step - loss: 0.8810\n",
            "Epoch 60/200\n",
            "6/6 [==============================] - 0s 2ms/step - loss: 0.8741\n",
            "Epoch 61/200\n",
            "6/6 [==============================] - 0s 3ms/step - loss: 0.8302\n",
            "Epoch 62/200\n",
            "6/6 [==============================] - 0s 2ms/step - loss: 0.7663\n",
            "Epoch 63/200\n",
            "6/6 [==============================] - 0s 2ms/step - loss: 0.9032\n",
            "Epoch 64/200\n",
            "6/6 [==============================] - 0s 3ms/step - loss: 0.9581\n",
            "Epoch 65/200\n",
            "6/6 [==============================] - 0s 2ms/step - loss: 0.8571\n",
            "Epoch 66/200\n",
            "6/6 [==============================] - 0s 2ms/step - loss: 1.0665\n",
            "Epoch 67/200\n",
            "6/6 [==============================] - 0s 2ms/step - loss: 0.8073\n",
            "Epoch 68/200\n",
            "6/6 [==============================] - 0s 2ms/step - loss: 1.0718\n",
            "Epoch 69/200\n",
            "6/6 [==============================] - 0s 2ms/step - loss: 0.9948\n",
            "Epoch 70/200\n",
            "6/6 [==============================] - 0s 3ms/step - loss: 1.0984\n",
            "Epoch 71/200\n",
            "6/6 [==============================] - 0s 3ms/step - loss: 0.8059\n",
            "Epoch 72/200\n",
            "6/6 [==============================] - 0s 4ms/step - loss: 0.8208\n",
            "Epoch 73/200\n",
            "6/6 [==============================] - 0s 2ms/step - loss: 0.7747\n",
            "Epoch 74/200\n",
            "6/6 [==============================] - 0s 2ms/step - loss: 1.1234\n",
            "Epoch 75/200\n",
            "6/6 [==============================] - 0s 3ms/step - loss: 0.9096\n",
            "Epoch 76/200\n",
            "6/6 [==============================] - 0s 2ms/step - loss: 0.8980\n",
            "Epoch 77/200\n",
            "6/6 [==============================] - 0s 2ms/step - loss: 1.0517\n",
            "Epoch 78/200\n",
            "6/6 [==============================] - 0s 4ms/step - loss: 0.9509\n",
            "Epoch 79/200\n",
            "6/6 [==============================] - 0s 3ms/step - loss: 0.7896\n",
            "Epoch 80/200\n",
            "6/6 [==============================] - 0s 3ms/step - loss: 0.9377\n",
            "Epoch 81/200\n",
            "6/6 [==============================] - 0s 3ms/step - loss: 0.8841\n",
            "Epoch 82/200\n",
            "6/6 [==============================] - 0s 3ms/step - loss: 0.7877\n",
            "Epoch 83/200\n",
            "6/6 [==============================] - 0s 2ms/step - loss: 0.7482\n",
            "Epoch 84/200\n",
            "6/6 [==============================] - 0s 4ms/step - loss: 0.9147\n",
            "Epoch 85/200\n",
            "6/6 [==============================] - 0s 3ms/step - loss: 0.8166\n",
            "Epoch 86/200\n",
            "6/6 [==============================] - 0s 2ms/step - loss: 0.8929\n",
            "Epoch 87/200\n",
            "6/6 [==============================] - 0s 2ms/step - loss: 0.9300\n",
            "Epoch 88/200\n",
            "6/6 [==============================] - 0s 2ms/step - loss: 0.6850\n",
            "Epoch 89/200\n",
            "6/6 [==============================] - 0s 3ms/step - loss: 0.9889\n",
            "Epoch 90/200\n",
            "6/6 [==============================] - 0s 2ms/step - loss: 0.6640\n",
            "Epoch 91/200\n",
            "6/6 [==============================] - 0s 2ms/step - loss: 0.8164\n",
            "Epoch 92/200\n",
            "6/6 [==============================] - 0s 2ms/step - loss: 0.9192\n",
            "Epoch 93/200\n",
            "6/6 [==============================] - 0s 3ms/step - loss: 0.8221\n",
            "Epoch 94/200\n",
            "6/6 [==============================] - 0s 2ms/step - loss: 0.6792\n",
            "Epoch 95/200\n",
            "6/6 [==============================] - 0s 2ms/step - loss: 1.0024\n",
            "Epoch 96/200\n",
            "6/6 [==============================] - 0s 2ms/step - loss: 0.8903\n",
            "Epoch 97/200\n",
            "6/6 [==============================] - 0s 2ms/step - loss: 0.9041\n",
            "Epoch 98/200\n",
            "6/6 [==============================] - 0s 3ms/step - loss: 0.8779\n",
            "Epoch 99/200\n",
            "6/6 [==============================] - 0s 2ms/step - loss: 0.7921\n",
            "Epoch 100/200\n",
            "6/6 [==============================] - 0s 2ms/step - loss: 0.9384\n",
            "Epoch 101/200\n",
            "6/6 [==============================] - 0s 2ms/step - loss: 0.7900\n",
            "Epoch 102/200\n",
            "6/6 [==============================] - 0s 2ms/step - loss: 0.8414\n",
            "Epoch 103/200\n",
            "6/6 [==============================] - 0s 2ms/step - loss: 0.9178\n",
            "Epoch 104/200\n",
            "6/6 [==============================] - 0s 3ms/step - loss: 1.0216\n",
            "Epoch 105/200\n",
            "6/6 [==============================] - 0s 3ms/step - loss: 0.9253\n",
            "Epoch 106/200\n",
            "6/6 [==============================] - 0s 2ms/step - loss: 0.8000\n",
            "Epoch 107/200\n",
            "6/6 [==============================] - 0s 3ms/step - loss: 0.9615\n",
            "Epoch 108/200\n",
            "6/6 [==============================] - 0s 2ms/step - loss: 0.9310\n",
            "Epoch 109/200\n",
            "6/6 [==============================] - 0s 3ms/step - loss: 0.9196\n",
            "Epoch 110/200\n",
            "6/6 [==============================] - 0s 3ms/step - loss: 0.8275\n",
            "Epoch 111/200\n",
            "6/6 [==============================] - 0s 3ms/step - loss: 0.9041\n",
            "Epoch 112/200\n",
            "6/6 [==============================] - 0s 2ms/step - loss: 0.8544\n",
            "Epoch 113/200\n",
            "6/6 [==============================] - 0s 2ms/step - loss: 0.7731\n",
            "Epoch 114/200\n",
            "6/6 [==============================] - 0s 3ms/step - loss: 0.8089\n",
            "Epoch 115/200\n",
            "6/6 [==============================] - 0s 2ms/step - loss: 1.0155\n",
            "Epoch 116/200\n",
            "6/6 [==============================] - 0s 3ms/step - loss: 0.8243\n",
            "Epoch 117/200\n",
            "6/6 [==============================] - 0s 2ms/step - loss: 0.8885\n",
            "Epoch 118/200\n",
            "6/6 [==============================] - 0s 3ms/step - loss: 0.9425\n",
            "Epoch 119/200\n",
            "6/6 [==============================] - 0s 2ms/step - loss: 0.7978\n",
            "Epoch 120/200\n",
            "6/6 [==============================] - 0s 2ms/step - loss: 0.7701\n",
            "Epoch 121/200\n",
            "6/6 [==============================] - 0s 2ms/step - loss: 1.0174\n",
            "Epoch 122/200\n",
            "6/6 [==============================] - 0s 3ms/step - loss: 0.7895\n",
            "Epoch 123/200\n",
            "6/6 [==============================] - 0s 4ms/step - loss: 0.7439\n",
            "Epoch 124/200\n",
            "6/6 [==============================] - 0s 3ms/step - loss: 0.8220\n",
            "Epoch 125/200\n",
            "6/6 [==============================] - 0s 3ms/step - loss: 1.1374\n",
            "Epoch 126/200\n",
            "6/6 [==============================] - 0s 2ms/step - loss: 0.8054\n",
            "Epoch 127/200\n",
            "6/6 [==============================] - 0s 2ms/step - loss: 0.8162\n",
            "Epoch 128/200\n",
            "6/6 [==============================] - 0s 2ms/step - loss: 0.8717\n",
            "Epoch 129/200\n",
            "6/6 [==============================] - 0s 2ms/step - loss: 0.8131\n",
            "Epoch 130/200\n",
            "6/6 [==============================] - 0s 3ms/step - loss: 0.8220\n",
            "Epoch 131/200\n",
            "6/6 [==============================] - 0s 2ms/step - loss: 0.6811\n",
            "Epoch 132/200\n",
            "6/6 [==============================] - 0s 3ms/step - loss: 0.8807\n",
            "Epoch 133/200\n",
            "6/6 [==============================] - 0s 3ms/step - loss: 1.0392\n",
            "Epoch 134/200\n",
            "6/6 [==============================] - 0s 2ms/step - loss: 0.8823\n",
            "Epoch 135/200\n",
            "6/6 [==============================] - 0s 2ms/step - loss: 1.0330\n",
            "Epoch 136/200\n",
            "6/6 [==============================] - 0s 2ms/step - loss: 0.7513\n",
            "Epoch 137/200\n",
            "6/6 [==============================] - 0s 3ms/step - loss: 0.7120\n",
            "Epoch 138/200\n",
            "6/6 [==============================] - 0s 2ms/step - loss: 0.9827\n",
            "Epoch 139/200\n",
            "6/6 [==============================] - 0s 2ms/step - loss: 0.8256\n",
            "Epoch 140/200\n",
            "6/6 [==============================] - 0s 2ms/step - loss: 0.8098\n",
            "Epoch 141/200\n",
            "6/6 [==============================] - 0s 2ms/step - loss: 0.8105\n",
            "Epoch 142/200\n",
            "6/6 [==============================] - 0s 2ms/step - loss: 0.9969\n",
            "Epoch 143/200\n",
            "6/6 [==============================] - 0s 2ms/step - loss: 0.8066\n",
            "Epoch 144/200\n",
            "6/6 [==============================] - 0s 2ms/step - loss: 0.9580\n",
            "Epoch 145/200\n",
            "6/6 [==============================] - 0s 2ms/step - loss: 0.8955\n",
            "Epoch 146/200\n",
            "6/6 [==============================] - 0s 2ms/step - loss: 0.9444\n",
            "Epoch 147/200\n",
            "6/6 [==============================] - 0s 2ms/step - loss: 0.8161\n",
            "Epoch 148/200\n",
            "6/6 [==============================] - 0s 3ms/step - loss: 0.9594\n",
            "Epoch 149/200\n",
            "6/6 [==============================] - 0s 2ms/step - loss: 0.7732\n",
            "Epoch 150/200\n",
            "6/6 [==============================] - 0s 2ms/step - loss: 0.9978\n",
            "Epoch 151/200\n",
            "6/6 [==============================] - 0s 3ms/step - loss: 0.7620\n",
            "Epoch 152/200\n",
            "6/6 [==============================] - 0s 3ms/step - loss: 0.9231\n",
            "Epoch 153/200\n",
            "6/6 [==============================] - 0s 3ms/step - loss: 1.0454\n",
            "Epoch 154/200\n",
            "6/6 [==============================] - 0s 3ms/step - loss: 0.9449\n",
            "Epoch 155/200\n",
            "6/6 [==============================] - 0s 3ms/step - loss: 0.9559\n",
            "Epoch 156/200\n",
            "6/6 [==============================] - 0s 3ms/step - loss: 0.7883\n",
            "Epoch 157/200\n",
            "6/6 [==============================] - 0s 2ms/step - loss: 0.7049\n",
            "Epoch 158/200\n",
            "6/6 [==============================] - 0s 2ms/step - loss: 0.7413\n",
            "Epoch 159/200\n",
            "6/6 [==============================] - 0s 3ms/step - loss: 0.7073\n",
            "Epoch 160/200\n",
            "6/6 [==============================] - 0s 2ms/step - loss: 1.0135\n",
            "Epoch 161/200\n",
            "6/6 [==============================] - 0s 2ms/step - loss: 0.7989\n",
            "Epoch 162/200\n",
            "6/6 [==============================] - 0s 2ms/step - loss: 1.0196\n",
            "Epoch 163/200\n",
            "6/6 [==============================] - 0s 2ms/step - loss: 0.8117\n",
            "Epoch 164/200\n",
            "6/6 [==============================] - 0s 2ms/step - loss: 1.0821\n",
            "Epoch 165/200\n",
            "6/6 [==============================] - 0s 2ms/step - loss: 0.8539\n",
            "Epoch 166/200\n",
            "6/6 [==============================] - 0s 2ms/step - loss: 0.9981\n",
            "Epoch 167/200\n",
            "6/6 [==============================] - 0s 2ms/step - loss: 0.7859\n",
            "Epoch 168/200\n",
            "6/6 [==============================] - 0s 2ms/step - loss: 0.8063\n",
            "Epoch 169/200\n",
            "6/6 [==============================] - 0s 3ms/step - loss: 0.9601\n",
            "Epoch 170/200\n",
            "6/6 [==============================] - 0s 3ms/step - loss: 0.9799\n",
            "Epoch 171/200\n",
            "6/6 [==============================] - 0s 2ms/step - loss: 1.0102\n",
            "Epoch 172/200\n",
            "6/6 [==============================] - 0s 3ms/step - loss: 0.9468\n",
            "Epoch 173/200\n",
            "6/6 [==============================] - 0s 2ms/step - loss: 0.8176\n",
            "Epoch 174/200\n",
            "6/6 [==============================] - 0s 2ms/step - loss: 0.9593\n",
            "Epoch 175/200\n",
            "6/6 [==============================] - 0s 2ms/step - loss: 0.7942\n",
            "Epoch 176/200\n",
            "6/6 [==============================] - 0s 2ms/step - loss: 0.7381\n",
            "Epoch 177/200\n",
            "6/6 [==============================] - 0s 3ms/step - loss: 0.8635\n",
            "Epoch 178/200\n",
            "6/6 [==============================] - 0s 3ms/step - loss: 0.7275\n",
            "Epoch 179/200\n",
            "6/6 [==============================] - 0s 2ms/step - loss: 0.8456\n",
            "Epoch 180/200\n",
            "6/6 [==============================] - 0s 2ms/step - loss: 0.8749\n",
            "Epoch 181/200\n",
            "6/6 [==============================] - 0s 2ms/step - loss: 0.8633\n",
            "Epoch 182/200\n",
            "6/6 [==============================] - 0s 3ms/step - loss: 1.0108\n",
            "Epoch 183/200\n",
            "6/6 [==============================] - 0s 2ms/step - loss: 1.0555\n",
            "Epoch 184/200\n",
            "6/6 [==============================] - 0s 2ms/step - loss: 0.9223\n",
            "Epoch 185/200\n",
            "6/6 [==============================] - 0s 2ms/step - loss: 0.8943\n",
            "Epoch 186/200\n",
            "6/6 [==============================] - 0s 2ms/step - loss: 0.8972\n",
            "Epoch 187/200\n",
            "6/6 [==============================] - 0s 3ms/step - loss: 0.9682\n",
            "Epoch 188/200\n",
            "6/6 [==============================] - 0s 2ms/step - loss: 0.9539\n",
            "Epoch 189/200\n",
            "6/6 [==============================] - 0s 2ms/step - loss: 0.7728\n",
            "Epoch 190/200\n",
            "6/6 [==============================] - 0s 3ms/step - loss: 0.8300\n",
            "Epoch 191/200\n",
            "6/6 [==============================] - 0s 3ms/step - loss: 0.7665\n",
            "Epoch 192/200\n",
            "6/6 [==============================] - 0s 2ms/step - loss: 0.8174\n",
            "Epoch 193/200\n",
            "6/6 [==============================] - 0s 2ms/step - loss: 1.0524\n",
            "Epoch 194/200\n",
            "6/6 [==============================] - 0s 3ms/step - loss: 0.8323\n",
            "Epoch 195/200\n",
            "6/6 [==============================] - 0s 2ms/step - loss: 0.9111\n",
            "Epoch 196/200\n",
            "6/6 [==============================] - 0s 4ms/step - loss: 0.8561\n",
            "Epoch 197/200\n",
            "6/6 [==============================] - 0s 2ms/step - loss: 0.8417\n",
            "Epoch 198/200\n",
            "6/6 [==============================] - 0s 2ms/step - loss: 0.8228\n",
            "Epoch 199/200\n",
            "6/6 [==============================] - 0s 2ms/step - loss: 0.8370\n",
            "Epoch 200/200\n",
            "6/6 [==============================] - 0s 2ms/step - loss: 1.0284\n"
          ],
          "name": "stdout"
        }
      ]
    },
    {
      "cell_type": "code",
      "metadata": {
        "colab": {
          "base_uri": "https://localhost:8080/",
          "height": 282
        },
        "id": "JSeosQOpswB2",
        "outputId": "b50a2083-2c7f-4fa6-9b4c-ade8c4a5d631"
      },
      "source": [
        "plt.plot(r.history['loss'],label='loss')"
      ],
      "execution_count": null,
      "outputs": [
        {
          "output_type": "execute_result",
          "data": {
            "text/plain": [
              "[<matplotlib.lines.Line2D at 0x7fb9b86f9590>]"
            ]
          },
          "metadata": {
            "tags": []
          },
          "execution_count": 13
        },
        {
          "output_type": "display_data",
          "data": {
            "image/png": "[encoded data removed]",
            "text/plain": [
              "<Figure size 432x288 with 1 Axes>"
            ]
          },
          "metadata": {
            "tags": [],
            "needs_background": "light"
          }
        }
      ]
    },
    {
      "cell_type": "code",
      "metadata": {
        "colab": {
          "base_uri": "https://localhost:8080/"
        },
        "id": "rG4H6aZ8s8T_",
        "outputId": "16d55175-aee9-49dc-c1fe-62595c877108"
      },
      "source": [
        "model.layers[0].get_weights()"
      ],
      "execution_count": null,
      "outputs": [
        {
          "output_type": "execute_result",
          "data": {
            "text/plain": [
              "[array([[0.35319906]], dtype=float32), array([17.783375], dtype=float32)]"
            ]
          },
          "metadata": {
            "tags": []
          },
          "execution_count": 14
        }
      ]
    },
    {
      "cell_type": "code",
      "metadata": {
        "id": "ysPp1KujtFcs"
      },
      "source": [
        "a=model.layers[0].get_weights()[0][0,0]"
      ],
      "execution_count": null,
      "outputs": []
    },
    {
      "cell_type": "code",
      "metadata": {
        "colab": {
          "base_uri": "https://localhost:8080/"
        },
        "id": "rear4WHltbLD",
        "outputId": "ecc2e804-9431-46ae-944e-fce543b6e814"
      },
      "source": [
        "a"
      ],
      "execution_count": null,
      "outputs": [
        {
          "output_type": "execute_result",
          "data": {
            "text/plain": [
              "0.35319906"
            ]
          },
          "metadata": {
            "tags": []
          },
          "execution_count": 16
        }
      ]
    },
    {
      "cell_type": "code",
      "metadata": {
        "colab": {
          "base_uri": "https://localhost:8080/"
        },
        "id": "1Vq7GGQBtem_",
        "outputId": "32c8f808-9de5-4b64-ff3b-76151419ea6f"
      },
      "source": [
        "print(\"To double the time: \",np.log(2)/a)"
      ],
      "execution_count": null,
      "outputs": [
        {
          "output_type": "stream",
          "text": [
            "To double the time:  1.962483057781254\n"
          ],
          "name": "stdout"
        }
      ]
    },
    {
      "cell_type": "markdown",
      "metadata": {
        "id": "j1gTVYN4YIAg"
      },
      "source": [
        "Predicting the output"
      ]
    },
    {
      "cell_type": "code",
      "metadata": {
        "colab": {
          "base_uri": "https://localhost:8080/",
          "height": 282
        },
        "id": "anLPKAeoYNZV",
        "outputId": "f67dda0a-51c5-43f8-bd84-908298b0c5e7"
      },
      "source": [
        "Yhat=model.predict(X).flatten()\n",
        "plt.scatter(X,y)\n",
        "plt.plot(X,Yhat)"
      ],
      "execution_count": null,
      "outputs": [
        {
          "output_type": "execute_result",
          "data": {
            "text/plain": [
              "[<matplotlib.lines.Line2D at 0x7fb9b1fa6f90>]"
            ]
          },
          "metadata": {
            "tags": []
          },
          "execution_count": 27
        },
        {
          "output_type": "display_data",
          "data": {
            "image/png": "[encoded data removed]",
            "text/plain": [
              "<Figure size 432x288 with 1 Axes>"
            ]
          },
          "metadata": {
            "tags": [],
            "needs_background": "light"
          }
        }
      ]
    },
    {
      "cell_type": "code",
      "metadata": {
        "colab": {
          "base_uri": "https://localhost:8080/"
        },
        "id": "Id0rLaY1aV68",
        "outputId": "5fccae61-38c2-48df-c9ce-ae19d583afef"
      },
      "source": [
        "w,b=model.layers[0].get_weights()\n",
        "X=X.reshape(-1,1)\n",
        "yhat=(X.dot(w)+b).flatten()\n",
        "np.allclose(Yhat, yhat)"
      ],
      "execution_count": null,
      "outputs": [
        {
          "output_type": "execute_result",
          "data": {
            "text/plain": [
              "True"
            ]
          },
          "metadata": {
            "tags": []
          },
          "execution_count": 32
        }
      ]
    },
    {
      "cell_type": "markdown",
      "metadata": {
        "id": "l8NcpCwpu2Iy"
      },
      "source": [
        "# Practice"
      ]
    },
    {
      "cell_type": "code",
      "metadata": {
        "id": "QkB6FTyku4bS"
      },
      "source": [
        "import pandas as pd\n",
        "import numpy as np\n",
        "import tensorflow as tf\n",
        "import seaborn as sns\n",
        "import matplotlib.pyplot as plt\n"
      ],
      "execution_count": 22,
      "outputs": []
    },
    {
      "cell_type": "code",
      "metadata": {
        "colab": {
          "base_uri": "https://localhost:8080/"
        },
        "id": "l9k1kjIAvgsM",
        "outputId": "80db89af-d6a2-46a0-9a57-2432299dfd9c"
      },
      "source": [
        "df=pd.read_csv(\"Summary of Weather.csv\")"
      ],
      "execution_count": 23,
      "outputs": [
        {
          "output_type": "stream",
          "text": [
            "/usr/local/lib/python3.7/dist-packages/IPython/core/interactiveshell.py:2718: DtypeWarning: Columns (7,18) have mixed types.Specify dtype option on import or set low_memory=False.\n",
            "  interactivity=interactivity, compiler=compiler, result=result)\n"
          ],
          "name": "stderr"
        }
      ]
    },
    {
      "cell_type": "code",
      "metadata": {
        "colab": {
          "base_uri": "https://localhost:8080/"
        },
        "id": "THxLF-C0vubz",
        "outputId": "dfbf9ab7-bec6-4628-b256-639f2934c64f"
      },
      "source": [
        "df.columns"
      ],
      "execution_count": 24,
      "outputs": [
        {
          "output_type": "execute_result",
          "data": {
            "text/plain": [
              "Index(['STA', 'Date', 'Precip', 'WindGustSpd', 'MaxTemp', 'MinTemp',\n",
              "       'MeanTemp', 'Snowfall', 'PoorWeather', 'YR', 'MO', 'DA', 'PRCP', 'DR',\n",
              "       'SPD', 'MAX', 'MIN', 'MEA', 'SNF', 'SND', 'FT', 'FB', 'FTI', 'ITH',\n",
              "       'PGT', 'TSHDSBRSGF', 'SD3', 'RHX', 'RHN', 'RVG', 'WTE'],\n",
              "      dtype='object')"
            ]
          },
          "metadata": {
            "tags": []
          },
          "execution_count": 24
        }
      ]
    },
    {
      "cell_type": "code",
      "metadata": {
        "colab": {
          "base_uri": "https://localhost:8080/",
          "height": 326
        },
        "id": "ZgxDeV5IyUi3",
        "outputId": "248262c6-ee0b-4890-dec9-cc880bfec503"
      },
      "source": [
        "sns.heatmap(df.isnull(),yticklabels=False,cbar=False,cmap='viridis')"
      ],
      "execution_count": 36,
      "outputs": [
        {
          "output_type": "execute_result",
          "data": {
            "text/plain": [
              "<matplotlib.axes._subplots.AxesSubplot at 0x7fdac0c50050>"
            ]
          },
          "metadata": {
            "tags": []
          },
          "execution_count": 36
        },
        {
          "output_type": "display_data",
          "data": {
            "image/png": "[encoded data removed]",
            "text/plain": [
              "<Figure size 432x288 with 1 Axes>"
            ]
          },
          "metadata": {
            "tags": [],
            "needs_background": "light"
          }
        }
      ]
    },
    {
      "cell_type": "code",
      "metadata": {
        "id": "wMVexJdLyms_"
      },
      "source": [
        "def convert(data):\n",
        "  if(data=='T'):\n",
        "    return 0\n",
        "  else:\n",
        "    return float(data)"
      ],
      "execution_count": 26,
      "outputs": []
    },
    {
      "cell_type": "code",
      "metadata": {
        "id": "xj0avgHwyzPZ"
      },
      "source": [
        "df['Precip']=df['Precip'].apply(convert)"
      ],
      "execution_count": 27,
      "outputs": []
    },
    {
      "cell_type": "code",
      "metadata": {
        "id": "pRoKZ2FV1WoY"
      },
      "source": [
        "df['Precip'].dropna(inplace=True)"
      ],
      "execution_count": 28,
      "outputs": []
    },
    {
      "cell_type": "code",
      "metadata": {
        "id": "l8GLmcVw3CZP"
      },
      "source": [
        "df.drop(['PoorWeather'],axis=1,inplace=True)"
      ],
      "execution_count": 29,
      "outputs": []
    },
    {
      "cell_type": "code",
      "metadata": {
        "id": "39QpUOc53UON"
      },
      "source": [
        "df['SNF']=df['SNF'].apply(convert)"
      ],
      "execution_count": 31,
      "outputs": []
    },
    {
      "cell_type": "code",
      "metadata": {
        "id": "yktiZRTJ4VsC"
      },
      "source": [
        "df['SNF'].dropna(inplace=True)"
      ],
      "execution_count": 32,
      "outputs": []
    },
    {
      "cell_type": "code",
      "metadata": {
        "id": "aGyCpHNL5NPA"
      },
      "source": [
        "df.drop(['SND', 'FT', 'FB', 'FTI', 'ITH',\n",
        "       'PGT', 'TSHDSBRSGF', 'SD3', 'RHX', 'RHN', 'RVG', 'WTE'],axis=1,inplace=True)"
      ],
      "execution_count": 33,
      "outputs": []
    },
    {
      "cell_type": "code",
      "metadata": {
        "id": "1HMUyRQTcKng"
      },
      "source": [
        "df.drop(['DR','SPD','WindGustSpd'],axis=1,inplace=True)"
      ],
      "execution_count": 35,
      "outputs": []
    },
    {
      "cell_type": "code",
      "metadata": {
        "id": "9MXJxzXq5R8s"
      },
      "source": [
        "df.dropna(inplace=True)"
      ],
      "execution_count": 37,
      "outputs": []
    },
    {
      "cell_type": "code",
      "metadata": {
        "colab": {
          "base_uri": "https://localhost:8080/"
        },
        "id": "V5nThWjQ5gDs",
        "outputId": "e7a0b118-5644-4588-ae90-3409db376b83"
      },
      "source": [
        "df.info()"
      ],
      "execution_count": 38,
      "outputs": [
        {
          "output_type": "stream",
          "text": [
            "<class 'pandas.core.frame.DataFrame'>\n",
            "Int64Index: 86096 entries, 0 to 88830\n",
            "Data columns (total 15 columns):\n",
            " #   Column    Non-Null Count  Dtype  \n",
            "---  ------    --------------  -----  \n",
            " 0   STA       86096 non-null  int64  \n",
            " 1   Date      86096 non-null  object \n",
            " 2   Precip    86096 non-null  float64\n",
            " 3   MaxTemp   86096 non-null  float64\n",
            " 4   MinTemp   86096 non-null  float64\n",
            " 5   MeanTemp  86096 non-null  float64\n",
            " 6   Snowfall  86096 non-null  object \n",
            " 7   YR        86096 non-null  float64\n",
            " 8   MO        86096 non-null  float64\n",
            " 9   DA        86096 non-null  float64\n",
            " 10  PRCP      86096 non-null  object \n",
            " 11  MAX       86096 non-null  float64\n",
            " 12  MIN       86096 non-null  float64\n",
            " 13  MEA       86096 non-null  float64\n",
            " 14  SNF       86096 non-null  float64\n",
            "dtypes: float64(11), int64(1), object(3)\n",
            "memory usage: 10.5+ MB\n"
          ],
          "name": "stdout"
        }
      ]
    },
    {
      "cell_type": "code",
      "metadata": {
        "id": "1LjNfR9d5ilS",
        "colab": {
          "base_uri": "https://localhost:8080/"
        },
        "outputId": "3ec21508-e562-47f7-d5bc-76ce403550b8"
      },
      "source": [
        "X=df.drop(['MAX','Date','PRCP','Snowfall'],axis=1)\n",
        "y=df['MAX']\n",
        "X.info()"
      ],
      "execution_count": 49,
      "outputs": [
        {
          "output_type": "stream",
          "text": [
            "<class 'pandas.core.frame.DataFrame'>\n",
            "Int64Index: 86096 entries, 0 to 88830\n",
            "Data columns (total 11 columns):\n",
            " #   Column    Non-Null Count  Dtype  \n",
            "---  ------    --------------  -----  \n",
            " 0   STA       86096 non-null  int64  \n",
            " 1   Precip    86096 non-null  float64\n",
            " 2   MaxTemp   86096 non-null  float64\n",
            " 3   MinTemp   86096 non-null  float64\n",
            " 4   MeanTemp  86096 non-null  float64\n",
            " 5   YR        86096 non-null  float64\n",
            " 6   MO        86096 non-null  float64\n",
            " 7   DA        86096 non-null  float64\n",
            " 8   MIN       86096 non-null  float64\n",
            " 9   MEA       86096 non-null  float64\n",
            " 10  SNF       86096 non-null  float64\n",
            "dtypes: float64(10), int64(1)\n",
            "memory usage: 7.9 MB\n"
          ],
          "name": "stdout"
        }
      ]
    },
    {
      "cell_type": "code",
      "metadata": {
        "id": "LLzdl6zZfdMp"
      },
      "source": [
        "from sklearn.model_selection import train_test_split\n",
        "X_train, X_test, y_train, y_test = train_test_split(X, y, test_size=0.33, random_state=42)"
      ],
      "execution_count": 73,
      "outputs": []
    },
    {
      "cell_type": "code",
      "metadata": {
        "colab": {
          "base_uri": "https://localhost:8080/"
        },
        "id": "PjpBiVty6O47",
        "outputId": "dcddf2ff-542b-49ac-d90f-8b53c3956a65"
      },
      "source": [
        "np.array(X_train).shape"
      ],
      "execution_count": 74,
      "outputs": [
        {
          "output_type": "execute_result",
          "data": {
            "text/plain": [
              "(57684, 11)"
            ]
          },
          "metadata": {
            "tags": []
          },
          "execution_count": 74
        }
      ]
    },
    {
      "cell_type": "code",
      "metadata": {
        "colab": {
          "base_uri": "https://localhost:8080/"
        },
        "id": "23dsD5xC6gPH",
        "outputId": "aefff7e2-b4ae-4ea0-bcb9-4a098fefb2cf"
      },
      "source": [
        "np.array(y).reshape(-1,1).shape"
      ],
      "execution_count": 42,
      "outputs": [
        {
          "output_type": "execute_result",
          "data": {
            "text/plain": [
              "(86096, 1)"
            ]
          },
          "metadata": {
            "tags": []
          },
          "execution_count": 42
        }
      ]
    },
    {
      "cell_type": "code",
      "metadata": {
        "id": "1Hu10ztZ6u8G"
      },
      "source": [
        "model=tf.keras.models.Sequential([\n",
        "      tf.keras.layers.Dense(128,input_shape=(11,),activation='relu'),\n",
        "      tf.keras.layers.Dense(1)\n",
        "])"
      ],
      "execution_count": 75,
      "outputs": []
    },
    {
      "cell_type": "code",
      "metadata": {
        "id": "0HeNzNLR7KFq"
      },
      "source": [
        "def schedule(ep):\n",
        "  if(ep>=50):\n",
        "    return 0.001\n",
        "  else:\n",
        "    return 0.01"
      ],
      "execution_count": 44,
      "outputs": []
    },
    {
      "cell_type": "code",
      "metadata": {
        "id": "PQrnExvf7iDW"
      },
      "source": [
        "model.compile(optimizer=tf.keras.optimizers.Adam(0.001),loss='mse')"
      ],
      "execution_count": 76,
      "outputs": []
    },
    {
      "cell_type": "code",
      "metadata": {
        "id": "bWLQYWsY73hB"
      },
      "source": [
        "scheduler=tf.keras.callbacks.LearningRateScheduler(schedule)"
      ],
      "execution_count": null,
      "outputs": []
    },
    {
      "cell_type": "code",
      "metadata": {
        "colab": {
          "base_uri": "https://localhost:8080/"
        },
        "id": "o8mriRqn8J_E",
        "outputId": "6c88a09d-0456-45e5-abec-23aa29b5d018"
      },
      "source": [
        "r=model.fit(X,y,epochs=50)"
      ],
      "execution_count": 77,
      "outputs": [
        {
          "output_type": "stream",
          "text": [
            "Epoch 1/50\n",
            "2691/2691 [==============================] - 4s 1ms/step - loss: 224512.9048\n",
            "Epoch 2/50\n",
            "2691/2691 [==============================] - 3s 1ms/step - loss: 17.5727\n",
            "Epoch 3/50\n",
            "2691/2691 [==============================] - 3s 1ms/step - loss: 23.8546\n",
            "Epoch 4/50\n",
            "2691/2691 [==============================] - 3s 1ms/step - loss: 158.9843\n",
            "Epoch 5/50\n",
            "2691/2691 [==============================] - 3s 1ms/step - loss: 56.7802\n",
            "Epoch 6/50\n",
            "2691/2691 [==============================] - 3s 1ms/step - loss: 105.7100\n",
            "Epoch 7/50\n",
            "2691/2691 [==============================] - 3s 1ms/step - loss: 149.6461\n",
            "Epoch 8/50\n",
            "2691/2691 [==============================] - 3s 1ms/step - loss: 69.7706\n",
            "Epoch 9/50\n",
            "2691/2691 [==============================] - 3s 1ms/step - loss: 51.7954\n",
            "Epoch 10/50\n",
            "2691/2691 [==============================] - 3s 1ms/step - loss: 148.6264\n",
            "Epoch 11/50\n",
            "2691/2691 [==============================] - 3s 1ms/step - loss: 201.2268\n",
            "Epoch 12/50\n",
            "2691/2691 [==============================] - 3s 1ms/step - loss: 172.7103\n",
            "Epoch 13/50\n",
            "2691/2691 [==============================] - 3s 1ms/step - loss: 31.7125\n",
            "Epoch 14/50\n",
            "2691/2691 [==============================] - 3s 1ms/step - loss: 95.0868\n",
            "Epoch 15/50\n",
            "2691/2691 [==============================] - 3s 1ms/step - loss: 100.2990\n",
            "Epoch 16/50\n",
            "2691/2691 [==============================] - 3s 1ms/step - loss: 90.5651\n",
            "Epoch 17/50\n",
            "2691/2691 [==============================] - 3s 1ms/step - loss: 250.6891\n",
            "Epoch 18/50\n",
            "2691/2691 [==============================] - 3s 1ms/step - loss: 69.0548\n",
            "Epoch 19/50\n",
            "2691/2691 [==============================] - 3s 1ms/step - loss: 16.7575\n",
            "Epoch 20/50\n",
            "2691/2691 [==============================] - 3s 1ms/step - loss: 59.2204\n",
            "Epoch 21/50\n",
            "2691/2691 [==============================] - 3s 1ms/step - loss: 79.1223\n",
            "Epoch 22/50\n",
            "2691/2691 [==============================] - 3s 1ms/step - loss: 65.5344\n",
            "Epoch 23/50\n",
            "2691/2691 [==============================] - 3s 1ms/step - loss: 97.8542\n",
            "Epoch 24/50\n",
            "2691/2691 [==============================] - 3s 1ms/step - loss: 49.9366\n",
            "Epoch 25/50\n",
            "2691/2691 [==============================] - 3s 1ms/step - loss: 52.8698\n",
            "Epoch 26/50\n",
            "2691/2691 [==============================] - 3s 1ms/step - loss: 147.8730\n",
            "Epoch 27/50\n",
            "2691/2691 [==============================] - 3s 1ms/step - loss: 68.7657\n",
            "Epoch 28/50\n",
            "2691/2691 [==============================] - 3s 1ms/step - loss: 57.5796\n",
            "Epoch 29/50\n",
            "2691/2691 [==============================] - 3s 1ms/step - loss: 45.2120\n",
            "Epoch 30/50\n",
            "2691/2691 [==============================] - 3s 1ms/step - loss: 74.1693\n",
            "Epoch 31/50\n",
            "2691/2691 [==============================] - 3s 1ms/step - loss: 23.8464\n",
            "Epoch 32/50\n",
            "2691/2691 [==============================] - 3s 1ms/step - loss: 21.5392\n",
            "Epoch 33/50\n",
            "2691/2691 [==============================] - 3s 1ms/step - loss: 41.0719\n",
            "Epoch 34/50\n",
            "2691/2691 [==============================] - 3s 1ms/step - loss: 49.6639\n",
            "Epoch 35/50\n",
            "2691/2691 [==============================] - 3s 1ms/step - loss: 19.7569\n",
            "Epoch 36/50\n",
            "2691/2691 [==============================] - 3s 1ms/step - loss: 30.0165\n",
            "Epoch 37/50\n",
            "2691/2691 [==============================] - 3s 1ms/step - loss: 146.3461\n",
            "Epoch 38/50\n",
            "2691/2691 [==============================] - 3s 1ms/step - loss: 28.3681\n",
            "Epoch 39/50\n",
            "2691/2691 [==============================] - 3s 1ms/step - loss: 28.1330\n",
            "Epoch 40/50\n",
            "2691/2691 [==============================] - 3s 1ms/step - loss: 30.3365\n",
            "Epoch 41/50\n",
            "2691/2691 [==============================] - 3s 1ms/step - loss: 29.7561\n",
            "Epoch 42/50\n",
            "2691/2691 [==============================] - 3s 1ms/step - loss: 27.6954\n",
            "Epoch 43/50\n",
            "2691/2691 [==============================] - 3s 1ms/step - loss: 37.0323\n",
            "Epoch 44/50\n",
            "2691/2691 [==============================] - 3s 1ms/step - loss: 64.2200\n",
            "Epoch 45/50\n",
            "2691/2691 [==============================] - 3s 1ms/step - loss: 28.5801\n",
            "Epoch 46/50\n",
            "2691/2691 [==============================] - 3s 1ms/step - loss: 31.4850\n",
            "Epoch 47/50\n",
            "2691/2691 [==============================] - 3s 1ms/step - loss: 51.0185\n",
            "Epoch 48/50\n",
            "2691/2691 [==============================] - 3s 1ms/step - loss: 18.3982\n",
            "Epoch 49/50\n",
            "2691/2691 [==============================] - 3s 1ms/step - loss: 29.3002\n",
            "Epoch 50/50\n",
            "2691/2691 [==============================] - 3s 1ms/step - loss: 12.7592\n"
          ],
          "name": "stdout"
        }
      ]
    },
    {
      "cell_type": "code",
      "metadata": {
        "id": "h0G8dvdL8PUl",
        "colab": {
          "base_uri": "https://localhost:8080/",
          "height": 282
        },
        "outputId": "7866d005-b585-4f8e-bbf7-caaea5411d20"
      },
      "source": [
        "plt.plot(r.history['loss'],label='loss')"
      ],
      "execution_count": 80,
      "outputs": [
        {
          "output_type": "execute_result",
          "data": {
            "text/plain": [
              "[<matplotlib.lines.Line2D at 0x7fdab4fced10>]"
            ]
          },
          "metadata": {
            "tags": []
          },
          "execution_count": 80
        },
        {
          "output_type": "display_data",
          "data": {
            "image/png": "[encoded data removed]",
            "text/plain": [
              "<Figure size 432x288 with 1 Axes>"
            ]
          },
          "metadata": {
            "tags": [],
            "needs_background": "light"
          }
        }
      ]
    },
    {
      "cell_type": "code",
      "metadata": {
        "id": "p1Ke4OBFfHoN"
      },
      "source": [
        "pred=model.predict(X_test)\n"
      ],
      "execution_count": 79,
      "outputs": []
    },
    {
      "cell_type": "code",
      "metadata": {
        "colab": {
          "base_uri": "https://localhost:8080/"
        },
        "id": "ydoZDLgmhGRE",
        "outputId": "403ad732-77b9-4671-c068-9e3f0eafbd40"
      },
      "source": [
        "from sklearn import metrics\n",
        "print(\"Mean Error: {}\".format(metrics.mean_absolute_error(y_test,pred)))\n",
        "print(\"Mean Squared Error: \",metrics.mean_squared_error(y_test,pred))\n",
        "print(\"Root Mean Squared Error: \",np.sqrt(metrics.mean_squared_error(y_test,pred)))\n",
        "print(\"R2 Score \",metrics.r2_score(y_test,pred))\n"
      ],
      "execution_count": 93,
      "outputs": [
        {
          "output_type": "stream",
          "text": [
            "Mean Error: 1.9585235202455544\n",
            "Mean Squared Error:  4.668018953656717\n",
            "Root Mean Squared Error:  2.160559870417091\n",
            "R2 Score  0.9793226748422678\n"
          ],
          "name": "stdout"
        }
      ]
    },
    {
      "cell_type": "code",
      "metadata": {
        "id": "I9rSafn2hNtC"
      },
      "source": [
        ""
      ],
      "execution_count": null,
      "outputs": []
    }
  ]
}