{
  "nbformat": 4,
  "nbformat_minor": 0,
  "metadata": {
    "colab": {
      "name": "Linear Classification.ipynb",
      "provenance": [],
      "collapsed_sections": []
    },
    "kernelspec": {
      "name": "python3",
      "display_name": "Python 3"
    },
    "language_info": {
      "name": "python"
    }
  },
  "cells": [
    {
      "cell_type": "markdown",
      "metadata": {
        "id": "w_uu5f21tmyL"
      },
      "source": [
        "# Course Work"
      ]
    },
    {
      "cell_type": "code",
      "metadata": {
        "id": "MlEYg8UZdk4S"
      },
      "source": [
        "import pandas as pd\n",
        "import numpy as np\n",
        "import matplotlib.pyplot as plt"
      ],
      "execution_count": null,
      "outputs": []
    },
    {
      "cell_type": "code",
      "metadata": {
        "id": "wBYcOlcUdvQU"
      },
      "source": [
        "from sklearn.datasets import load_breast_cancer"
      ],
      "execution_count": null,
      "outputs": []
    },
    {
      "cell_type": "code",
      "metadata": {
        "colab": {
          "base_uri": "https://localhost:8080/"
        },
        "id": "BNl2YXGdd1Oy",
        "outputId": "e787c1df-b496-47aa-da1b-9b24bffdc2fd"
      },
      "source": [
        "data=load_breast_cancer()\n",
        "type(data)"
      ],
      "execution_count": null,
      "outputs": [
        {
          "output_type": "execute_result",
          "data": {
            "text/plain": [
              "sklearn.utils.Bunch"
            ]
          },
          "metadata": {
            "tags": []
          },
          "execution_count": 3
        }
      ]
    },
    {
      "cell_type": "code",
      "metadata": {
        "colab": {
          "base_uri": "https://localhost:8080/"
        },
        "id": "sqdHglrid4qS",
        "outputId": "0589104f-5d01-4697-c5f3-07ee808e2122"
      },
      "source": [
        "data.keys()"
      ],
      "execution_count": null,
      "outputs": [
        {
          "output_type": "execute_result",
          "data": {
            "text/plain": [
              "dict_keys(['data', 'target', 'target_names', 'DESCR', 'feature_names', 'filename'])"
            ]
          },
          "metadata": {
            "tags": []
          },
          "execution_count": 4
        }
      ]
    },
    {
      "cell_type": "code",
      "metadata": {
        "colab": {
          "base_uri": "https://localhost:8080/"
        },
        "id": "UjqWm7kDeIPT",
        "outputId": "5c13d1c2-3ac8-4088-8ae0-0feb3ddba488"
      },
      "source": [
        "data.data"
      ],
      "execution_count": null,
      "outputs": [
        {
          "output_type": "execute_result",
          "data": {
            "text/plain": [
              "array([[1.799e+01, 1.038e+01, 1.228e+02, ..., 2.654e-01, 4.601e-01,\n",
              "        1.189e-01],\n",
              "       [2.057e+01, 1.777e+01, 1.329e+02, ..., 1.860e-01, 2.750e-01,\n",
              "        8.902e-02],\n",
              "       [1.969e+01, 2.125e+01, 1.300e+02, ..., 2.430e-01, 3.613e-01,\n",
              "        8.758e-02],\n",
              "       ...,\n",
              "       [1.660e+01, 2.808e+01, 1.083e+02, ..., 1.418e-01, 2.218e-01,\n",
              "        7.820e-02],\n",
              "       [2.060e+01, 2.933e+01, 1.401e+02, ..., 2.650e-01, 4.087e-01,\n",
              "        1.240e-01],\n",
              "       [7.760e+00, 2.454e+01, 4.792e+01, ..., 0.000e+00, 2.871e-01,\n",
              "        7.039e-02]])"
            ]
          },
          "metadata": {
            "tags": []
          },
          "execution_count": 5
        }
      ]
    },
    {
      "cell_type": "code",
      "metadata": {
        "colab": {
          "base_uri": "https://localhost:8080/"
        },
        "id": "h3Rj_-kOeTFq",
        "outputId": "99fd7f6b-9d29-41a6-c04c-5f9fb7929afa"
      },
      "source": [
        "data.target"
      ],
      "execution_count": null,
      "outputs": [
        {
          "output_type": "execute_result",
          "data": {
            "text/plain": [
              "array([0, 0, 0, 0, 0, 0, 0, 0, 0, 0, 0, 0, 0, 0, 0, 0, 0, 0, 0, 1, 1, 1,\n",
              "       0, 0, 0, 0, 0, 0, 0, 0, 0, 0, 0, 0, 0, 0, 0, 1, 0, 0, 0, 0, 0, 0,\n",
              "       0, 0, 1, 0, 1, 1, 1, 1, 1, 0, 0, 1, 0, 0, 1, 1, 1, 1, 0, 1, 0, 0,\n",
              "       1, 1, 1, 1, 0, 1, 0, 0, 1, 0, 1, 0, 0, 1, 1, 1, 0, 0, 1, 0, 0, 0,\n",
              "       1, 1, 1, 0, 1, 1, 0, 0, 1, 1, 1, 0, 0, 1, 1, 1, 1, 0, 1, 1, 0, 1,\n",
              "       1, 1, 1, 1, 1, 1, 1, 0, 0, 0, 1, 0, 0, 1, 1, 1, 0, 0, 1, 0, 1, 0,\n",
              "       0, 1, 0, 0, 1, 1, 0, 1, 1, 0, 1, 1, 1, 1, 0, 1, 1, 1, 1, 1, 1, 1,\n",
              "       1, 1, 0, 1, 1, 1, 1, 0, 0, 1, 0, 1, 1, 0, 0, 1, 1, 0, 0, 1, 1, 1,\n",
              "       1, 0, 1, 1, 0, 0, 0, 1, 0, 1, 0, 1, 1, 1, 0, 1, 1, 0, 0, 1, 0, 0,\n",
              "       0, 0, 1, 0, 0, 0, 1, 0, 1, 0, 1, 1, 0, 1, 0, 0, 0, 0, 1, 1, 0, 0,\n",
              "       1, 1, 1, 0, 1, 1, 1, 1, 1, 0, 0, 1, 1, 0, 1, 1, 0, 0, 1, 0, 1, 1,\n",
              "       1, 1, 0, 1, 1, 1, 1, 1, 0, 1, 0, 0, 0, 0, 0, 0, 0, 0, 0, 0, 0, 0,\n",
              "       0, 0, 1, 1, 1, 1, 1, 1, 0, 1, 0, 1, 1, 0, 1, 1, 0, 1, 0, 0, 1, 1,\n",
              "       1, 1, 1, 1, 1, 1, 1, 1, 1, 1, 1, 0, 1, 1, 0, 1, 0, 1, 1, 1, 1, 1,\n",
              "       1, 1, 1, 1, 1, 1, 1, 1, 1, 0, 1, 1, 1, 0, 1, 0, 1, 1, 1, 1, 0, 0,\n",
              "       0, 1, 1, 1, 1, 0, 1, 0, 1, 0, 1, 1, 1, 0, 1, 1, 1, 1, 1, 1, 1, 0,\n",
              "       0, 0, 1, 1, 1, 1, 1, 1, 1, 1, 1, 1, 1, 0, 0, 1, 0, 0, 0, 1, 0, 0,\n",
              "       1, 1, 1, 1, 1, 0, 1, 1, 1, 1, 1, 0, 1, 1, 1, 0, 1, 1, 0, 0, 1, 1,\n",
              "       1, 1, 1, 1, 0, 1, 1, 1, 1, 1, 1, 1, 0, 1, 1, 1, 1, 1, 0, 1, 1, 0,\n",
              "       1, 1, 1, 1, 1, 1, 1, 1, 1, 1, 1, 1, 0, 1, 0, 0, 1, 0, 1, 1, 1, 1,\n",
              "       1, 0, 1, 1, 0, 1, 0, 1, 1, 0, 1, 0, 1, 1, 1, 1, 1, 1, 1, 1, 0, 0,\n",
              "       1, 1, 1, 1, 1, 1, 0, 1, 1, 1, 1, 1, 1, 1, 1, 1, 1, 0, 1, 1, 1, 1,\n",
              "       1, 1, 1, 0, 1, 0, 1, 1, 0, 1, 1, 1, 1, 1, 0, 0, 1, 0, 1, 0, 1, 1,\n",
              "       1, 1, 1, 0, 1, 1, 0, 1, 0, 1, 0, 0, 1, 1, 1, 0, 1, 1, 1, 1, 1, 1,\n",
              "       1, 1, 1, 1, 1, 0, 1, 0, 0, 1, 1, 1, 1, 1, 1, 1, 1, 1, 1, 1, 1, 1,\n",
              "       1, 1, 1, 1, 1, 1, 1, 1, 1, 1, 1, 1, 0, 0, 0, 0, 0, 0, 1])"
            ]
          },
          "metadata": {
            "tags": []
          },
          "execution_count": 6
        }
      ]
    },
    {
      "cell_type": "code",
      "metadata": {
        "colab": {
          "base_uri": "https://localhost:8080/"
        },
        "id": "W2IpXEZ5eXKZ",
        "outputId": "d6f1023b-fdc8-492b-94de-195cea98d6a9"
      },
      "source": [
        "data.target_names"
      ],
      "execution_count": null,
      "outputs": [
        {
          "output_type": "execute_result",
          "data": {
            "text/plain": [
              "array(['malignant', 'benign'], dtype='<U9')"
            ]
          },
          "metadata": {
            "tags": []
          },
          "execution_count": 7
        }
      ]
    },
    {
      "cell_type": "code",
      "metadata": {
        "colab": {
          "base_uri": "https://localhost:8080/"
        },
        "id": "ZDitRykWeZoj",
        "outputId": "1bd754c8-821b-4659-f26b-646399ed43a6"
      },
      "source": [
        "data.feature_names\n",
        "# N,d=data.shape"
      ],
      "execution_count": null,
      "outputs": [
        {
          "output_type": "execute_result",
          "data": {
            "text/plain": [
              "array(['mean radius', 'mean texture', 'mean perimeter', 'mean area',\n",
              "       'mean smoothness', 'mean compactness', 'mean concavity',\n",
              "       'mean concave points', 'mean symmetry', 'mean fractal dimension',\n",
              "       'radius error', 'texture error', 'perimeter error', 'area error',\n",
              "       'smoothness error', 'compactness error', 'concavity error',\n",
              "       'concave points error', 'symmetry error',\n",
              "       'fractal dimension error', 'worst radius', 'worst texture',\n",
              "       'worst perimeter', 'worst area', 'worst smoothness',\n",
              "       'worst compactness', 'worst concavity', 'worst concave points',\n",
              "       'worst symmetry', 'worst fractal dimension'], dtype='<U23')"
            ]
          },
          "metadata": {
            "tags": []
          },
          "execution_count": 11
        }
      ]
    },
    {
      "cell_type": "code",
      "metadata": {
        "id": "ChbWbdP1ecBj"
      },
      "source": [
        "from sklearn.model_selection import train_test_split"
      ],
      "execution_count": null,
      "outputs": []
    },
    {
      "cell_type": "code",
      "metadata": {
        "id": "w-MsfwI4e3WE"
      },
      "source": [
        "X_train,X_test,y_train,y_test=train_test_split(data.data,data.target,test_size=0.33)\n",
        "N,D=X_train.shape"
      ],
      "execution_count": null,
      "outputs": []
    },
    {
      "cell_type": "code",
      "metadata": {
        "id": "fvmYcTlrfRco"
      },
      "source": [
        "from sklearn.preprocessing import StandardScaler"
      ],
      "execution_count": null,
      "outputs": []
    },
    {
      "cell_type": "code",
      "metadata": {
        "id": "Q8Mn2XrUfVeU"
      },
      "source": [
        "scaler=StandardScaler()\n",
        "X_train=scaler.fit_transform(X_train)\n",
        "X_test=scaler.transform(X_test)"
      ],
      "execution_count": null,
      "outputs": []
    },
    {
      "cell_type": "code",
      "metadata": {
        "id": "JZFlgmAcfhGw"
      },
      "source": [
        "import tensorflow as tf"
      ],
      "execution_count": null,
      "outputs": []
    },
    {
      "cell_type": "code",
      "metadata": {
        "id": "Yq2PwEhIfnVi"
      },
      "source": [
        "model=tf.keras.models.Sequential([\n",
        "    tf.keras.layers.Input(shape=(D,)),\n",
        "    tf.keras.layers.Dense(1,activation='sigmoid')\n",
        "])"
      ],
      "execution_count": null,
      "outputs": []
    },
    {
      "cell_type": "code",
      "metadata": {
        "id": "PoHlpG59f5IS"
      },
      "source": [
        "model.compile(optimizer='adam',\n",
        "              loss='binary_crossentropy',\n",
        "              metrics=['accuracy'])"
      ],
      "execution_count": null,
      "outputs": []
    },
    {
      "cell_type": "code",
      "metadata": {
        "colab": {
          "base_uri": "https://localhost:8080/"
        },
        "id": "HHFF6vu8gcCW",
        "outputId": "a8605ec4-3ec1-4b73-af6c-eb23a7103b9c"
      },
      "source": [
        "r=model.fit(X_train,y_train,validation_data=(X_test,y_test),epochs=100)"
      ],
      "execution_count": null,
      "outputs": [
        {
          "output_type": "stream",
          "text": [
            "Epoch 1/100\n",
            "12/12 [==============================] - 1s 39ms/step - loss: 0.4833 - accuracy: 0.8167 - val_loss: 0.4427 - val_accuracy: 0.8511\n",
            "Epoch 2/100\n",
            "12/12 [==============================] - 0s 5ms/step - loss: 0.4356 - accuracy: 0.8334 - val_loss: 0.4030 - val_accuracy: 0.8830\n",
            "Epoch 3/100\n",
            "12/12 [==============================] - 0s 5ms/step - loss: 0.4087 - accuracy: 0.8631 - val_loss: 0.3695 - val_accuracy: 0.8989\n",
            "Epoch 4/100\n",
            "12/12 [==============================] - 0s 5ms/step - loss: 0.3627 - accuracy: 0.8772 - val_loss: 0.3415 - val_accuracy: 0.9149\n",
            "Epoch 5/100\n",
            "12/12 [==============================] - 0s 5ms/step - loss: 0.3442 - accuracy: 0.8898 - val_loss: 0.3179 - val_accuracy: 0.9202\n",
            "Epoch 6/100\n",
            "12/12 [==============================] - 0s 6ms/step - loss: 0.3257 - accuracy: 0.9018 - val_loss: 0.2975 - val_accuracy: 0.9415\n",
            "Epoch 7/100\n",
            "12/12 [==============================] - 0s 5ms/step - loss: 0.3132 - accuracy: 0.9014 - val_loss: 0.2801 - val_accuracy: 0.9521\n",
            "Epoch 8/100\n",
            "12/12 [==============================] - 0s 5ms/step - loss: 0.2993 - accuracy: 0.9079 - val_loss: 0.2648 - val_accuracy: 0.9521\n",
            "Epoch 9/100\n",
            "12/12 [==============================] - 0s 5ms/step - loss: 0.2741 - accuracy: 0.9040 - val_loss: 0.2514 - val_accuracy: 0.9521\n",
            "Epoch 10/100\n",
            "12/12 [==============================] - 0s 5ms/step - loss: 0.3105 - accuracy: 0.8722 - val_loss: 0.2395 - val_accuracy: 0.9521\n",
            "Epoch 11/100\n",
            "12/12 [==============================] - 0s 5ms/step - loss: 0.2588 - accuracy: 0.9130 - val_loss: 0.2290 - val_accuracy: 0.9521\n",
            "Epoch 12/100\n",
            "12/12 [==============================] - 0s 5ms/step - loss: 0.2474 - accuracy: 0.9186 - val_loss: 0.2193 - val_accuracy: 0.9521\n",
            "Epoch 13/100\n",
            "12/12 [==============================] - 0s 4ms/step - loss: 0.2314 - accuracy: 0.9242 - val_loss: 0.2106 - val_accuracy: 0.9574\n",
            "Epoch 14/100\n",
            "12/12 [==============================] - 0s 5ms/step - loss: 0.2173 - accuracy: 0.9362 - val_loss: 0.2027 - val_accuracy: 0.9574\n",
            "Epoch 15/100\n",
            "12/12 [==============================] - 0s 6ms/step - loss: 0.2294 - accuracy: 0.9203 - val_loss: 0.1956 - val_accuracy: 0.9574\n",
            "Epoch 16/100\n",
            "12/12 [==============================] - 0s 5ms/step - loss: 0.2271 - accuracy: 0.9341 - val_loss: 0.1890 - val_accuracy: 0.9574\n",
            "Epoch 17/100\n",
            "12/12 [==============================] - 0s 4ms/step - loss: 0.1961 - accuracy: 0.9316 - val_loss: 0.1828 - val_accuracy: 0.9574\n",
            "Epoch 18/100\n",
            "12/12 [==============================] - 0s 5ms/step - loss: 0.2067 - accuracy: 0.9374 - val_loss: 0.1773 - val_accuracy: 0.9574\n",
            "Epoch 19/100\n",
            "12/12 [==============================] - 0s 5ms/step - loss: 0.1919 - accuracy: 0.9275 - val_loss: 0.1721 - val_accuracy: 0.9628\n",
            "Epoch 20/100\n",
            "12/12 [==============================] - 0s 5ms/step - loss: 0.1695 - accuracy: 0.9453 - val_loss: 0.1673 - val_accuracy: 0.9628\n",
            "Epoch 21/100\n",
            "12/12 [==============================] - 0s 5ms/step - loss: 0.1615 - accuracy: 0.9500 - val_loss: 0.1627 - val_accuracy: 0.9628\n",
            "Epoch 22/100\n",
            "12/12 [==============================] - 0s 5ms/step - loss: 0.1770 - accuracy: 0.9372 - val_loss: 0.1585 - val_accuracy: 0.9681\n",
            "Epoch 23/100\n",
            "12/12 [==============================] - 0s 5ms/step - loss: 0.1860 - accuracy: 0.9344 - val_loss: 0.1545 - val_accuracy: 0.9681\n",
            "Epoch 24/100\n",
            "12/12 [==============================] - 0s 5ms/step - loss: 0.1501 - accuracy: 0.9630 - val_loss: 0.1507 - val_accuracy: 0.9681\n",
            "Epoch 25/100\n",
            "12/12 [==============================] - 0s 5ms/step - loss: 0.1683 - accuracy: 0.9492 - val_loss: 0.1473 - val_accuracy: 0.9681\n",
            "Epoch 26/100\n",
            "12/12 [==============================] - 0s 5ms/step - loss: 0.1713 - accuracy: 0.9553 - val_loss: 0.1439 - val_accuracy: 0.9681\n",
            "Epoch 27/100\n",
            "12/12 [==============================] - 0s 5ms/step - loss: 0.1809 - accuracy: 0.9392 - val_loss: 0.1408 - val_accuracy: 0.9681\n",
            "Epoch 28/100\n",
            "12/12 [==============================] - 0s 6ms/step - loss: 0.1781 - accuracy: 0.9378 - val_loss: 0.1379 - val_accuracy: 0.9787\n",
            "Epoch 29/100\n",
            "12/12 [==============================] - 0s 5ms/step - loss: 0.1925 - accuracy: 0.9199 - val_loss: 0.1352 - val_accuracy: 0.9787\n",
            "Epoch 30/100\n",
            "12/12 [==============================] - 0s 5ms/step - loss: 0.1538 - accuracy: 0.9501 - val_loss: 0.1325 - val_accuracy: 0.9787\n",
            "Epoch 31/100\n",
            "12/12 [==============================] - 0s 5ms/step - loss: 0.1524 - accuracy: 0.9506 - val_loss: 0.1299 - val_accuracy: 0.9787\n",
            "Epoch 32/100\n",
            "12/12 [==============================] - 0s 5ms/step - loss: 0.1611 - accuracy: 0.9474 - val_loss: 0.1276 - val_accuracy: 0.9787\n",
            "Epoch 33/100\n",
            "12/12 [==============================] - 0s 5ms/step - loss: 0.1606 - accuracy: 0.9533 - val_loss: 0.1254 - val_accuracy: 0.9734\n",
            "Epoch 34/100\n",
            "12/12 [==============================] - 0s 5ms/step - loss: 0.1507 - accuracy: 0.9501 - val_loss: 0.1231 - val_accuracy: 0.9734\n",
            "Epoch 35/100\n",
            "12/12 [==============================] - 0s 5ms/step - loss: 0.1381 - accuracy: 0.9640 - val_loss: 0.1211 - val_accuracy: 0.9734\n",
            "Epoch 36/100\n",
            "12/12 [==============================] - 0s 6ms/step - loss: 0.1348 - accuracy: 0.9610 - val_loss: 0.1191 - val_accuracy: 0.9734\n",
            "Epoch 37/100\n",
            "12/12 [==============================] - 0s 6ms/step - loss: 0.1487 - accuracy: 0.9583 - val_loss: 0.1172 - val_accuracy: 0.9734\n",
            "Epoch 38/100\n",
            "12/12 [==============================] - 0s 6ms/step - loss: 0.1384 - accuracy: 0.9654 - val_loss: 0.1155 - val_accuracy: 0.9734\n",
            "Epoch 39/100\n",
            "12/12 [==============================] - 0s 5ms/step - loss: 0.1536 - accuracy: 0.9589 - val_loss: 0.1137 - val_accuracy: 0.9734\n",
            "Epoch 40/100\n",
            "12/12 [==============================] - 0s 6ms/step - loss: 0.1429 - accuracy: 0.9573 - val_loss: 0.1121 - val_accuracy: 0.9734\n",
            "Epoch 41/100\n",
            "12/12 [==============================] - 0s 5ms/step - loss: 0.1414 - accuracy: 0.9661 - val_loss: 0.1105 - val_accuracy: 0.9787\n",
            "Epoch 42/100\n",
            "12/12 [==============================] - 0s 5ms/step - loss: 0.1350 - accuracy: 0.9648 - val_loss: 0.1089 - val_accuracy: 0.9840\n",
            "Epoch 43/100\n",
            "12/12 [==============================] - 0s 5ms/step - loss: 0.1356 - accuracy: 0.9667 - val_loss: 0.1075 - val_accuracy: 0.9840\n",
            "Epoch 44/100\n",
            "12/12 [==============================] - 0s 5ms/step - loss: 0.1495 - accuracy: 0.9589 - val_loss: 0.1061 - val_accuracy: 0.9840\n",
            "Epoch 45/100\n",
            "12/12 [==============================] - 0s 5ms/step - loss: 0.1497 - accuracy: 0.9555 - val_loss: 0.1046 - val_accuracy: 0.9840\n",
            "Epoch 46/100\n",
            "12/12 [==============================] - 0s 6ms/step - loss: 0.1652 - accuracy: 0.9453 - val_loss: 0.1034 - val_accuracy: 0.9840\n",
            "Epoch 47/100\n",
            "12/12 [==============================] - 0s 5ms/step - loss: 0.1291 - accuracy: 0.9679 - val_loss: 0.1021 - val_accuracy: 0.9840\n",
            "Epoch 48/100\n",
            "12/12 [==============================] - 0s 5ms/step - loss: 0.1245 - accuracy: 0.9707 - val_loss: 0.1009 - val_accuracy: 0.9840\n",
            "Epoch 49/100\n",
            "12/12 [==============================] - 0s 5ms/step - loss: 0.1363 - accuracy: 0.9581 - val_loss: 0.0997 - val_accuracy: 0.9840\n",
            "Epoch 50/100\n",
            "12/12 [==============================] - 0s 5ms/step - loss: 0.1443 - accuracy: 0.9667 - val_loss: 0.0986 - val_accuracy: 0.9840\n",
            "Epoch 51/100\n",
            "12/12 [==============================] - 0s 5ms/step - loss: 0.1392 - accuracy: 0.9657 - val_loss: 0.0975 - val_accuracy: 0.9840\n",
            "Epoch 52/100\n",
            "12/12 [==============================] - 0s 6ms/step - loss: 0.1371 - accuracy: 0.9683 - val_loss: 0.0963 - val_accuracy: 0.9840\n",
            "Epoch 53/100\n",
            "12/12 [==============================] - 0s 5ms/step - loss: 0.1231 - accuracy: 0.9643 - val_loss: 0.0953 - val_accuracy: 0.9840\n",
            "Epoch 54/100\n",
            "12/12 [==============================] - 0s 5ms/step - loss: 0.1275 - accuracy: 0.9596 - val_loss: 0.0944 - val_accuracy: 0.9840\n",
            "Epoch 55/100\n",
            "12/12 [==============================] - 0s 5ms/step - loss: 0.1194 - accuracy: 0.9750 - val_loss: 0.0934 - val_accuracy: 0.9840\n",
            "Epoch 56/100\n",
            "12/12 [==============================] - 0s 5ms/step - loss: 0.1066 - accuracy: 0.9809 - val_loss: 0.0924 - val_accuracy: 0.9840\n",
            "Epoch 57/100\n",
            "12/12 [==============================] - 0s 5ms/step - loss: 0.1203 - accuracy: 0.9746 - val_loss: 0.0915 - val_accuracy: 0.9840\n",
            "Epoch 58/100\n",
            "12/12 [==============================] - 0s 5ms/step - loss: 0.1238 - accuracy: 0.9761 - val_loss: 0.0907 - val_accuracy: 0.9840\n",
            "Epoch 59/100\n",
            "12/12 [==============================] - 0s 5ms/step - loss: 0.1126 - accuracy: 0.9792 - val_loss: 0.0899 - val_accuracy: 0.9840\n",
            "Epoch 60/100\n",
            "12/12 [==============================] - 0s 5ms/step - loss: 0.1062 - accuracy: 0.9853 - val_loss: 0.0890 - val_accuracy: 0.9840\n",
            "Epoch 61/100\n",
            "12/12 [==============================] - 0s 5ms/step - loss: 0.1164 - accuracy: 0.9783 - val_loss: 0.0882 - val_accuracy: 0.9840\n",
            "Epoch 62/100\n",
            "12/12 [==============================] - 0s 5ms/step - loss: 0.1203 - accuracy: 0.9775 - val_loss: 0.0874 - val_accuracy: 0.9840\n",
            "Epoch 63/100\n",
            "12/12 [==============================] - 0s 6ms/step - loss: 0.1055 - accuracy: 0.9826 - val_loss: 0.0867 - val_accuracy: 0.9840\n",
            "Epoch 64/100\n",
            "12/12 [==============================] - 0s 6ms/step - loss: 0.1101 - accuracy: 0.9832 - val_loss: 0.0859 - val_accuracy: 0.9840\n",
            "Epoch 65/100\n",
            "12/12 [==============================] - 0s 5ms/step - loss: 0.1187 - accuracy: 0.9760 - val_loss: 0.0853 - val_accuracy: 0.9840\n",
            "Epoch 66/100\n",
            "12/12 [==============================] - 0s 5ms/step - loss: 0.1355 - accuracy: 0.9649 - val_loss: 0.0846 - val_accuracy: 0.9894\n",
            "Epoch 67/100\n",
            "12/12 [==============================] - 0s 6ms/step - loss: 0.1197 - accuracy: 0.9742 - val_loss: 0.0839 - val_accuracy: 0.9894\n",
            "Epoch 68/100\n",
            "12/12 [==============================] - 0s 6ms/step - loss: 0.1115 - accuracy: 0.9881 - val_loss: 0.0832 - val_accuracy: 0.9894\n",
            "Epoch 69/100\n",
            "12/12 [==============================] - 0s 5ms/step - loss: 0.1141 - accuracy: 0.9794 - val_loss: 0.0826 - val_accuracy: 0.9894\n",
            "Epoch 70/100\n",
            "12/12 [==============================] - 0s 5ms/step - loss: 0.1265 - accuracy: 0.9749 - val_loss: 0.0820 - val_accuracy: 0.9894\n",
            "Epoch 71/100\n",
            "12/12 [==============================] - 0s 6ms/step - loss: 0.1067 - accuracy: 0.9851 - val_loss: 0.0813 - val_accuracy: 0.9894\n",
            "Epoch 72/100\n",
            "12/12 [==============================] - 0s 6ms/step - loss: 0.1107 - accuracy: 0.9790 - val_loss: 0.0808 - val_accuracy: 0.9894\n",
            "Epoch 73/100\n",
            "12/12 [==============================] - 0s 5ms/step - loss: 0.1015 - accuracy: 0.9829 - val_loss: 0.0802 - val_accuracy: 0.9894\n",
            "Epoch 74/100\n",
            "12/12 [==============================] - 0s 6ms/step - loss: 0.0912 - accuracy: 0.9872 - val_loss: 0.0796 - val_accuracy: 0.9894\n",
            "Epoch 75/100\n",
            "12/12 [==============================] - 0s 5ms/step - loss: 0.0914 - accuracy: 0.9871 - val_loss: 0.0790 - val_accuracy: 0.9894\n",
            "Epoch 76/100\n",
            "12/12 [==============================] - 0s 5ms/step - loss: 0.1052 - accuracy: 0.9861 - val_loss: 0.0785 - val_accuracy: 0.9894\n",
            "Epoch 77/100\n",
            "12/12 [==============================] - 0s 6ms/step - loss: 0.1019 - accuracy: 0.9866 - val_loss: 0.0780 - val_accuracy: 0.9894\n",
            "Epoch 78/100\n",
            "12/12 [==============================] - 0s 6ms/step - loss: 0.1102 - accuracy: 0.9768 - val_loss: 0.0775 - val_accuracy: 0.9894\n",
            "Epoch 79/100\n",
            "12/12 [==============================] - 0s 5ms/step - loss: 0.0943 - accuracy: 0.9853 - val_loss: 0.0771 - val_accuracy: 0.9894\n",
            "Epoch 80/100\n",
            "12/12 [==============================] - 0s 5ms/step - loss: 0.1107 - accuracy: 0.9685 - val_loss: 0.0766 - val_accuracy: 0.9894\n",
            "Epoch 81/100\n",
            "12/12 [==============================] - 0s 5ms/step - loss: 0.0870 - accuracy: 0.9869 - val_loss: 0.0761 - val_accuracy: 0.9894\n",
            "Epoch 82/100\n",
            "12/12 [==============================] - 0s 5ms/step - loss: 0.1058 - accuracy: 0.9757 - val_loss: 0.0756 - val_accuracy: 0.9894\n",
            "Epoch 83/100\n",
            "12/12 [==============================] - 0s 5ms/step - loss: 0.1009 - accuracy: 0.9823 - val_loss: 0.0752 - val_accuracy: 0.9894\n",
            "Epoch 84/100\n",
            "12/12 [==============================] - 0s 5ms/step - loss: 0.1053 - accuracy: 0.9765 - val_loss: 0.0747 - val_accuracy: 0.9894\n",
            "Epoch 85/100\n",
            "12/12 [==============================] - 0s 5ms/step - loss: 0.0949 - accuracy: 0.9783 - val_loss: 0.0743 - val_accuracy: 0.9894\n",
            "Epoch 86/100\n",
            "12/12 [==============================] - 0s 5ms/step - loss: 0.0975 - accuracy: 0.9737 - val_loss: 0.0739 - val_accuracy: 0.9894\n",
            "Epoch 87/100\n",
            "12/12 [==============================] - 0s 5ms/step - loss: 0.1012 - accuracy: 0.9759 - val_loss: 0.0734 - val_accuracy: 0.9894\n",
            "Epoch 88/100\n",
            "12/12 [==============================] - 0s 6ms/step - loss: 0.0877 - accuracy: 0.9841 - val_loss: 0.0730 - val_accuracy: 0.9894\n",
            "Epoch 89/100\n",
            "12/12 [==============================] - 0s 5ms/step - loss: 0.1067 - accuracy: 0.9789 - val_loss: 0.0727 - val_accuracy: 0.9894\n",
            "Epoch 90/100\n",
            "12/12 [==============================] - 0s 5ms/step - loss: 0.1155 - accuracy: 0.9728 - val_loss: 0.0723 - val_accuracy: 0.9894\n",
            "Epoch 91/100\n",
            "12/12 [==============================] - 0s 5ms/step - loss: 0.0806 - accuracy: 0.9834 - val_loss: 0.0719 - val_accuracy: 0.9894\n",
            "Epoch 92/100\n",
            "12/12 [==============================] - 0s 6ms/step - loss: 0.0980 - accuracy: 0.9704 - val_loss: 0.0716 - val_accuracy: 0.9894\n",
            "Epoch 93/100\n",
            "12/12 [==============================] - 0s 6ms/step - loss: 0.1276 - accuracy: 0.9567 - val_loss: 0.0713 - val_accuracy: 0.9894\n",
            "Epoch 94/100\n",
            "12/12 [==============================] - 0s 5ms/step - loss: 0.0737 - accuracy: 0.9861 - val_loss: 0.0708 - val_accuracy: 0.9894\n",
            "Epoch 95/100\n",
            "12/12 [==============================] - 0s 5ms/step - loss: 0.0843 - accuracy: 0.9831 - val_loss: 0.0705 - val_accuracy: 0.9894\n",
            "Epoch 96/100\n",
            "12/12 [==============================] - 0s 5ms/step - loss: 0.1141 - accuracy: 0.9640 - val_loss: 0.0703 - val_accuracy: 0.9894\n",
            "Epoch 97/100\n",
            "12/12 [==============================] - 0s 5ms/step - loss: 0.0864 - accuracy: 0.9866 - val_loss: 0.0698 - val_accuracy: 0.9894\n",
            "Epoch 98/100\n",
            "12/12 [==============================] - 0s 5ms/step - loss: 0.0948 - accuracy: 0.9836 - val_loss: 0.0695 - val_accuracy: 0.9894\n",
            "Epoch 99/100\n",
            "12/12 [==============================] - 0s 5ms/step - loss: 0.0859 - accuracy: 0.9838 - val_loss: 0.0692 - val_accuracy: 0.9894\n",
            "Epoch 100/100\n",
            "12/12 [==============================] - 0s 5ms/step - loss: 0.1241 - accuracy: 0.9618 - val_loss: 0.0690 - val_accuracy: 0.9894\n"
          ],
          "name": "stdout"
        }
      ]
    },
    {
      "cell_type": "code",
      "metadata": {
        "colab": {
          "base_uri": "https://localhost:8080/"
        },
        "id": "wKaQ2Vd_gp00",
        "outputId": "dfccb771-7669-4fcb-c94b-8cbeef0091d1"
      },
      "source": [
        "print(\"Train Score is = \", model.evaluate(X_train,y_train))\n",
        "print(\"Test Score is = \",model.evaluate(X_test,y_test))"
      ],
      "execution_count": null,
      "outputs": [
        {
          "output_type": "stream",
          "text": [
            "12/12 [==============================] - 0s 1ms/step - loss: 0.0941 - accuracy: 0.9790\n",
            "Train Score is =  [0.09405738115310669, 0.9790025949478149]\n",
            "6/6 [==============================] - 0s 2ms/step - loss: 0.0690 - accuracy: 0.9894\n",
            "Test Score is =  [0.06896091252565384, 0.9893617033958435]\n"
          ],
          "name": "stdout"
        }
      ]
    },
    {
      "cell_type": "code",
      "metadata": {
        "colab": {
          "base_uri": "https://localhost:8080/",
          "height": 282
        },
        "id": "0IsWh-nxg4U2",
        "outputId": "4e1b1f36-7b98-40cc-9e4e-99eb0e8d0760"
      },
      "source": [
        "plt.plot(r.history['loss'],label='loss')\n",
        "plt.plot(r.history['val_loss'],label='val_loss')\n",
        "plt.legend()"
      ],
      "execution_count": null,
      "outputs": [
        {
          "output_type": "execute_result",
          "data": {
            "text/plain": [
              "<matplotlib.legend.Legend at 0x7fa14192e650>"
            ]
          },
          "metadata": {
            "tags": []
          },
          "execution_count": 22
        },
        {
          "output_type": "display_data",
          "data": {
            "image/png": "[encoded data removed]",
            "text/plain": [
              "<Figure size 432x288 with 1 Axes>"
            ]
          },
          "metadata": {
            "tags": [],
            "needs_background": "light"
          }
        }
      ]
    },
    {
      "cell_type": "code",
      "metadata": {
        "colab": {
          "base_uri": "https://localhost:8080/",
          "height": 282
        },
        "id": "cz92vqtkhLJG",
        "outputId": "91970bb5-c8c2-43ad-dda4-e4befbe6f5e9"
      },
      "source": [
        "plt.plot(r.history['accuracy'],label='accuracy')\n",
        "plt.plot(r.history['val_accuracy'],label='val_accuracy')\n",
        "plt.legend()"
      ],
      "execution_count": null,
      "outputs": [
        {
          "output_type": "execute_result",
          "data": {
            "text/plain": [
              "<matplotlib.legend.Legend at 0x7fa1413a4510>"
            ]
          },
          "metadata": {
            "tags": []
          },
          "execution_count": 23
        },
        {
          "output_type": "display_data",
          "data": {
            "image/png": "[encoded data removed]",
            "text/plain": [
              "<Figure size 432x288 with 1 Axes>"
            ]
          },
          "metadata": {
            "tags": [],
            "needs_background": "light"
          }
        }
      ]
    },
    {
      "cell_type": "markdown",
      "metadata": {
        "id": "uEOn2NFHZWcG"
      },
      "source": [
        "Predicting and Evaluation"
      ]
    },
    {
      "cell_type": "code",
      "metadata": {
        "colab": {
          "base_uri": "https://localhost:8080/"
        },
        "id": "7nqr8L-eZZW7",
        "outputId": "e32ce0ff-1232-46f6-aeb5-0742b5cfe0ec"
      },
      "source": [
        "P=model.predict(X_test)\n",
        "P=np.round(P).flatten()\n",
        "P.shape"
      ],
      "execution_count": null,
      "outputs": [
        {
          "output_type": "execute_result",
          "data": {
            "text/plain": [
              "(188,)"
            ]
          },
          "metadata": {
            "tags": []
          },
          "execution_count": 34
        }
      ]
    },
    {
      "cell_type": "code",
      "metadata": {
        "colab": {
          "base_uri": "https://localhost:8080/"
        },
        "id": "DyLFemKNZ5pw",
        "outputId": "073a9810-f8e2-4c17-860e-681c3219bf51"
      },
      "source": [
        "print(\"Manually Calculated Accuracy: {}\".format(np.mean(P==y_test)))\n",
        "print(\"Using tensorflow is {}\".format(model.evaluate(X_test,y_test)))"
      ],
      "execution_count": null,
      "outputs": [
        {
          "output_type": "stream",
          "text": [
            "Manually Calculated Accuracy: 0.9893617021276596\n",
            "6/6 [==============================] - 0s 2ms/step - loss: 0.0690 - accuracy: 0.9894\n",
            "Using tensorflow is [0.06896091252565384, 0.9893617033958435]\n"
          ],
          "name": "stdout"
        }
      ]
    },
    {
      "cell_type": "markdown",
      "metadata": {
        "id": "i-huXVjatusE"
      },
      "source": [
        "# Practice"
      ]
    },
    {
      "cell_type": "code",
      "metadata": {
        "id": "QELyJJrztwoE"
      },
      "source": [
        ""
      ],
      "execution_count": null,
      "outputs": []
    }
  ]
}