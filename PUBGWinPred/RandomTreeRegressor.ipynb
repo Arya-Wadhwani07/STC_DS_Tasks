{
 "cells": [
  {
   "cell_type": "code",
   "execution_count": 1,
   "metadata": {},
   "outputs": [],
   "source": [
    "import pandas as pd\n",
    "import numpy as np"
   ]
  },
  {
   "cell_type": "code",
   "execution_count": 2,
   "metadata": {},
   "outputs": [],
   "source": [
    "import seaborn as sns\n",
    "import matplotlib.pyplot as plt\n",
    "%matplotlib inline"
   ]
  },
  {
   "cell_type": "code",
   "execution_count": 13,
   "metadata": {},
   "outputs": [],
   "source": [
    "data=pd.read_csv(\"FullyCleant.csv\",index_col=False)"
   ]
  },
  {
   "cell_type": "code",
   "execution_count": 20,
   "metadata": {},
   "outputs": [],
   "source": [
    "data.drop([\"Unnamed: 0\",\"Unnamed: 0.1\"],axis=1,inplace=True)"
   ]
  },
  {
   "cell_type": "code",
   "execution_count": 21,
   "metadata": {},
   "outputs": [
    {
     "data": {
      "text/html": [
       "<div>\n",
       "<style scoped>\n",
       "    .dataframe tbody tr th:only-of-type {\n",
       "        vertical-align: middle;\n",
       "    }\n",
       "\n",
       "    .dataframe tbody tr th {\n",
       "        vertical-align: top;\n",
       "    }\n",
       "\n",
       "    .dataframe thead th {\n",
       "        text-align: right;\n",
       "    }\n",
       "</style>\n",
       "<table border=\"1\" class=\"dataframe\">\n",
       "  <thead>\n",
       "    <tr style=\"text-align: right;\">\n",
       "      <th></th>\n",
       "      <th>assists</th>\n",
       "      <th>damageDealt</th>\n",
       "      <th>headshotKills</th>\n",
       "      <th>heals</th>\n",
       "      <th>killPlace</th>\n",
       "      <th>kills</th>\n",
       "      <th>maxPlace</th>\n",
       "      <th>winPlacePerc</th>\n",
       "      <th>playersjoined</th>\n",
       "      <th>playersJoined</th>\n",
       "      <th>...</th>\n",
       "      <th>matchType_normal-duo</th>\n",
       "      <th>matchType_normal-duo-fpp</th>\n",
       "      <th>matchType_normal-solo</th>\n",
       "      <th>matchType_normal-solo-fpp</th>\n",
       "      <th>matchType_normal-squad</th>\n",
       "      <th>matchType_normal-squad-fpp</th>\n",
       "      <th>matchType_solo</th>\n",
       "      <th>matchType_solo-fpp</th>\n",
       "      <th>matchType_squad</th>\n",
       "      <th>matchType_squad-fpp</th>\n",
       "    </tr>\n",
       "  </thead>\n",
       "  <tbody>\n",
       "    <tr>\n",
       "      <th>0</th>\n",
       "      <td>0</td>\n",
       "      <td>0.00</td>\n",
       "      <td>0</td>\n",
       "      <td>0</td>\n",
       "      <td>60</td>\n",
       "      <td>0</td>\n",
       "      <td>28</td>\n",
       "      <td>0.4444</td>\n",
       "      <td>96</td>\n",
       "      <td>96</td>\n",
       "      <td>...</td>\n",
       "      <td>0</td>\n",
       "      <td>0</td>\n",
       "      <td>0</td>\n",
       "      <td>0</td>\n",
       "      <td>0</td>\n",
       "      <td>0</td>\n",
       "      <td>0</td>\n",
       "      <td>0</td>\n",
       "      <td>0</td>\n",
       "      <td>1</td>\n",
       "    </tr>\n",
       "    <tr>\n",
       "      <th>1</th>\n",
       "      <td>0</td>\n",
       "      <td>91.47</td>\n",
       "      <td>0</td>\n",
       "      <td>0</td>\n",
       "      <td>57</td>\n",
       "      <td>0</td>\n",
       "      <td>26</td>\n",
       "      <td>0.6400</td>\n",
       "      <td>91</td>\n",
       "      <td>91</td>\n",
       "      <td>...</td>\n",
       "      <td>0</td>\n",
       "      <td>0</td>\n",
       "      <td>0</td>\n",
       "      <td>0</td>\n",
       "      <td>0</td>\n",
       "      <td>0</td>\n",
       "      <td>0</td>\n",
       "      <td>0</td>\n",
       "      <td>0</td>\n",
       "      <td>1</td>\n",
       "    </tr>\n",
       "    <tr>\n",
       "      <th>2</th>\n",
       "      <td>1</td>\n",
       "      <td>68.00</td>\n",
       "      <td>0</td>\n",
       "      <td>0</td>\n",
       "      <td>47</td>\n",
       "      <td>0</td>\n",
       "      <td>50</td>\n",
       "      <td>0.7755</td>\n",
       "      <td>98</td>\n",
       "      <td>98</td>\n",
       "      <td>...</td>\n",
       "      <td>0</td>\n",
       "      <td>0</td>\n",
       "      <td>0</td>\n",
       "      <td>0</td>\n",
       "      <td>0</td>\n",
       "      <td>0</td>\n",
       "      <td>0</td>\n",
       "      <td>0</td>\n",
       "      <td>0</td>\n",
       "      <td>0</td>\n",
       "    </tr>\n",
       "    <tr>\n",
       "      <th>3</th>\n",
       "      <td>0</td>\n",
       "      <td>32.90</td>\n",
       "      <td>0</td>\n",
       "      <td>0</td>\n",
       "      <td>75</td>\n",
       "      <td>0</td>\n",
       "      <td>31</td>\n",
       "      <td>0.1667</td>\n",
       "      <td>91</td>\n",
       "      <td>91</td>\n",
       "      <td>...</td>\n",
       "      <td>0</td>\n",
       "      <td>0</td>\n",
       "      <td>0</td>\n",
       "      <td>0</td>\n",
       "      <td>0</td>\n",
       "      <td>0</td>\n",
       "      <td>0</td>\n",
       "      <td>0</td>\n",
       "      <td>0</td>\n",
       "      <td>1</td>\n",
       "    </tr>\n",
       "    <tr>\n",
       "      <th>4</th>\n",
       "      <td>0</td>\n",
       "      <td>100.00</td>\n",
       "      <td>0</td>\n",
       "      <td>0</td>\n",
       "      <td>45</td>\n",
       "      <td>1</td>\n",
       "      <td>97</td>\n",
       "      <td>0.1875</td>\n",
       "      <td>97</td>\n",
       "      <td>97</td>\n",
       "      <td>...</td>\n",
       "      <td>0</td>\n",
       "      <td>0</td>\n",
       "      <td>0</td>\n",
       "      <td>0</td>\n",
       "      <td>0</td>\n",
       "      <td>0</td>\n",
       "      <td>0</td>\n",
       "      <td>1</td>\n",
       "      <td>0</td>\n",
       "      <td>0</td>\n",
       "    </tr>\n",
       "  </tbody>\n",
       "</table>\n",
       "<p>5 rows × 28 columns</p>\n",
       "</div>"
      ],
      "text/plain": [
       "   assists  damageDealt  headshotKills  heals  killPlace  kills  maxPlace  \\\n",
       "0        0         0.00              0      0         60      0        28   \n",
       "1        0        91.47              0      0         57      0        26   \n",
       "2        1        68.00              0      0         47      0        50   \n",
       "3        0        32.90              0      0         75      0        31   \n",
       "4        0       100.00              0      0         45      1        97   \n",
       "\n",
       "   winPlacePerc  playersjoined  playersJoined  ...  matchType_normal-duo  \\\n",
       "0        0.4444             96             96  ...                     0   \n",
       "1        0.6400             91             91  ...                     0   \n",
       "2        0.7755             98             98  ...                     0   \n",
       "3        0.1667             91             91  ...                     0   \n",
       "4        0.1875             97             97  ...                     0   \n",
       "\n",
       "   matchType_normal-duo-fpp  matchType_normal-solo  matchType_normal-solo-fpp  \\\n",
       "0                         0                      0                          0   \n",
       "1                         0                      0                          0   \n",
       "2                         0                      0                          0   \n",
       "3                         0                      0                          0   \n",
       "4                         0                      0                          0   \n",
       "\n",
       "   matchType_normal-squad  matchType_normal-squad-fpp  matchType_solo  \\\n",
       "0                       0                           0               0   \n",
       "1                       0                           0               0   \n",
       "2                       0                           0               0   \n",
       "3                       0                           0               0   \n",
       "4                       0                           0               0   \n",
       "\n",
       "   matchType_solo-fpp  matchType_squad  matchType_squad-fpp  \n",
       "0                   0                0                    1  \n",
       "1                   0                0                    1  \n",
       "2                   0                0                    0  \n",
       "3                   0                0                    1  \n",
       "4                   1                0                    0  \n",
       "\n",
       "[5 rows x 28 columns]"
      ]
     },
     "execution_count": 21,
     "metadata": {},
     "output_type": "execute_result"
    }
   ],
   "source": [
    "data.head()"
   ]
  },
  {
   "cell_type": "code",
   "execution_count": 22,
   "metadata": {},
   "outputs": [
    {
     "name": "stdout",
     "output_type": "stream",
     "text": [
      "<class 'pandas.core.frame.DataFrame'>\n",
      "RangeIndex: 100000 entries, 0 to 99999\n",
      "Data columns (total 28 columns):\n",
      " #   Column                      Non-Null Count   Dtype  \n",
      "---  ------                      --------------   -----  \n",
      " 0   assists                     100000 non-null  int64  \n",
      " 1   damageDealt                 100000 non-null  float64\n",
      " 2   headshotKills               100000 non-null  int64  \n",
      " 3   heals                       100000 non-null  int64  \n",
      " 4   killPlace                   100000 non-null  int64  \n",
      " 5   kills                       100000 non-null  int64  \n",
      " 6   maxPlace                    100000 non-null  int64  \n",
      " 7   winPlacePerc                100000 non-null  float64\n",
      " 8   playersjoined               100000 non-null  int64  \n",
      " 9   playersJoined               100000 non-null  int64  \n",
      " 10  healsandboosts              100000 non-null  int64  \n",
      " 11  totalDistance               100000 non-null  float64\n",
      " 12  killsWithoutMoving          100000 non-null  bool   \n",
      " 13  matchType_crashtpp          100000 non-null  int64  \n",
      " 14  matchType_duo               100000 non-null  int64  \n",
      " 15  matchType_duo-fpp           100000 non-null  int64  \n",
      " 16  matchType_flarefpp          100000 non-null  int64  \n",
      " 17  matchType_flaretpp          100000 non-null  int64  \n",
      " 18  matchType_normal-duo        100000 non-null  int64  \n",
      " 19  matchType_normal-duo-fpp    100000 non-null  int64  \n",
      " 20  matchType_normal-solo       100000 non-null  int64  \n",
      " 21  matchType_normal-solo-fpp   100000 non-null  int64  \n",
      " 22  matchType_normal-squad      100000 non-null  int64  \n",
      " 23  matchType_normal-squad-fpp  100000 non-null  int64  \n",
      " 24  matchType_solo              100000 non-null  int64  \n",
      " 25  matchType_solo-fpp          100000 non-null  int64  \n",
      " 26  matchType_squad             100000 non-null  int64  \n",
      " 27  matchType_squad-fpp         100000 non-null  int64  \n",
      "dtypes: bool(1), float64(3), int64(24)\n",
      "memory usage: 20.7 MB\n"
     ]
    }
   ],
   "source": [
    "data.info()"
   ]
  },
  {
   "cell_type": "code",
   "execution_count": 123,
   "metadata": {},
   "outputs": [
    {
     "data": {
      "text/plain": [
       "Index(['assists', 'damageDealt', 'headshotKills', 'heals', 'killPlace',\n",
       "       'kills', 'maxPlace', 'winPlacePerc', 'playersjoined', 'playersJoined',\n",
       "       'healsandboosts', 'totalDistance', 'killsWithoutMoving',\n",
       "       'matchType_crashtpp', 'matchType_duo', 'matchType_duo-fpp',\n",
       "       'matchType_flarefpp', 'matchType_flaretpp', 'matchType_normal-duo',\n",
       "       'matchType_normal-duo-fpp', 'matchType_normal-solo',\n",
       "       'matchType_normal-solo-fpp', 'matchType_normal-squad',\n",
       "       'matchType_normal-squad-fpp', 'matchType_solo', 'matchType_solo-fpp',\n",
       "       'matchType_squad', 'matchType_squad-fpp'],\n",
       "      dtype='object')"
      ]
     },
     "execution_count": 123,
     "metadata": {},
     "output_type": "execute_result"
    }
   ],
   "source": [
    "data.columns"
   ]
  },
  {
   "cell_type": "code",
   "execution_count": 23,
   "metadata": {},
   "outputs": [],
   "source": [
    "from sklearn.model_selection import train_test_split"
   ]
  },
  {
   "cell_type": "code",
   "execution_count": 135,
   "metadata": {},
   "outputs": [],
   "source": [
    "X=data.drop([\"winPlacePerc\"],axis=1)\n",
    "y=data[\"winPlacePerc\"]"
   ]
  },
  {
   "cell_type": "code",
   "execution_count": 136,
   "metadata": {},
   "outputs": [],
   "source": [
    "X_train, X_test, y_train, y_test = train_test_split(X, y, test_size=0.33, random_state=42)"
   ]
  },
  {
   "cell_type": "code",
   "execution_count": 31,
   "metadata": {},
   "outputs": [],
   "source": [
    "from sklearn.ensemble import RandomForestRegressor"
   ]
  },
  {
   "cell_type": "code",
   "execution_count": 137,
   "metadata": {},
   "outputs": [],
   "source": [
    "model=RandomForestRegressor()"
   ]
  },
  {
   "cell_type": "code",
   "execution_count": 138,
   "metadata": {},
   "outputs": [
    {
     "data": {
      "text/plain": [
       "RandomForestRegressor()"
      ]
     },
     "execution_count": 138,
     "metadata": {},
     "output_type": "execute_result"
    }
   ],
   "source": [
    "model.fit(X_train,y_train)"
   ]
  },
  {
   "cell_type": "code",
   "execution_count": 139,
   "metadata": {},
   "outputs": [],
   "source": [
    "predictions=model.predict(X_test)"
   ]
  },
  {
   "cell_type": "code",
   "execution_count": 38,
   "metadata": {},
   "outputs": [],
   "source": [
    "from sklearn import metrics"
   ]
  },
  {
   "cell_type": "code",
   "execution_count": 130,
   "metadata": {},
   "outputs": [
    {
     "name": "stdout",
     "output_type": "stream",
     "text": [
      "0.08601263651118146\n"
     ]
    }
   ],
   "source": [
    "print(metrics.mean_absolute_error(y_test,predictions))"
   ]
  },
  {
   "cell_type": "code",
   "execution_count": 131,
   "metadata": {},
   "outputs": [
    {
     "name": "stdout",
     "output_type": "stream",
     "text": [
      "0.12347990156099158\n"
     ]
    }
   ],
   "source": [
    "print(np.sqrt(metrics.mean_squared_error(y_test,predictions)))"
   ]
  },
  {
   "cell_type": "code",
   "execution_count": 132,
   "metadata": {},
   "outputs": [
    {
     "name": "stdout",
     "output_type": "stream",
     "text": [
      "0.01524728608951217\n"
     ]
    }
   ],
   "source": [
    "print(metrics.mean_squared_error(y_test,predictions))"
   ]
  },
  {
   "cell_type": "code",
   "execution_count": 52,
   "metadata": {},
   "outputs": [
    {
     "data": {
      "text/plain": [
       "0.1072150000000001"
      ]
     },
     "execution_count": 52,
     "metadata": {},
     "output_type": "execute_result"
    }
   ],
   "source": [
    "predictions[1]"
   ]
  },
  {
   "cell_type": "code",
   "execution_count": 119,
   "metadata": {},
   "outputs": [
    {
     "data": {
      "text/plain": [
       "array([7.04839e-01, 1.07215e-01, 9.42740e-01, ..., 2.38619e-01,\n",
       "       3.70000e-04, 2.13460e-01])"
      ]
     },
     "execution_count": 119,
     "metadata": {},
     "output_type": "execute_result"
    }
   ],
   "source": [
    "predictions"
   ]
  },
  {
   "cell_type": "code",
   "execution_count": 122,
   "metadata": {},
   "outputs": [
    {
     "data": {
      "text/plain": [
       "0.47276287316541366"
      ]
     },
     "execution_count": 122,
     "metadata": {},
     "output_type": "execute_result"
    }
   ],
   "source": [
    "np.mean(predictions)"
   ]
  },
  {
   "cell_type": "code",
   "execution_count": 121,
   "metadata": {},
   "outputs": [
    {
     "data": {
      "text/plain": [
       "0.473197772727272"
      ]
     },
     "execution_count": 121,
     "metadata": {},
     "output_type": "execute_result"
    }
   ],
   "source": [
    "np.mean(y_test)"
   ]
  },
  {
   "cell_type": "code",
   "execution_count": 60,
   "metadata": {},
   "outputs": [
    {
     "data": {
      "text/plain": [
       "numpy.ndarray"
      ]
     },
     "execution_count": 60,
     "metadata": {},
     "output_type": "execute_result"
    }
   ],
   "source": [
    "type(predictions)"
   ]
  },
  {
   "cell_type": "code",
   "execution_count": 79,
   "metadata": {},
   "outputs": [
    {
     "data": {
      "text/plain": [
       "pandas.core.series.Series"
      ]
     },
     "execution_count": 79,
     "metadata": {},
     "output_type": "execute_result"
    }
   ],
   "source": [
    "type(y_test)"
   ]
  },
  {
   "cell_type": "code",
   "execution_count": 77,
   "metadata": {},
   "outputs": [
    {
     "data": {
      "text/plain": [
       "array([0.704839  , 0.107215  , 0.94274   , 0.971415  , 0.554247  ,\n",
       "       0.861382  , 0.42768   , 0.7657    , 0.579602  , 0.35635675])"
      ]
     },
     "execution_count": 77,
     "metadata": {},
     "output_type": "execute_result"
    }
   ],
   "source": [
    "predictions[0:10]"
   ]
  },
  {
   "cell_type": "code",
   "execution_count": 80,
   "metadata": {},
   "outputs": [
    {
     "data": {
      "text/plain": [
       "array([0.5567, 0.1224, 1.    , ..., 0.2   , 0.    , 0.1481])"
      ]
     },
     "execution_count": 80,
     "metadata": {},
     "output_type": "execute_result"
    }
   ],
   "source": [
    "np.array(y_test)"
   ]
  },
  {
   "cell_type": "code",
   "execution_count": 90,
   "metadata": {},
   "outputs": [
    {
     "data": {
      "text/plain": [
       "array([7.04839e-01, 1.07215e-01, 9.42740e-01, ..., 2.38619e-01,\n",
       "       3.70000e-04, 2.13460e-01])"
      ]
     },
     "execution_count": 90,
     "metadata": {},
     "output_type": "execute_result"
    }
   ],
   "source": [
    "predictions"
   ]
  },
  {
   "cell_type": "code",
   "execution_count": 99,
   "metadata": {},
   "outputs": [],
   "source": [
    "df=pd.DataFrame([np.array(y_test).transpose(),predictions])"
   ]
  },
  {
   "cell_type": "code",
   "execution_count": 133,
   "metadata": {},
   "outputs": [
    {
     "data": {
      "text/plain": [
       "[]"
      ]
     },
     "execution_count": 133,
     "metadata": {},
     "output_type": "execute_result"
    },
    {
     "data": {
      "image/png": "[encoded data removed]",
      "text/plain": [
       "<Figure size 432x288 with 1 Axes>"
      ]
     },
     "metadata": {},
     "output_type": "display_data"
    }
   ],
   "source": [
    "ax=plt.axes()\n",
    "ax.scatter(x=y_test[0:2000],y=predictions[0:2000])\n",
    "ax.plot()"
   ]
  },
  {
   "cell_type": "code",
   "execution_count": 140,
   "metadata": {},
   "outputs": [
    {
     "name": "stdout",
     "output_type": "stream",
     "text": [
      "0.9039382622603946\n"
     ]
    }
   ],
   "source": [
    "print(metrics.r2_score(y_test,predictions))"
   ]
  },
  {
   "cell_type": "code",
   "execution_count": null,
   "metadata": {},
   "outputs": [],
   "source": []
  }
 ],
 "metadata": {
  "kernelspec": {
   "display_name": "Python 3",
   "language": "python",
   "name": "python3"
  },
  "language_info": {
   "codemirror_mode": {
    "name": "ipython",
    "version": 3
   },
   "file_extension": ".py",
   "mimetype": "text/x-python",
   "name": "python",
   "nbconvert_exporter": "python",
   "pygments_lexer": "ipython3",
   "version": "3.8.5"
  }
 },
 "nbformat": 4,
 "nbformat_minor": 4
}
