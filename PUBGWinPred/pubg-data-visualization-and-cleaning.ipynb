{
 "cells": [
  {
   "cell_type": "code",
   "execution_count": null,
   "metadata": {
    "_cell_guid": "b1076dfc-b9ad-4769-8c92-a6c4dae69d19",
    "_uuid": "8f2839f25d086af736a60e9eeb907d3b93b6e0e5"
   },
   "outputs": [],
   "source": [
    "# This Python 3 environment comes with many helpful analytics libraries installed\n",
    "# It is defined by the kaggle/python docker image: https://github.com/kaggle/docker-python\n",
    "# For example, here's several helpful packages to load in \n",
    "\n",
    "import numpy as np # linear algebra\n",
    "import pandas as pd # data processing, CSV file I/O (e.g. pd.read_csv)\n",
    "\n",
    "# Input data files are available in the \"../input/\" directory.\n",
    "# For example, running this (by clicking run or pressing Shift+Enter) will list the files in the input directory\n",
    "\n",
    "import os\n",
    "print(os.listdir(\"../input\"))\n",
    "\n",
    "# Any results you write to the current directory are saved as output."
   ]
  },
  {
   "cell_type": "markdown",
   "metadata": {
    "_cell_guid": "79c7e3d0-c299-4dcb-8224-4455121ee9b0",
    "_uuid": "d629ff2d2480ee46fbb7e2d37f6b5fab8052498a",
    "collapsed": true
   },
   "source": [
    "## PUBG Data Analysis "
   ]
  },
  {
   "cell_type": "markdown",
   "metadata": {
    "_uuid": "194b99fb763bb51e5f9f77f9dfd8234502f238dd"
   },
   "source": [
    "In this kernal i am going to explore PUBG dataset,visualise the data and conclude something"
   ]
  },
  {
   "cell_type": "markdown",
   "metadata": {
    "_uuid": "c46a7dd5c6b73b78c71112a3fa9753bbbe89cf6d"
   },
   "source": [
    "<img src=\"https://cdn.images.express.co.uk/img/dynamic/143/590x/PUBG-886916.jpg\">"
   ]
  },
  {
   "cell_type": "markdown",
   "metadata": {
    "_uuid": "634fa89134d158ac952de7d6048e4cbc6e326488"
   },
   "source": [
    "## Let's Start"
   ]
  },
  {
   "cell_type": "code",
   "execution_count": null,
   "metadata": {
    "_uuid": "4d7d5cc8c31cd7cb9fc78f7dbb13f7b3038fe476"
   },
   "outputs": [],
   "source": [
    "import numpy as np\n",
    "import pandas as pd\n",
    "# Visualization\n",
    "import matplotlib.pyplot as plt\n",
    "import seaborn as sns"
   ]
  },
  {
   "cell_type": "code",
   "execution_count": null,
   "metadata": {
    "_uuid": "2f30a48c78fa9b0f9e54fe10066c2bed3c8239d7"
   },
   "outputs": [],
   "source": [
    "#Read Data\n",
    "train = pd.read_csv('../input/train_V2.csv')\n",
    "test = pd.read_csv('../input/test_V2.csv')"
   ]
  },
  {
   "cell_type": "code",
   "execution_count": null,
   "metadata": {
    "_uuid": "e53764492a0896827f2d20929822a67991f231d6"
   },
   "outputs": [],
   "source": [
    "train.info()"
   ]
  },
  {
   "cell_type": "code",
   "execution_count": null,
   "metadata": {
    "_uuid": "f661b4743186ebd69efadcc2223107f11e69f73e"
   },
   "outputs": [],
   "source": [
    "train.columns"
   ]
  },
  {
   "cell_type": "markdown",
   "metadata": {
    "_uuid": "9b90072952930e117b52a40c13c2c6d9f2a713b9"
   },
   "source": [
    "## FEATURE DESCRIPTION'S FROM KAGGLE \n",
    "*  DBNOs - Number of enemy players knocked.\n",
    "*     assists - Number of enemy players this player damaged that were killed by teammates.\n",
    "*     boosts - Number of boost items used.\n",
    "*     damageDealt - Total damage dealt. Note: Self inflicted damage is subtracted.\n",
    "*     headshotKills - Number of enemy players killed with headshots.\n",
    "*     heals - Number of healing items used.\n",
    "*     Id - Player’s Id\n",
    "*    killPlace - Ranking in match of number of enemy players killed.\n",
    "*     killPoints - Kills-based external ranking of player. (Think of this as an Elo ranking where only kills matter.) If there is a value       \n",
    "       other than -1 in rankPoints, then any 0 in killPoints should be treated as a “None”.\n",
    "*     killStreaks - Max number of enemy players killed in a short amount of time.\n",
    "*     kills - Number of enemy players killed.\n",
    "*     longestKill - Longest distance between player and player killed at time of death. This may be misleading, as downing a \n",
    "       player and driving away may lead to a large longestKill stat.\n",
    "*     matchDuration - Duration of match in seconds.\n",
    "*     matchId - ID to identify match. There are no matches that are in both the training and testing set.\n",
    "*     matchType - String identifying the game mode that the data comes from. The standard modes are “solo”, “duo”, “squad”, “      \n",
    "      solo-fpp”, “duo-fpp”, and “squad-fpp”; other modes are from events or custom matches.\n",
    "*  rankPoints - Elo-like ranking of player. This ranking is inconsistent and is being deprecated in the API’s next version, so use\n",
    "      with caution. Value of -1 takes place of “None”. \n",
    "*   revives - Number of times this player revived teammates.\n",
    "* rideDistance - Total distance traveled in vehicles measured in meters.\n",
    "*   roadKills - Number of kills while in a vehicle.\n",
    "*   swimDistance - Total distance traveled by swimming measured in meters.\n",
    "*   teamKills - Number of times this player killed a teammate.\n",
    "*   vehicleDestroys - Number of vehicles destroyed.\n",
    "*   walkDistance - Total distance traveled on foot measured in meters.\n",
    "*  weaponsAcquired - Number of weapons picked up.\n",
    "*  winPoints - Win-based external ranking of player. (Think of this as an Elo ranking where only winning matters.) If there is a\n",
    "      value other than -1 in rankPoints, then any 0 in winPoints should be treated as a “None”.\n",
    "*  groupId - ID to identify a group within a match. If the same group of players plays in different matches, they will have a       \n",
    "     different groupId each time.\n",
    "*   numGroups - Number of groups we have data for in the match.\n",
    "*   maxPlace - Worst placement we have data for in the match. This may not match with numGroups, as sometimes the data   \n",
    "    skips over placements.\n",
    "* winPlacePerc - The target of prediction. This is a percentile winning placement, where 1 corresponds to 1st place, and 0\n",
    "    corresponds to last place in the match. It is calculated off of maxPlace, not numGroups, so it is possible to have missing\n",
    "    chunks in a match.\n"
   ]
  },
  {
   "cell_type": "code",
   "execution_count": null,
   "metadata": {
    "_uuid": "72eaf227c41981bb4d622f2345d4bc860f6bf98b"
   },
   "outputs": [],
   "source": [
    "train.head()"
   ]
  },
  {
   "cell_type": "code",
   "execution_count": null,
   "metadata": {
    "_uuid": "ed33b7fcb3f87aceb6c185cd6d7fafa4f41fe032"
   },
   "outputs": [],
   "source": [
    "# Check row with NaN value\n",
    "train[train['winPlacePerc'].isnull()]"
   ]
  },
  {
   "cell_type": "markdown",
   "metadata": {
    "_uuid": "d9cf9b133f66e98aba7bc3c8c1bbdb2257adc595"
   },
   "source": [
    "#### We have to predict \"winPlacePerc\" .So we have to delete 2744604 row where \"winPlacePerc\" is Nan shown above"
   ]
  },
  {
   "cell_type": "code",
   "execution_count": null,
   "metadata": {
    "_uuid": "1f94bd5226df3e569f27417e5fb5dad7fd4f4eee"
   },
   "outputs": [],
   "source": [
    "# Delete this player\n",
    "train.drop(2744604, inplace=True)"
   ]
  },
  {
   "cell_type": "markdown",
   "metadata": {
    "_uuid": "cbba8a365e331cb5157b31f934e76f28b5f9560c"
   },
   "source": [
    "## PLOTS\n",
    "Number of player joined"
   ]
  },
  {
   "cell_type": "code",
   "execution_count": null,
   "metadata": {
    "_uuid": "71dd9d1ffe51c7a17bc42172241598235d3c6c60"
   },
   "outputs": [],
   "source": [
    "# playersJoined\n",
    "train['playersJoined'] = train.groupby('matchId')['matchId'].transform('count')\n",
    "plt.figure(figsize=(15,10))\n",
    "sns.countplot(train[train['playersJoined']>=75]['playersJoined'])\n",
    "plt.title('playersJoined')\n",
    "plt.show()"
   ]
  },
  {
   "cell_type": "markdown",
   "metadata": {
    "_uuid": "1d3b126fb22a4252759e7b78e8998fed8162b2f6"
   },
   "source": [
    "Number of weapon acquired\n",
    "Mostly players had less 20 weapon\n"
   ]
  },
  {
   "cell_type": "code",
   "execution_count": null,
   "metadata": {
    "_uuid": "6f4fc46e251d8e4918c606f529751a48e9389fad"
   },
   "outputs": [],
   "source": [
    "weapon = train[train['weaponsAcquired']<=20]\n",
    "sns.countplot(x='weaponsAcquired',data =weapon)"
   ]
  },
  {
   "cell_type": "markdown",
   "metadata": {
    "_uuid": "38d7675571fd3366bb0df5407051d30c794b3b40"
   },
   "source": [
    "### Heals and Boost\n",
    "We create a feature called 'healsandboosts' by adding heals and boosts"
   ]
  },
  {
   "cell_type": "code",
   "execution_count": null,
   "metadata": {
    "_uuid": "1df5e66942a2ccd664e77fc07405e7670d7b31fe"
   },
   "outputs": [],
   "source": [
    "train['healsandboosts'] = train['heals'] + train['boosts']\n",
    "train[['heals', 'boosts', 'healsandboosts']].tail()"
   ]
  },
  {
   "cell_type": "markdown",
   "metadata": {
    "_uuid": "9d5437d12ed64232fffdfd490d05f7af092663e6"
   },
   "source": [
    "### Killing without moving\n",
    "We try to identify cheaters by checking if people are getting kills without moving. We first identify the totalDistance travelled by a player and then set a boolean value to True if someone got kills without moving a single inch. We will remove cheaters in our outlier detection section.\n"
   ]
  },
  {
   "cell_type": "code",
   "execution_count": null,
   "metadata": {
    "_uuid": "66da153e2d9c793d60393b6b0c8dae82b3b5004b"
   },
   "outputs": [],
   "source": [
    "train['totalDistance'] = train['rideDistance'] + train['walkDistance'] + train['swimDistance']\n",
    "train['killsWithoutMoving'] = ((train['kills'] > 0) & (train['totalDistance'] == 0))\n",
    "\n"
   ]
  },
  {
   "cell_type": "code",
   "execution_count": null,
   "metadata": {
    "_uuid": "f695ad1ec5a764cc4c8f4149c35df2f357b408c7"
   },
   "outputs": [],
   "source": [
    "display(train[train['killsWithoutMoving'] == True].shape)\n",
    "train[train['killsWithoutMoving'] == True].head(10)"
   ]
  },
  {
   "cell_type": "code",
   "execution_count": null,
   "metadata": {
    "_uuid": "b14f2d53bc2827fd17d17a860bd5745a54c50d3a"
   },
   "outputs": [],
   "source": [
    "# Remove \n",
    "train.drop(train[train['killsWithoutMoving'] == True].index, inplace=True)"
   ]
  },
  {
   "cell_type": "markdown",
   "metadata": {
    "_uuid": "ee8de9b5f13866bf604d5666b4bf8fe523fcc24c"
   },
   "source": [
    "### Players who got more than 10 roadKills\n"
   ]
  },
  {
   "cell_type": "code",
   "execution_count": null,
   "metadata": {
    "_uuid": "99924bdd80200458f9bc2a0f49354147bf9d7739"
   },
   "outputs": [],
   "source": [
    "train[train['roadKills'] > 10]"
   ]
  },
  {
   "cell_type": "markdown",
   "metadata": {
    "_uuid": "54492157a50297c0d2c18ae5e04445cbe2d2fee1"
   },
   "source": [
    "### There are some player who have more kills. Let's see them\n"
   ]
  },
  {
   "cell_type": "code",
   "execution_count": null,
   "metadata": {
    "_uuid": "c51cd82743b7b181b1aebdfa1755e751812b7ec8"
   },
   "outputs": [],
   "source": [
    "plt.figure(figsize=(12,4))\n",
    "sns.countplot(data=train, x=train['kills']).set_title('Kills')\n",
    "plt.show()"
   ]
  },
  {
   "cell_type": "markdown",
   "metadata": {
    "_uuid": "eb772fac58865c3f2deaf3351d15132853e6db61"
   },
   "source": [
    "### There are very few players having more then 10 kills , maximum kills = 72 "
   ]
  },
  {
   "cell_type": "code",
   "execution_count": null,
   "metadata": {
    "_uuid": "8c7fcf495dc1eb8ca74a85526ff11b024e656f67"
   },
   "outputs": [],
   "source": [
    "# Players who got more than 30 kills\n",
    "display(train[train['kills'] > 30].shape)\n",
    "train[train['kills'] > 30].head(10)"
   ]
  },
  {
   "cell_type": "markdown",
   "metadata": {
    "_uuid": "8b847615d81054c06d9924824785d40f8a8c3b6f"
   },
   "source": [
    "### Remove outliers \n",
    "players having kills more than 30 (remove them)"
   ]
  },
  {
   "cell_type": "code",
   "execution_count": null,
   "metadata": {
    "_uuid": "f2d6af8a333f01acee7cf81a02d90abcd76500f7"
   },
   "outputs": [],
   "source": [
    "# Remove outliers\n",
    "train.drop(train[train['kills'] > 30].index, inplace=True)"
   ]
  },
  {
   "cell_type": "markdown",
   "metadata": {
    "_uuid": "a7acc1594d00fc15d71492f35ff4247f05046a97"
   },
   "source": [
    "### Find more outliers"
   ]
  },
  {
   "cell_type": "code",
   "execution_count": null,
   "metadata": {
    "_uuid": "ad3877c38372809706b725df5f8ea91197c46bf9"
   },
   "outputs": [],
   "source": [
    "plt.figure(figsize=(12,4))\n",
    "sns.distplot(train['longestKill'], bins=10)\n",
    "plt.show()"
   ]
  },
  {
   "cell_type": "code",
   "execution_count": null,
   "metadata": {
    "_uuid": "94692fbe23f404e2ec022c96f25db27872c815e1"
   },
   "outputs": [],
   "source": [
    "display(train[train['longestKill'] >= 1000].shape)\n",
    "train[train['longestKill'] >= 1000].head(10)"
   ]
  },
  {
   "cell_type": "markdown",
   "metadata": {
    "_uuid": "3bf1911a7965b1c9021495c9eb63e37a3e74f79a"
   },
   "source": [
    "There is something fishy going on with these players. We are probably better off removing them from our dataset"
   ]
  },
  {
   "cell_type": "markdown",
   "metadata": {
    "_uuid": "8e691422a74c5c1647bba09ff133980667a7135f"
   },
   "source": [
    "### Let's check out anomalies in Distance travelled."
   ]
  },
  {
   "cell_type": "code",
   "execution_count": null,
   "metadata": {
    "_uuid": "7f0d327ebde0d75f259887df74fdfe98d121ad11"
   },
   "outputs": [],
   "source": [
    "train[['walkDistance', 'rideDistance', 'swimDistance', 'totalDistance']].describe()"
   ]
  },
  {
   "cell_type": "markdown",
   "metadata": {
    "_uuid": "247c0f0d8bf9027e3fbcb2b1cfdfbbe9afa806a4"
   },
   "source": [
    "walk distance\n"
   ]
  },
  {
   "cell_type": "code",
   "execution_count": null,
   "metadata": {
    "_uuid": "e90303a4a448bbf239665847ba852c132488be50"
   },
   "outputs": [],
   "source": [
    "plt.figure(figsize=(12,4))\n",
    "sns.distplot(train['walkDistance'], bins=10)\n",
    "plt.show()"
   ]
  },
  {
   "cell_type": "code",
   "execution_count": null,
   "metadata": {
    "_uuid": "ec1273510021dda990393ac1477e8fb1d0b1dedc"
   },
   "outputs": [],
   "source": [
    "train.drop(train[train['walkDistance'] >= 10000].index, inplace=True)"
   ]
  },
  {
   "cell_type": "markdown",
   "metadata": {
    "_uuid": "179cdf336a30351286be167fcd78684cb3a16aa6"
   },
   "source": [
    "rideDistance"
   ]
  },
  {
   "cell_type": "code",
   "execution_count": null,
   "metadata": {
    "_uuid": "392fe3fc2395fea0d56b0fab394ce98ea294b2c3"
   },
   "outputs": [],
   "source": [
    "plt.figure(figsize=(12,4))\n",
    "sns.distplot(train['rideDistance'], bins=10)\n",
    "plt.show()"
   ]
  },
  {
   "cell_type": "code",
   "execution_count": null,
   "metadata": {
    "_uuid": "bc28b91519200274ed6aadb7b53e3cdef33e0401"
   },
   "outputs": [],
   "source": [
    "train.drop(train[train['rideDistance'] >= 20000].index, inplace=True)"
   ]
  },
  {
   "cell_type": "markdown",
   "metadata": {
    "_uuid": "5c87e554c3c407d8e1c7bde7a5dd959c8458065d"
   },
   "source": [
    "swimDistance"
   ]
  },
  {
   "cell_type": "code",
   "execution_count": null,
   "metadata": {
    "_uuid": "c6050002c0164c6d5d6f9bbb6a01329a9d075821"
   },
   "outputs": [],
   "source": [
    "plt.figure(figsize=(12,4))\n",
    "sns.distplot(train['swimDistance'], bins=10)\n",
    "plt.show()"
   ]
  },
  {
   "cell_type": "code",
   "execution_count": null,
   "metadata": {
    "_uuid": "33477f6b6a2dd8b24d8c5868916ad376d15c934c"
   },
   "outputs": [],
   "source": [
    "train[train['swimDistance'] >= 2000]"
   ]
  },
  {
   "cell_type": "code",
   "execution_count": null,
   "metadata": {
    "_uuid": "2fdf9d7dbaae9f036271deb24ca0c85801e4319e"
   },
   "outputs": [],
   "source": [
    "# Remove outliers\n",
    "train.drop(train[train['swimDistance'] >= 2000].index, inplace=True)"
   ]
  },
  {
   "cell_type": "markdown",
   "metadata": {
    "_uuid": "f0f739fdf1156d029ce81afb42163eec10d2d86f"
   },
   "source": [
    "### weaponsAcquired\n",
    "\n",
    "Most people acquire between 0 and 10 weapons in a game, but you also see some people acquire more than 80 weapons! Let's check these guys ou"
   ]
  },
  {
   "cell_type": "code",
   "execution_count": null,
   "metadata": {
    "_uuid": "6b48baf41e119f3e6abd2ea5d1db5a32e9a1e05f"
   },
   "outputs": [],
   "source": [
    "plt.figure(figsize=(12,4))\n",
    "sns.distplot(train['weaponsAcquired'], bins=100)\n",
    "plt.show()"
   ]
  },
  {
   "cell_type": "code",
   "execution_count": null,
   "metadata": {
    "_uuid": "2d6ff936a15826a327e6318c389e8b817f5eae7f"
   },
   "outputs": [],
   "source": [
    "display(train[train['weaponsAcquired'] >= 80].shape)\n",
    "train[train['weaponsAcquired'] >= 80].head()"
   ]
  },
  {
   "cell_type": "code",
   "execution_count": null,
   "metadata": {
    "_uuid": "c3dc71d416977caad9b1d8b523147a29fcc78075"
   },
   "outputs": [],
   "source": [
    "# Remove outliers\n",
    "train.drop(train[train['weaponsAcquired'] >= 80].index, inplace=True)"
   ]
  },
  {
   "cell_type": "markdown",
   "metadata": {
    "_uuid": "e7e14b58ed9353be3f9c94f7cd3c21ef31bbadd0"
   },
   "source": [
    "### We have successfully removed around 1500 players "
   ]
  }
 ],
 "metadata": {
  "kernelspec": {
   "display_name": "Python 3",
   "language": "python",
   "name": "python3"
  },
  "language_info": {
   "codemirror_mode": {
    "name": "ipython",
    "version": 3
   },
   "file_extension": ".py",
   "mimetype": "text/x-python",
   "name": "python",
   "nbconvert_exporter": "python",
   "pygments_lexer": "ipython3",
   "version": "3.8.5"
  }
 },
 "nbformat": 4,
 "nbformat_minor": 1
}
