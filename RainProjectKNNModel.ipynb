{
 "cells": [
  {
   "cell_type": "code",
   "execution_count": 50,
   "metadata": {},
   "outputs": [],
   "source": [
    "import pandas as pd\n",
    "import numpy as np\n",
    "import seaborn as sns\n",
    "import matplotlib.pyplot as plt\n",
    "%matplotlib inline"
   ]
  },
  {
   "cell_type": "code",
   "execution_count": 51,
   "metadata": {},
   "outputs": [],
   "source": [
    "df=pd.read_csv(\"weatherAUS.csv\")"
   ]
  },
  {
   "cell_type": "code",
   "execution_count": 52,
   "metadata": {},
   "outputs": [],
   "source": [
    "df[\"MinTemp\"].fillna(value=np.mean(df[\"MinTemp\"]),inplace=True)\n",
    "df[\"MaxTemp\"].fillna(value=np.mean(df[\"MaxTemp\"]),inplace=True)\n",
    "df[\"Humidity9am\"].fillna(value=np.mean(df[\"Humidity9am\"]),inplace=True)\n",
    "df[\"Humidity3pm\"].fillna(value=np.mean(df[\"Humidity3pm\"]),inplace=True)\n",
    "df[\"Temp9am\"].fillna(value=np.mean(df[\"Temp9am\"]),inplace=True)\n",
    "df[\"Temp3pm\"].fillna(value=np.mean(df[\"Temp3pm\"]),inplace=True)\n",
    "df[\"WindSpeed9am\"].fillna(value=np.mean(df[\"WindSpeed9am\"]),inplace=True)\n",
    "df[\"WindSpeed3pm\"].fillna(value=np.mean(df[\"WindSpeed3pm\"]),inplace=True)\n",
    "df[\"Pressure9am\"].fillna(value=np.mean(df[\"Pressure9am\"]),inplace=True)\n",
    "df[\"Pressure3pm\"].fillna(value=np.mean(df[\"Pressure3pm\"]),inplace=True)\n",
    "df[\"Rainfall\"].fillna(value=np.mean(df[\"Rainfall\"]),inplace=True)\n",
    "df[\"WindGustSpeed\"].fillna(value=np.mean(df[\"WindGustSpeed\"]),inplace=True)\n",
    "df[\"Evaporation\"].fillna(value=np.mean(df[\"Evaporation\"]),inplace=True)\n",
    "df.drop(\"Sunshine\",axis=1,inplace=True)\n",
    "df.drop([\"Cloud9am\",\"Cloud3pm\"],axis=1,inplace=True)\n",
    "df.drop([\"WindDir3pm\",\"WindDir9am\"],axis=1,inplace=True)\n",
    "df.drop(\"WindGustDir\",axis=1,inplace=True)"
   ]
  },
  {
   "cell_type": "code",
   "execution_count": 53,
   "metadata": {},
   "outputs": [
    {
     "data": {
      "text/html": [
       "<div>\n",
       "<style scoped>\n",
       "    .dataframe tbody tr th:only-of-type {\n",
       "        vertical-align: middle;\n",
       "    }\n",
       "\n",
       "    .dataframe tbody tr th {\n",
       "        vertical-align: top;\n",
       "    }\n",
       "\n",
       "    .dataframe thead th {\n",
       "        text-align: right;\n",
       "    }\n",
       "</style>\n",
       "<table border=\"1\" class=\"dataframe\">\n",
       "  <thead>\n",
       "    <tr style=\"text-align: right;\">\n",
       "      <th></th>\n",
       "      <th>Date</th>\n",
       "      <th>Location</th>\n",
       "      <th>MinTemp</th>\n",
       "      <th>MaxTemp</th>\n",
       "      <th>Rainfall</th>\n",
       "      <th>Evaporation</th>\n",
       "      <th>WindGustSpeed</th>\n",
       "      <th>WindSpeed9am</th>\n",
       "      <th>WindSpeed3pm</th>\n",
       "      <th>Humidity9am</th>\n",
       "      <th>Humidity3pm</th>\n",
       "      <th>Pressure9am</th>\n",
       "      <th>Pressure3pm</th>\n",
       "      <th>Temp9am</th>\n",
       "      <th>Temp3pm</th>\n",
       "      <th>RainToday</th>\n",
       "      <th>RainTomorrow</th>\n",
       "    </tr>\n",
       "  </thead>\n",
       "  <tbody>\n",
       "    <tr>\n",
       "      <th>0</th>\n",
       "      <td>2008-12-01</td>\n",
       "      <td>Albury</td>\n",
       "      <td>13.4</td>\n",
       "      <td>22.9</td>\n",
       "      <td>0.6</td>\n",
       "      <td>5.468232</td>\n",
       "      <td>44.0</td>\n",
       "      <td>20.0</td>\n",
       "      <td>24.0</td>\n",
       "      <td>71.0</td>\n",
       "      <td>22.0</td>\n",
       "      <td>1007.7</td>\n",
       "      <td>1007.1</td>\n",
       "      <td>16.9</td>\n",
       "      <td>21.8</td>\n",
       "      <td>No</td>\n",
       "      <td>No</td>\n",
       "    </tr>\n",
       "    <tr>\n",
       "      <th>1</th>\n",
       "      <td>2008-12-02</td>\n",
       "      <td>Albury</td>\n",
       "      <td>7.4</td>\n",
       "      <td>25.1</td>\n",
       "      <td>0.0</td>\n",
       "      <td>5.468232</td>\n",
       "      <td>44.0</td>\n",
       "      <td>4.0</td>\n",
       "      <td>22.0</td>\n",
       "      <td>44.0</td>\n",
       "      <td>25.0</td>\n",
       "      <td>1010.6</td>\n",
       "      <td>1007.8</td>\n",
       "      <td>17.2</td>\n",
       "      <td>24.3</td>\n",
       "      <td>No</td>\n",
       "      <td>No</td>\n",
       "    </tr>\n",
       "    <tr>\n",
       "      <th>2</th>\n",
       "      <td>2008-12-03</td>\n",
       "      <td>Albury</td>\n",
       "      <td>12.9</td>\n",
       "      <td>25.7</td>\n",
       "      <td>0.0</td>\n",
       "      <td>5.468232</td>\n",
       "      <td>46.0</td>\n",
       "      <td>19.0</td>\n",
       "      <td>26.0</td>\n",
       "      <td>38.0</td>\n",
       "      <td>30.0</td>\n",
       "      <td>1007.6</td>\n",
       "      <td>1008.7</td>\n",
       "      <td>21.0</td>\n",
       "      <td>23.2</td>\n",
       "      <td>No</td>\n",
       "      <td>No</td>\n",
       "    </tr>\n",
       "    <tr>\n",
       "      <th>3</th>\n",
       "      <td>2008-12-04</td>\n",
       "      <td>Albury</td>\n",
       "      <td>9.2</td>\n",
       "      <td>28.0</td>\n",
       "      <td>0.0</td>\n",
       "      <td>5.468232</td>\n",
       "      <td>24.0</td>\n",
       "      <td>11.0</td>\n",
       "      <td>9.0</td>\n",
       "      <td>45.0</td>\n",
       "      <td>16.0</td>\n",
       "      <td>1017.6</td>\n",
       "      <td>1012.8</td>\n",
       "      <td>18.1</td>\n",
       "      <td>26.5</td>\n",
       "      <td>No</td>\n",
       "      <td>No</td>\n",
       "    </tr>\n",
       "    <tr>\n",
       "      <th>4</th>\n",
       "      <td>2008-12-05</td>\n",
       "      <td>Albury</td>\n",
       "      <td>17.5</td>\n",
       "      <td>32.3</td>\n",
       "      <td>1.0</td>\n",
       "      <td>5.468232</td>\n",
       "      <td>41.0</td>\n",
       "      <td>7.0</td>\n",
       "      <td>20.0</td>\n",
       "      <td>82.0</td>\n",
       "      <td>33.0</td>\n",
       "      <td>1010.8</td>\n",
       "      <td>1006.0</td>\n",
       "      <td>17.8</td>\n",
       "      <td>29.7</td>\n",
       "      <td>No</td>\n",
       "      <td>No</td>\n",
       "    </tr>\n",
       "  </tbody>\n",
       "</table>\n",
       "</div>"
      ],
      "text/plain": [
       "         Date Location  MinTemp  MaxTemp  Rainfall  Evaporation  \\\n",
       "0  2008-12-01   Albury     13.4     22.9       0.6     5.468232   \n",
       "1  2008-12-02   Albury      7.4     25.1       0.0     5.468232   \n",
       "2  2008-12-03   Albury     12.9     25.7       0.0     5.468232   \n",
       "3  2008-12-04   Albury      9.2     28.0       0.0     5.468232   \n",
       "4  2008-12-05   Albury     17.5     32.3       1.0     5.468232   \n",
       "\n",
       "   WindGustSpeed  WindSpeed9am  WindSpeed3pm  Humidity9am  Humidity3pm  \\\n",
       "0           44.0          20.0          24.0         71.0         22.0   \n",
       "1           44.0           4.0          22.0         44.0         25.0   \n",
       "2           46.0          19.0          26.0         38.0         30.0   \n",
       "3           24.0          11.0           9.0         45.0         16.0   \n",
       "4           41.0           7.0          20.0         82.0         33.0   \n",
       "\n",
       "   Pressure9am  Pressure3pm  Temp9am  Temp3pm RainToday RainTomorrow  \n",
       "0       1007.7       1007.1     16.9     21.8        No           No  \n",
       "1       1010.6       1007.8     17.2     24.3        No           No  \n",
       "2       1007.6       1008.7     21.0     23.2        No           No  \n",
       "3       1017.6       1012.8     18.1     26.5        No           No  \n",
       "4       1010.8       1006.0     17.8     29.7        No           No  "
      ]
     },
     "execution_count": 53,
     "metadata": {},
     "output_type": "execute_result"
    }
   ],
   "source": [
    "df.head()"
   ]
  },
  {
   "cell_type": "code",
   "execution_count": 54,
   "metadata": {},
   "outputs": [],
   "source": [
    "def converter(x):\n",
    "    if(x==\"Yes\"):\n",
    "        return 1\n",
    "    else:\n",
    "        return 0"
   ]
  },
  {
   "cell_type": "code",
   "execution_count": 55,
   "metadata": {},
   "outputs": [],
   "source": [
    "df[\"RTod\"]=df[\"RainToday\"].apply(converter)\n",
    "df[\"RTom\"]=df[\"RainTomorrow\"].apply(converter)"
   ]
  },
  {
   "cell_type": "code",
   "execution_count": 56,
   "metadata": {},
   "outputs": [],
   "source": [
    "df[\"RainTomorrow\"].value_counts()\n",
    "df[\"RainTomorrow\"].isna().value_counts()\n",
    "df[\"RainTomorrow\"].dropna(inplace=True)"
   ]
  },
  {
   "cell_type": "code",
   "execution_count": 57,
   "metadata": {},
   "outputs": [
    {
     "data": {
      "text/plain": [
       "<AxesSubplot:>"
      ]
     },
     "execution_count": 57,
     "metadata": {},
     "output_type": "execute_result"
    },
    {
     "data": {
      "image/png": "[encoded data removed]",
      "text/plain": [
       "<Figure size 432x288 with 1 Axes>"
      ]
     },
     "metadata": {
      "needs_background": "light"
     },
     "output_type": "display_data"
    }
   ],
   "source": [
    "sns.heatmap(df.isnull(),yticklabels=False,cbar=False,cmap=\"viridis\")"
   ]
  },
  {
   "cell_type": "code",
   "execution_count": 74,
   "metadata": {},
   "outputs": [],
   "source": [
    "data=df.drop([\"Date\",\"Location\",\"RainToday\",\"RainTomorrow\",\"Evaporation\"],axis=1)"
   ]
  },
  {
   "cell_type": "code",
   "execution_count": 59,
   "metadata": {},
   "outputs": [
    {
     "data": {
      "text/plain": [
       "<AxesSubplot:>"
      ]
     },
     "execution_count": 59,
     "metadata": {},
     "output_type": "execute_result"
    },
    {
     "data": {
      "image/png": "[encoded data removed]",
      "text/plain": [
       "<Figure size 432x288 with 1 Axes>"
      ]
     },
     "metadata": {
      "needs_background": "light"
     },
     "output_type": "display_data"
    }
   ],
   "source": [
    "sns.heatmap(data.isnull(),yticklabels=False,cbar=False,cmap=\"viridis\")"
   ]
  },
  {
   "cell_type": "code",
   "execution_count": 60,
   "metadata": {},
   "outputs": [],
   "source": [
    "from sklearn.preprocessing import StandardScaler"
   ]
  },
  {
   "cell_type": "code",
   "execution_count": 61,
   "metadata": {},
   "outputs": [],
   "source": [
    "scaler=StandardScaler()"
   ]
  },
  {
   "cell_type": "code",
   "execution_count": 75,
   "metadata": {},
   "outputs": [
    {
     "data": {
      "text/plain": [
       "StandardScaler()"
      ]
     },
     "execution_count": 75,
     "metadata": {},
     "output_type": "execute_result"
    }
   ],
   "source": [
    "scaler.fit(data.drop(\"RTom\",axis=1))"
   ]
  },
  {
   "cell_type": "code",
   "execution_count": 76,
   "metadata": {},
   "outputs": [],
   "source": [
    "scaled_features=scaler.transform(data.drop(\"RTom\",axis=1))"
   ]
  },
  {
   "cell_type": "code",
   "execution_count": 77,
   "metadata": {},
   "outputs": [],
   "source": [
    "df_feat=pd.DataFrame(scaled_features,columns=data.columns[:-1])"
   ]
  },
  {
   "cell_type": "code",
   "execution_count": 78,
   "metadata": {},
   "outputs": [
    {
     "data": {
      "text/html": [
       "<div>\n",
       "<style scoped>\n",
       "    .dataframe tbody tr th:only-of-type {\n",
       "        vertical-align: middle;\n",
       "    }\n",
       "\n",
       "    .dataframe tbody tr th {\n",
       "        vertical-align: top;\n",
       "    }\n",
       "\n",
       "    .dataframe thead th {\n",
       "        text-align: right;\n",
       "    }\n",
       "</style>\n",
       "<table border=\"1\" class=\"dataframe\">\n",
       "  <thead>\n",
       "    <tr style=\"text-align: right;\">\n",
       "      <th></th>\n",
       "      <th>MinTemp</th>\n",
       "      <th>MaxTemp</th>\n",
       "      <th>Rainfall</th>\n",
       "      <th>WindGustSpeed</th>\n",
       "      <th>WindSpeed9am</th>\n",
       "      <th>WindSpeed3pm</th>\n",
       "      <th>Humidity9am</th>\n",
       "      <th>Humidity3pm</th>\n",
       "      <th>Pressure9am</th>\n",
       "      <th>Pressure3pm</th>\n",
       "      <th>Temp9am</th>\n",
       "      <th>Temp3pm</th>\n",
       "      <th>RTod</th>\n",
       "    </tr>\n",
       "  </thead>\n",
       "  <tbody>\n",
       "    <tr>\n",
       "      <th>0</th>\n",
       "      <td>0.189447</td>\n",
       "      <td>-0.045336</td>\n",
       "      <td>-0.210072</td>\n",
       "      <td>0.302234</td>\n",
       "      <td>0.672222</td>\n",
       "      <td>0.612323</td>\n",
       "      <td>0.112395</td>\n",
       "      <td>-1.442965</td>\n",
       "      <td>-1.478788</td>\n",
       "      <td>-1.223882</td>\n",
       "      <td>-0.014053</td>\n",
       "      <td>0.017023</td>\n",
       "      <td>-0.529795</td>\n",
       "    </tr>\n",
       "    <tr>\n",
       "      <th>1</th>\n",
       "      <td>-0.753101</td>\n",
       "      <td>0.265043</td>\n",
       "      <td>-0.281650</td>\n",
       "      <td>0.302234</td>\n",
       "      <td>-1.133438</td>\n",
       "      <td>0.382874</td>\n",
       "      <td>-1.319609</td>\n",
       "      <td>-1.296417</td>\n",
       "      <td>-1.047782</td>\n",
       "      <td>-1.118839</td>\n",
       "      <td>0.032464</td>\n",
       "      <td>0.381985</td>\n",
       "      <td>-0.529795</td>\n",
       "    </tr>\n",
       "    <tr>\n",
       "      <th>2</th>\n",
       "      <td>0.110901</td>\n",
       "      <td>0.349692</td>\n",
       "      <td>-0.281650</td>\n",
       "      <td>0.454694</td>\n",
       "      <td>0.559368</td>\n",
       "      <td>0.841771</td>\n",
       "      <td>-1.637832</td>\n",
       "      <td>-1.052171</td>\n",
       "      <td>-1.493650</td>\n",
       "      <td>-0.983784</td>\n",
       "      <td>0.621685</td>\n",
       "      <td>0.221402</td>\n",
       "      <td>-0.529795</td>\n",
       "    </tr>\n",
       "    <tr>\n",
       "      <th>3</th>\n",
       "      <td>-0.470337</td>\n",
       "      <td>0.674180</td>\n",
       "      <td>-0.281650</td>\n",
       "      <td>-1.222364</td>\n",
       "      <td>-0.343462</td>\n",
       "      <td>-1.108541</td>\n",
       "      <td>-1.266572</td>\n",
       "      <td>-1.736061</td>\n",
       "      <td>-0.007422</td>\n",
       "      <td>-0.368534</td>\n",
       "      <td>0.172017</td>\n",
       "      <td>0.703151</td>\n",
       "      <td>-0.529795</td>\n",
       "    </tr>\n",
       "    <tr>\n",
       "      <th>4</th>\n",
       "      <td>0.833521</td>\n",
       "      <td>1.280830</td>\n",
       "      <td>-0.162353</td>\n",
       "      <td>0.073544</td>\n",
       "      <td>-0.794877</td>\n",
       "      <td>0.153426</td>\n",
       "      <td>0.695804</td>\n",
       "      <td>-0.905623</td>\n",
       "      <td>-1.018057</td>\n",
       "      <td>-1.388949</td>\n",
       "      <td>0.125499</td>\n",
       "      <td>1.170302</td>\n",
       "      <td>-0.529795</td>\n",
       "    </tr>\n",
       "  </tbody>\n",
       "</table>\n",
       "</div>"
      ],
      "text/plain": [
       "    MinTemp   MaxTemp  Rainfall  WindGustSpeed  WindSpeed9am  WindSpeed3pm  \\\n",
       "0  0.189447 -0.045336 -0.210072       0.302234      0.672222      0.612323   \n",
       "1 -0.753101  0.265043 -0.281650       0.302234     -1.133438      0.382874   \n",
       "2  0.110901  0.349692 -0.281650       0.454694      0.559368      0.841771   \n",
       "3 -0.470337  0.674180 -0.281650      -1.222364     -0.343462     -1.108541   \n",
       "4  0.833521  1.280830 -0.162353       0.073544     -0.794877      0.153426   \n",
       "\n",
       "   Humidity9am  Humidity3pm  Pressure9am  Pressure3pm   Temp9am   Temp3pm  \\\n",
       "0     0.112395    -1.442965    -1.478788    -1.223882 -0.014053  0.017023   \n",
       "1    -1.319609    -1.296417    -1.047782    -1.118839  0.032464  0.381985   \n",
       "2    -1.637832    -1.052171    -1.493650    -0.983784  0.621685  0.221402   \n",
       "3    -1.266572    -1.736061    -0.007422    -0.368534  0.172017  0.703151   \n",
       "4     0.695804    -0.905623    -1.018057    -1.388949  0.125499  1.170302   \n",
       "\n",
       "       RTod  \n",
       "0 -0.529795  \n",
       "1 -0.529795  \n",
       "2 -0.529795  \n",
       "3 -0.529795  \n",
       "4 -0.529795  "
      ]
     },
     "execution_count": 78,
     "metadata": {},
     "output_type": "execute_result"
    }
   ],
   "source": [
    "df_feat.head()"
   ]
  },
  {
   "cell_type": "code",
   "execution_count": 66,
   "metadata": {},
   "outputs": [],
   "source": [
    "from sklearn.model_selection import train_test_split"
   ]
  },
  {
   "cell_type": "code",
   "execution_count": 79,
   "metadata": {},
   "outputs": [],
   "source": [
    "X=df_feat\n",
    "y=data[\"RTom\"]\n",
    "X_train, X_test, y_train, y_test = train_test_split(X, y, test_size=0.33, random_state=42)"
   ]
  },
  {
   "cell_type": "code",
   "execution_count": 68,
   "metadata": {},
   "outputs": [],
   "source": [
    "from sklearn.neighbors import KNeighborsClassifier"
   ]
  },
  {
   "cell_type": "code",
   "execution_count": 80,
   "metadata": {},
   "outputs": [],
   "source": [
    "knn=KNeighborsClassifier(n_neighbors=2)"
   ]
  },
  {
   "cell_type": "code",
   "execution_count": 81,
   "metadata": {},
   "outputs": [
    {
     "data": {
      "text/plain": [
       "KNeighborsClassifier(n_neighbors=2)"
      ]
     },
     "execution_count": 81,
     "metadata": {},
     "output_type": "execute_result"
    }
   ],
   "source": [
    "knn.fit(X_train,y_train)"
   ]
  },
  {
   "cell_type": "code",
   "execution_count": 82,
   "metadata": {},
   "outputs": [],
   "source": [
    "pred=knn.predict(X_test)"
   ]
  },
  {
   "cell_type": "code",
   "execution_count": 72,
   "metadata": {},
   "outputs": [],
   "source": [
    "from sklearn.metrics import classification_report,confusion_matrix"
   ]
  },
  {
   "cell_type": "code",
   "execution_count": 83,
   "metadata": {},
   "outputs": [
    {
     "name": "stdout",
     "output_type": "stream",
     "text": [
      "[[35867  1500]\n",
      " [ 7308  3327]]\n",
      "\n",
      "\n",
      "              precision    recall  f1-score   support\n",
      "\n",
      "           0       0.83      0.96      0.89     37367\n",
      "           1       0.69      0.31      0.43     10635\n",
      "\n",
      "    accuracy                           0.82     48002\n",
      "   macro avg       0.76      0.64      0.66     48002\n",
      "weighted avg       0.80      0.82      0.79     48002\n",
      "\n"
     ]
    }
   ],
   "source": [
    "print(confusion_matrix(y_test,pred))\n",
    "print(\"\\n\")\n",
    "print(classification_report(y_test,pred))"
   ]
  },
  {
   "cell_type": "code",
   "execution_count": null,
   "metadata": {},
   "outputs": [],
   "source": [
    "error_rate=[]\n",
    "for i in range(1,40):\n",
    "    knn=KNeighborsClassifier(n_neighbors=i)\n",
    "    knn.fit(X_train,y_train)\n",
    "    pred_i=knn.predict(X_test)\n",
    "    error_rate.append(np.mean(pred_i!=y_test))"
   ]
  },
  {
   "cell_type": "code",
   "execution_count": null,
   "metadata": {},
   "outputs": [],
   "source": []
  }
 ],
 "metadata": {
  "kernelspec": {
   "display_name": "Python 3",
   "language": "python",
   "name": "python3"
  },
  "language_info": {
   "codemirror_mode": {
    "name": "ipython",
    "version": 3
   },
   "file_extension": ".py",
   "mimetype": "text/x-python",
   "name": "python",
   "nbconvert_exporter": "python",
   "pygments_lexer": "ipython3",
   "version": "3.8.5"
  }
 },
 "nbformat": 4,
 "nbformat_minor": 4
}
